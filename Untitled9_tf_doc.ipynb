{
  "nbformat": 4,
  "nbformat_minor": 0,
  "metadata": {
    "colab": {
      "name": " Untitled9 tf doc.ipynb",
      "provenance": [],
      "collapsed_sections": [],
      "authorship_tag": "ABX9TyOVAFp+lzZ1wAIifryF23ii",
      "include_colab_link": true
    },
    "kernelspec": {
      "name": "python3",
      "display_name": "Python 3"
    },
    "language_info": {
      "name": "python"
    },
    "accelerator": "TPU",
    "gpuClass": "standard"
  },
  "cells": [
    {
      "cell_type": "markdown",
      "metadata": {
        "id": "view-in-github",
        "colab_type": "text"
      },
      "source": [
        "<a href=\"https://colab.research.google.com/github/Chirag314/Time-series-multistep/blob/main/Untitled9_tf_doc.ipynb\" target=\"_parent\"><img src=\"https://colab.research.google.com/assets/colab-badge.svg\" alt=\"Open In Colab\"/></a>"
      ]
    },
    {
      "cell_type": "code",
      "execution_count": 26,
      "metadata": {
        "id": "rNizq_QIGedf"
      },
      "outputs": [],
      "source": [
        "import urllib\n",
        "import zipfile\n",
        "\n",
        "import pandas as pd\n",
        "import tensorflow as tf\n",
        "import tensorflow as tf\n",
        "from tensorflow import keras\n",
        "import numpy as np\n",
        "import matplotlib.pyplot as plt\n",
        "%matplotlib inline\n",
        "\n",
        "# This function downloads and extracts the dataset to the directory that\n",
        "# contains this file.\n",
        "# DO NOT CHANGE THIS CODE\n",
        "# (unless you need to change https to http)\n",
        "def download_and_extract_data():\n",
        "    url = 'https://storage.googleapis.com/download.tensorflow.org/data/certificate/household_power.zip'\n",
        "    urllib.request.urlretrieve(url, 'household_power.zip')\n",
        "    with zipfile.ZipFile('household_power.zip', 'r') as zip_ref:\n",
        "        zip_ref.extractall()\n",
        "\n",
        "\n",
        "# This function normalizes the dataset using min max scaling.\n",
        "# DO NOT CHANGE THIS CODE\n",
        "def normalize_series(data, min, max):\n",
        "    data = data - min\n",
        "    data = data / max\n",
        "    return data\n",
        "#Denormalize\n",
        "def denormalize_series(data, min, max):\n",
        "    data = (data*max) + min\n",
        "    return data\n",
        "\n",
        "# This function is used to map the time series dataset into windows of\n",
        "# features and respective targets, to prepare it for training and\n",
        "# validation. First element of the first window will be the first element of\n",
        "# the dataset. Consecutive windows are constructed by shifting\n",
        "# the starting position of the first window forward, one at a time (indicated\n",
        "# by shift=1). For a window of n_past number of observations of all the time\n",
        "# indexed variables in the dataset, the target for the window\n",
        "# is the next n_future number of observations of these variables, after the\n",
        "# end of the window.\n",
        "\n",
        "# DO NOT CHANGE THIS CODE\n",
        "def windowed_dataset(series, batch_size, n_past=24, n_future=24, shift=1):\n",
        "    ds = tf.data.Dataset.from_tensor_slices(series)\n",
        "    ds = ds.window(size=n_past + n_future, shift=shift, drop_remainder=True)\n",
        "    ds = ds.flat_map(lambda w: w.batch(n_past + n_future))\n",
        "    ds = ds.map(lambda w: (w[:n_past], w[n_past:]))\n",
        "    return ds.batch(batch_size).prefetch(1)\n",
        "\n",
        "\n"
      ]
    },
    {
      "cell_type": "code",
      "source": [
        "download_and_extract_data()\n",
        "    # Reads the dataset from the CSV.\n",
        "df = pd.read_csv('household_power_consumption.csv', sep=',',\n",
        "                     infer_datetime_format=True, index_col='datetime', header=0)"
      ],
      "metadata": {
        "id": "D6pIK-qUGiDy"
      },
      "execution_count": 2,
      "outputs": []
    },
    {
      "cell_type": "code",
      "source": [
        "len(df)"
      ],
      "metadata": {
        "colab": {
          "base_uri": "https://localhost:8080/"
        },
        "id": "N2ghouUXoSk0",
        "outputId": "9e0c03c8-e479-41ef-e869-665ec2ca2d90"
      },
      "execution_count": 3,
      "outputs": [
        {
          "output_type": "execute_result",
          "data": {
            "text/plain": [
              "86400"
            ]
          },
          "metadata": {},
          "execution_count": 3
        }
      ]
    },
    {
      "cell_type": "code",
      "source": [
        "df.head()"
      ],
      "metadata": {
        "colab": {
          "base_uri": "https://localhost:8080/",
          "height": 238
        },
        "id": "ZcNfmRhctken",
        "outputId": "1bd31b87-1534-42ad-b5bc-9d73b6a7f5a4"
      },
      "execution_count": 4,
      "outputs": [
        {
          "output_type": "execute_result",
          "data": {
            "text/plain": [
              "                     Global_active_power  Global_reactive_power  Voltage  \\\n",
              "datetime                                                                   \n",
              "2006-12-16 17:24:00                4.216                  0.418   234.84   \n",
              "2006-12-16 17:25:00                5.360                  0.436   233.63   \n",
              "2006-12-16 17:26:00                5.374                  0.498   233.29   \n",
              "2006-12-16 17:27:00                5.388                  0.502   233.74   \n",
              "2006-12-16 17:28:00                3.666                  0.528   235.68   \n",
              "\n",
              "                     Global_intensity  Sub_metering_1  Sub_metering_2  \\\n",
              "datetime                                                                \n",
              "2006-12-16 17:24:00              18.4             0.0             1.0   \n",
              "2006-12-16 17:25:00              23.0             0.0             1.0   \n",
              "2006-12-16 17:26:00              23.0             0.0             2.0   \n",
              "2006-12-16 17:27:00              23.0             0.0             1.0   \n",
              "2006-12-16 17:28:00              15.8             0.0             1.0   \n",
              "\n",
              "                     Sub_metering_3  \n",
              "datetime                             \n",
              "2006-12-16 17:24:00            17.0  \n",
              "2006-12-16 17:25:00            16.0  \n",
              "2006-12-16 17:26:00            17.0  \n",
              "2006-12-16 17:27:00            17.0  \n",
              "2006-12-16 17:28:00            17.0  "
            ],
            "text/html": [
              "\n",
              "  <div id=\"df-fd5dba39-07ec-4356-ae6b-17e1b684386a\">\n",
              "    <div class=\"colab-df-container\">\n",
              "      <div>\n",
              "<style scoped>\n",
              "    .dataframe tbody tr th:only-of-type {\n",
              "        vertical-align: middle;\n",
              "    }\n",
              "\n",
              "    .dataframe tbody tr th {\n",
              "        vertical-align: top;\n",
              "    }\n",
              "\n",
              "    .dataframe thead th {\n",
              "        text-align: right;\n",
              "    }\n",
              "</style>\n",
              "<table border=\"1\" class=\"dataframe\">\n",
              "  <thead>\n",
              "    <tr style=\"text-align: right;\">\n",
              "      <th></th>\n",
              "      <th>Global_active_power</th>\n",
              "      <th>Global_reactive_power</th>\n",
              "      <th>Voltage</th>\n",
              "      <th>Global_intensity</th>\n",
              "      <th>Sub_metering_1</th>\n",
              "      <th>Sub_metering_2</th>\n",
              "      <th>Sub_metering_3</th>\n",
              "    </tr>\n",
              "    <tr>\n",
              "      <th>datetime</th>\n",
              "      <th></th>\n",
              "      <th></th>\n",
              "      <th></th>\n",
              "      <th></th>\n",
              "      <th></th>\n",
              "      <th></th>\n",
              "      <th></th>\n",
              "    </tr>\n",
              "  </thead>\n",
              "  <tbody>\n",
              "    <tr>\n",
              "      <th>2006-12-16 17:24:00</th>\n",
              "      <td>4.216</td>\n",
              "      <td>0.418</td>\n",
              "      <td>234.84</td>\n",
              "      <td>18.4</td>\n",
              "      <td>0.0</td>\n",
              "      <td>1.0</td>\n",
              "      <td>17.0</td>\n",
              "    </tr>\n",
              "    <tr>\n",
              "      <th>2006-12-16 17:25:00</th>\n",
              "      <td>5.360</td>\n",
              "      <td>0.436</td>\n",
              "      <td>233.63</td>\n",
              "      <td>23.0</td>\n",
              "      <td>0.0</td>\n",
              "      <td>1.0</td>\n",
              "      <td>16.0</td>\n",
              "    </tr>\n",
              "    <tr>\n",
              "      <th>2006-12-16 17:26:00</th>\n",
              "      <td>5.374</td>\n",
              "      <td>0.498</td>\n",
              "      <td>233.29</td>\n",
              "      <td>23.0</td>\n",
              "      <td>0.0</td>\n",
              "      <td>2.0</td>\n",
              "      <td>17.0</td>\n",
              "    </tr>\n",
              "    <tr>\n",
              "      <th>2006-12-16 17:27:00</th>\n",
              "      <td>5.388</td>\n",
              "      <td>0.502</td>\n",
              "      <td>233.74</td>\n",
              "      <td>23.0</td>\n",
              "      <td>0.0</td>\n",
              "      <td>1.0</td>\n",
              "      <td>17.0</td>\n",
              "    </tr>\n",
              "    <tr>\n",
              "      <th>2006-12-16 17:28:00</th>\n",
              "      <td>3.666</td>\n",
              "      <td>0.528</td>\n",
              "      <td>235.68</td>\n",
              "      <td>15.8</td>\n",
              "      <td>0.0</td>\n",
              "      <td>1.0</td>\n",
              "      <td>17.0</td>\n",
              "    </tr>\n",
              "  </tbody>\n",
              "</table>\n",
              "</div>\n",
              "      <button class=\"colab-df-convert\" onclick=\"convertToInteractive('df-fd5dba39-07ec-4356-ae6b-17e1b684386a')\"\n",
              "              title=\"Convert this dataframe to an interactive table.\"\n",
              "              style=\"display:none;\">\n",
              "        \n",
              "  <svg xmlns=\"http://www.w3.org/2000/svg\" height=\"24px\"viewBox=\"0 0 24 24\"\n",
              "       width=\"24px\">\n",
              "    <path d=\"M0 0h24v24H0V0z\" fill=\"none\"/>\n",
              "    <path d=\"M18.56 5.44l.94 2.06.94-2.06 2.06-.94-2.06-.94-.94-2.06-.94 2.06-2.06.94zm-11 1L8.5 8.5l.94-2.06 2.06-.94-2.06-.94L8.5 2.5l-.94 2.06-2.06.94zm10 10l.94 2.06.94-2.06 2.06-.94-2.06-.94-.94-2.06-.94 2.06-2.06.94z\"/><path d=\"M17.41 7.96l-1.37-1.37c-.4-.4-.92-.59-1.43-.59-.52 0-1.04.2-1.43.59L10.3 9.45l-7.72 7.72c-.78.78-.78 2.05 0 2.83L4 21.41c.39.39.9.59 1.41.59.51 0 1.02-.2 1.41-.59l7.78-7.78 2.81-2.81c.8-.78.8-2.07 0-2.86zM5.41 20L4 18.59l7.72-7.72 1.47 1.35L5.41 20z\"/>\n",
              "  </svg>\n",
              "      </button>\n",
              "      \n",
              "  <style>\n",
              "    .colab-df-container {\n",
              "      display:flex;\n",
              "      flex-wrap:wrap;\n",
              "      gap: 12px;\n",
              "    }\n",
              "\n",
              "    .colab-df-convert {\n",
              "      background-color: #E8F0FE;\n",
              "      border: none;\n",
              "      border-radius: 50%;\n",
              "      cursor: pointer;\n",
              "      display: none;\n",
              "      fill: #1967D2;\n",
              "      height: 32px;\n",
              "      padding: 0 0 0 0;\n",
              "      width: 32px;\n",
              "    }\n",
              "\n",
              "    .colab-df-convert:hover {\n",
              "      background-color: #E2EBFA;\n",
              "      box-shadow: 0px 1px 2px rgba(60, 64, 67, 0.3), 0px 1px 3px 1px rgba(60, 64, 67, 0.15);\n",
              "      fill: #174EA6;\n",
              "    }\n",
              "\n",
              "    [theme=dark] .colab-df-convert {\n",
              "      background-color: #3B4455;\n",
              "      fill: #D2E3FC;\n",
              "    }\n",
              "\n",
              "    [theme=dark] .colab-df-convert:hover {\n",
              "      background-color: #434B5C;\n",
              "      box-shadow: 0px 1px 3px 1px rgba(0, 0, 0, 0.15);\n",
              "      filter: drop-shadow(0px 1px 2px rgba(0, 0, 0, 0.3));\n",
              "      fill: #FFFFFF;\n",
              "    }\n",
              "  </style>\n",
              "\n",
              "      <script>\n",
              "        const buttonEl =\n",
              "          document.querySelector('#df-fd5dba39-07ec-4356-ae6b-17e1b684386a button.colab-df-convert');\n",
              "        buttonEl.style.display =\n",
              "          google.colab.kernel.accessAllowed ? 'block' : 'none';\n",
              "\n",
              "        async function convertToInteractive(key) {\n",
              "          const element = document.querySelector('#df-fd5dba39-07ec-4356-ae6b-17e1b684386a');\n",
              "          const dataTable =\n",
              "            await google.colab.kernel.invokeFunction('convertToInteractive',\n",
              "                                                     [key], {});\n",
              "          if (!dataTable) return;\n",
              "\n",
              "          const docLinkHtml = 'Like what you see? Visit the ' +\n",
              "            '<a target=\"_blank\" href=https://colab.research.google.com/notebooks/data_table.ipynb>data table notebook</a>'\n",
              "            + ' to learn more about interactive tables.';\n",
              "          element.innerHTML = '';\n",
              "          dataTable['output_type'] = 'display_data';\n",
              "          await google.colab.output.renderOutput(dataTable, element);\n",
              "          const docLink = document.createElement('div');\n",
              "          docLink.innerHTML = docLinkHtml;\n",
              "          element.appendChild(docLink);\n",
              "        }\n",
              "      </script>\n",
              "    </div>\n",
              "  </div>\n",
              "  "
            ]
          },
          "metadata": {},
          "execution_count": 4
        }
      ]
    },
    {
      "cell_type": "code",
      "source": [
        "# Check the distribution\n",
        "plt.figure(figsize=(14,6))\n",
        "df.hist(bins=50)\n",
        "plt.title('Global Active Power Distribution')\n",
        "\n",
        "# plt.subplot(1,2,2)\n",
        "# stats.probplot(df['Global_active_power'],plot=plt)\n",
        "# df1.describe().T"
      ],
      "metadata": {
        "colab": {
          "base_uri": "https://localhost:8080/",
          "height": 316
        },
        "id": "lUIoEyesWwrW",
        "outputId": "25750897-70b8-49e4-a785-3edd32c6ab26"
      },
      "execution_count": 5,
      "outputs": [
        {
          "output_type": "execute_result",
          "data": {
            "text/plain": [
              "Text(0.5, 1.0, 'Global Active Power Distribution')"
            ]
          },
          "metadata": {},
          "execution_count": 5
        },
        {
          "output_type": "display_data",
          "data": {
            "text/plain": [
              "<Figure size 1008x432 with 0 Axes>"
            ]
          },
          "metadata": {}
        },
        {
          "output_type": "display_data",
          "data": {
            "text/plain": [
              "<Figure size 432x288 with 9 Axes>"
            ],
            "image/png": "[encoded data removed]"
          },
          "metadata": {
            "needs_background": "light"
          }
        }
      ]
    },
    {
      "cell_type": "code",
      "source": [
        "#Normalize target value\n",
        "#df['Global_active_power']=normalize_series(df['Global_active_power'], df['Global_active_power'].min(), df['Global_active_power'].max())"
      ],
      "metadata": {
        "id": "RQCScQSjVJc-"
      },
      "execution_count": 6,
      "outputs": []
    },
    {
      "cell_type": "code",
      "source": [
        "df['Voltage'].unique()"
      ],
      "metadata": {
        "colab": {
          "base_uri": "https://localhost:8080/"
        },
        "id": "DEQFStLTXXN1",
        "outputId": "f80d93e8-1048-478c-e973-0ed2f1423f94"
      },
      "execution_count": 7,
      "outputs": [
        {
          "output_type": "execute_result",
          "data": {
            "text/plain": [
              "array([234.84, 233.63, 233.29, ..., 231.63, 228.51, 231.79])"
            ]
          },
          "metadata": {},
          "execution_count": 7
        }
      ]
    },
    {
      "cell_type": "code",
      "source": [
        "#Normalize voltage value\n",
        "#df['Voltage']=normalize_series(df['Voltage'], df['Voltage'].min(), df['Voltage'].max())"
      ],
      "metadata": {
        "id": "joLFGABFYAXh"
      },
      "execution_count": 8,
      "outputs": []
    },
    {
      "cell_type": "code",
      "source": [
        "df.head(10)"
      ],
      "metadata": {
        "colab": {
          "base_uri": "https://localhost:8080/",
          "height": 394
        },
        "id": "C-lVP-0eWJzK",
        "outputId": "50610995-a13f-4335-8def-852770273854"
      },
      "execution_count": 9,
      "outputs": [
        {
          "output_type": "execute_result",
          "data": {
            "text/plain": [
              "                     Global_active_power  Global_reactive_power  Voltage  \\\n",
              "datetime                                                                   \n",
              "2006-12-16 17:24:00                4.216                  0.418   234.84   \n",
              "2006-12-16 17:25:00                5.360                  0.436   233.63   \n",
              "2006-12-16 17:26:00                5.374                  0.498   233.29   \n",
              "2006-12-16 17:27:00                5.388                  0.502   233.74   \n",
              "2006-12-16 17:28:00                3.666                  0.528   235.68   \n",
              "2006-12-16 17:29:00                3.520                  0.522   235.02   \n",
              "2006-12-16 17:30:00                3.702                  0.520   235.09   \n",
              "2006-12-16 17:31:00                3.700                  0.520   235.22   \n",
              "2006-12-16 17:32:00                3.668                  0.510   233.99   \n",
              "2006-12-16 17:33:00                3.662                  0.510   233.86   \n",
              "\n",
              "                     Global_intensity  Sub_metering_1  Sub_metering_2  \\\n",
              "datetime                                                                \n",
              "2006-12-16 17:24:00              18.4             0.0             1.0   \n",
              "2006-12-16 17:25:00              23.0             0.0             1.0   \n",
              "2006-12-16 17:26:00              23.0             0.0             2.0   \n",
              "2006-12-16 17:27:00              23.0             0.0             1.0   \n",
              "2006-12-16 17:28:00              15.8             0.0             1.0   \n",
              "2006-12-16 17:29:00              15.0             0.0             2.0   \n",
              "2006-12-16 17:30:00              15.8             0.0             1.0   \n",
              "2006-12-16 17:31:00              15.8             0.0             1.0   \n",
              "2006-12-16 17:32:00              15.8             0.0             1.0   \n",
              "2006-12-16 17:33:00              15.8             0.0             2.0   \n",
              "\n",
              "                     Sub_metering_3  \n",
              "datetime                             \n",
              "2006-12-16 17:24:00            17.0  \n",
              "2006-12-16 17:25:00            16.0  \n",
              "2006-12-16 17:26:00            17.0  \n",
              "2006-12-16 17:27:00            17.0  \n",
              "2006-12-16 17:28:00            17.0  \n",
              "2006-12-16 17:29:00            17.0  \n",
              "2006-12-16 17:30:00            17.0  \n",
              "2006-12-16 17:31:00            17.0  \n",
              "2006-12-16 17:32:00            17.0  \n",
              "2006-12-16 17:33:00            16.0  "
            ],
            "text/html": [
              "\n",
              "  <div id=\"df-b39ed6a5-2021-4dd0-bc5f-bac9e489f9b3\">\n",
              "    <div class=\"colab-df-container\">\n",
              "      <div>\n",
              "<style scoped>\n",
              "    .dataframe tbody tr th:only-of-type {\n",
              "        vertical-align: middle;\n",
              "    }\n",
              "\n",
              "    .dataframe tbody tr th {\n",
              "        vertical-align: top;\n",
              "    }\n",
              "\n",
              "    .dataframe thead th {\n",
              "        text-align: right;\n",
              "    }\n",
              "</style>\n",
              "<table border=\"1\" class=\"dataframe\">\n",
              "  <thead>\n",
              "    <tr style=\"text-align: right;\">\n",
              "      <th></th>\n",
              "      <th>Global_active_power</th>\n",
              "      <th>Global_reactive_power</th>\n",
              "      <th>Voltage</th>\n",
              "      <th>Global_intensity</th>\n",
              "      <th>Sub_metering_1</th>\n",
              "      <th>Sub_metering_2</th>\n",
              "      <th>Sub_metering_3</th>\n",
              "    </tr>\n",
              "    <tr>\n",
              "      <th>datetime</th>\n",
              "      <th></th>\n",
              "      <th></th>\n",
              "      <th></th>\n",
              "      <th></th>\n",
              "      <th></th>\n",
              "      <th></th>\n",
              "      <th></th>\n",
              "    </tr>\n",
              "  </thead>\n",
              "  <tbody>\n",
              "    <tr>\n",
              "      <th>2006-12-16 17:24:00</th>\n",
              "      <td>4.216</td>\n",
              "      <td>0.418</td>\n",
              "      <td>234.84</td>\n",
              "      <td>18.4</td>\n",
              "      <td>0.0</td>\n",
              "      <td>1.0</td>\n",
              "      <td>17.0</td>\n",
              "    </tr>\n",
              "    <tr>\n",
              "      <th>2006-12-16 17:25:00</th>\n",
              "      <td>5.360</td>\n",
              "      <td>0.436</td>\n",
              "      <td>233.63</td>\n",
              "      <td>23.0</td>\n",
              "      <td>0.0</td>\n",
              "      <td>1.0</td>\n",
              "      <td>16.0</td>\n",
              "    </tr>\n",
              "    <tr>\n",
              "      <th>2006-12-16 17:26:00</th>\n",
              "      <td>5.374</td>\n",
              "      <td>0.498</td>\n",
              "      <td>233.29</td>\n",
              "      <td>23.0</td>\n",
              "      <td>0.0</td>\n",
              "      <td>2.0</td>\n",
              "      <td>17.0</td>\n",
              "    </tr>\n",
              "    <tr>\n",
              "      <th>2006-12-16 17:27:00</th>\n",
              "      <td>5.388</td>\n",
              "      <td>0.502</td>\n",
              "      <td>233.74</td>\n",
              "      <td>23.0</td>\n",
              "      <td>0.0</td>\n",
              "      <td>1.0</td>\n",
              "      <td>17.0</td>\n",
              "    </tr>\n",
              "    <tr>\n",
              "      <th>2006-12-16 17:28:00</th>\n",
              "      <td>3.666</td>\n",
              "      <td>0.528</td>\n",
              "      <td>235.68</td>\n",
              "      <td>15.8</td>\n",
              "      <td>0.0</td>\n",
              "      <td>1.0</td>\n",
              "      <td>17.0</td>\n",
              "    </tr>\n",
              "    <tr>\n",
              "      <th>2006-12-16 17:29:00</th>\n",
              "      <td>3.520</td>\n",
              "      <td>0.522</td>\n",
              "      <td>235.02</td>\n",
              "      <td>15.0</td>\n",
              "      <td>0.0</td>\n",
              "      <td>2.0</td>\n",
              "      <td>17.0</td>\n",
              "    </tr>\n",
              "    <tr>\n",
              "      <th>2006-12-16 17:30:00</th>\n",
              "      <td>3.702</td>\n",
              "      <td>0.520</td>\n",
              "      <td>235.09</td>\n",
              "      <td>15.8</td>\n",
              "      <td>0.0</td>\n",
              "      <td>1.0</td>\n",
              "      <td>17.0</td>\n",
              "    </tr>\n",
              "    <tr>\n",
              "      <th>2006-12-16 17:31:00</th>\n",
              "      <td>3.700</td>\n",
              "      <td>0.520</td>\n",
              "      <td>235.22</td>\n",
              "      <td>15.8</td>\n",
              "      <td>0.0</td>\n",
              "      <td>1.0</td>\n",
              "      <td>17.0</td>\n",
              "    </tr>\n",
              "    <tr>\n",
              "      <th>2006-12-16 17:32:00</th>\n",
              "      <td>3.668</td>\n",
              "      <td>0.510</td>\n",
              "      <td>233.99</td>\n",
              "      <td>15.8</td>\n",
              "      <td>0.0</td>\n",
              "      <td>1.0</td>\n",
              "      <td>17.0</td>\n",
              "    </tr>\n",
              "    <tr>\n",
              "      <th>2006-12-16 17:33:00</th>\n",
              "      <td>3.662</td>\n",
              "      <td>0.510</td>\n",
              "      <td>233.86</td>\n",
              "      <td>15.8</td>\n",
              "      <td>0.0</td>\n",
              "      <td>2.0</td>\n",
              "      <td>16.0</td>\n",
              "    </tr>\n",
              "  </tbody>\n",
              "</table>\n",
              "</div>\n",
              "      <button class=\"colab-df-convert\" onclick=\"convertToInteractive('df-b39ed6a5-2021-4dd0-bc5f-bac9e489f9b3')\"\n",
              "              title=\"Convert this dataframe to an interactive table.\"\n",
              "              style=\"display:none;\">\n",
              "        \n",
              "  <svg xmlns=\"http://www.w3.org/2000/svg\" height=\"24px\"viewBox=\"0 0 24 24\"\n",
              "       width=\"24px\">\n",
              "    <path d=\"M0 0h24v24H0V0z\" fill=\"none\"/>\n",
              "    <path d=\"M18.56 5.44l.94 2.06.94-2.06 2.06-.94-2.06-.94-.94-2.06-.94 2.06-2.06.94zm-11 1L8.5 8.5l.94-2.06 2.06-.94-2.06-.94L8.5 2.5l-.94 2.06-2.06.94zm10 10l.94 2.06.94-2.06 2.06-.94-2.06-.94-.94-2.06-.94 2.06-2.06.94z\"/><path d=\"M17.41 7.96l-1.37-1.37c-.4-.4-.92-.59-1.43-.59-.52 0-1.04.2-1.43.59L10.3 9.45l-7.72 7.72c-.78.78-.78 2.05 0 2.83L4 21.41c.39.39.9.59 1.41.59.51 0 1.02-.2 1.41-.59l7.78-7.78 2.81-2.81c.8-.78.8-2.07 0-2.86zM5.41 20L4 18.59l7.72-7.72 1.47 1.35L5.41 20z\"/>\n",
              "  </svg>\n",
              "      </button>\n",
              "      \n",
              "  <style>\n",
              "    .colab-df-container {\n",
              "      display:flex;\n",
              "      flex-wrap:wrap;\n",
              "      gap: 12px;\n",
              "    }\n",
              "\n",
              "    .colab-df-convert {\n",
              "      background-color: #E8F0FE;\n",
              "      border: none;\n",
              "      border-radius: 50%;\n",
              "      cursor: pointer;\n",
              "      display: none;\n",
              "      fill: #1967D2;\n",
              "      height: 32px;\n",
              "      padding: 0 0 0 0;\n",
              "      width: 32px;\n",
              "    }\n",
              "\n",
              "    .colab-df-convert:hover {\n",
              "      background-color: #E2EBFA;\n",
              "      box-shadow: 0px 1px 2px rgba(60, 64, 67, 0.3), 0px 1px 3px 1px rgba(60, 64, 67, 0.15);\n",
              "      fill: #174EA6;\n",
              "    }\n",
              "\n",
              "    [theme=dark] .colab-df-convert {\n",
              "      background-color: #3B4455;\n",
              "      fill: #D2E3FC;\n",
              "    }\n",
              "\n",
              "    [theme=dark] .colab-df-convert:hover {\n",
              "      background-color: #434B5C;\n",
              "      box-shadow: 0px 1px 3px 1px rgba(0, 0, 0, 0.15);\n",
              "      filter: drop-shadow(0px 1px 2px rgba(0, 0, 0, 0.3));\n",
              "      fill: #FFFFFF;\n",
              "    }\n",
              "  </style>\n",
              "\n",
              "      <script>\n",
              "        const buttonEl =\n",
              "          document.querySelector('#df-b39ed6a5-2021-4dd0-bc5f-bac9e489f9b3 button.colab-df-convert');\n",
              "        buttonEl.style.display =\n",
              "          google.colab.kernel.accessAllowed ? 'block' : 'none';\n",
              "\n",
              "        async function convertToInteractive(key) {\n",
              "          const element = document.querySelector('#df-b39ed6a5-2021-4dd0-bc5f-bac9e489f9b3');\n",
              "          const dataTable =\n",
              "            await google.colab.kernel.invokeFunction('convertToInteractive',\n",
              "                                                     [key], {});\n",
              "          if (!dataTable) return;\n",
              "\n",
              "          const docLinkHtml = 'Like what you see? Visit the ' +\n",
              "            '<a target=\"_blank\" href=https://colab.research.google.com/notebooks/data_table.ipynb>data table notebook</a>'\n",
              "            + ' to learn more about interactive tables.';\n",
              "          element.innerHTML = '';\n",
              "          dataTable['output_type'] = 'display_data';\n",
              "          await google.colab.output.renderOutput(dataTable, element);\n",
              "          const docLink = document.createElement('div');\n",
              "          docLink.innerHTML = docLinkHtml;\n",
              "          element.appendChild(docLink);\n",
              "        }\n",
              "      </script>\n",
              "    </div>\n",
              "  </div>\n",
              "  "
            ]
          },
          "metadata": {},
          "execution_count": 9
        }
      ]
    },
    {
      "cell_type": "code",
      "source": [
        "N_FEATURES = len(df.columns) # DO NOT CHANGE THIS\n",
        "\n",
        "    # Normalizes the data\n",
        "data = df.values\n",
        "data = normalize_series(data, data.min(axis=0), data.max(axis=0))\n",
        "\n",
        "    # Splits the data into training and validation sets.\n",
        "SPLIT_TIME = int(len(data) * 0.5) # DO NOT CHANGE THIS\n",
        "x_train = data[:SPLIT_TIME]\n",
        "x_valid = data[SPLIT_TIME:]\n",
        "\n",
        "    # DO NOT CHANGE THIS CODE\n",
        "tf.keras.backend.clear_session()\n",
        "tf.random.set_seed(42)\n",
        "\n",
        "    # DO NOT CHANGE BATCH_SIZE IF YOU ARE USING STATEFUL LSTM/RNN/GRU.\n",
        "    # THE TEST WILL FAIL TO GRADE YOUR SCORE IN SUCH CASES.\n",
        "    # In other cases, it is advised not to change the batch size since it\n",
        "    # might affect your final scores. While setting it to a lower size\n",
        "    # might not do any harm, higher sizes might affect your scores.\n",
        "BATCH_SIZE = 32  # ADVISED NOT TO CHANGE THIS\n",
        "\n",
        "    # DO NOT CHANGE N_PAST, N_FUTURE, SHIFT. The tests will fail to run\n",
        "    # on the server.\n",
        "    # Number of past time steps based on which future observations should be\n",
        "    # predicted\n",
        "N_PAST = 24  # DO NOT CHANGE THIS\n",
        "\n",
        "    # Number of future time steps which are to be predicted.\n",
        "N_FUTURE = 24  # DO NOT CHANGE THIS\n",
        "\n",
        "    # By how many positions the window slides to create a new window\n",
        "    # of observations.\n",
        "SHIFT = 1  # DO NOT CHANGE THIS\n",
        "\n",
        "    # Code to create windowed train and validation datasets.\n",
        "train_set = windowed_dataset(series=x_train, batch_size=BATCH_SIZE,\n",
        "                                 n_past=N_PAST, n_future=N_FUTURE,\n",
        "                                 shift=SHIFT)\n",
        "valid_set = windowed_dataset(series=x_valid, batch_size=BATCH_SIZE,\n",
        "                                 n_past=N_PAST, n_future=N_FUTURE,\n",
        "                                 shift=SHIFT)\n",
        "\n"
      ],
      "metadata": {
        "id": "k1x3RJJtGq-J"
      },
      "execution_count": 10,
      "outputs": []
    },
    {
      "cell_type": "code",
      "source": [
        "x_train.shape"
      ],
      "metadata": {
        "colab": {
          "base_uri": "https://localhost:8080/"
        },
        "id": "uynhu0De1RnB",
        "outputId": "ecf6f6d7-5d6d-4a8f-8b66-f97e4f9a192d"
      },
      "execution_count": 11,
      "outputs": [
        {
          "output_type": "execute_result",
          "data": {
            "text/plain": [
              "(43200, 7)"
            ]
          },
          "metadata": {},
          "execution_count": 11
        }
      ]
    },
    {
      "cell_type": "code",
      "source": [
        "# Check shape of windowed data.\n",
        "train_set.element_spec"
      ],
      "metadata": {
        "colab": {
          "base_uri": "https://localhost:8080/"
        },
        "id": "KBfavwdK0oTg",
        "outputId": "afe444a6-a7ae-4f04-bafb-78c185a9dfc9"
      },
      "execution_count": 12,
      "outputs": [
        {
          "output_type": "execute_result",
          "data": {
            "text/plain": [
              "(TensorSpec(shape=(None, None, 7), dtype=tf.float64, name=None),\n",
              " TensorSpec(shape=(None, None, 7), dtype=tf.float64, name=None))"
            ]
          },
          "metadata": {},
          "execution_count": 12
        }
      ]
    },
    {
      "cell_type": "code",
      "source": [
        "for example_inputs, example_labels in train_set.take(1):\n",
        "  print(f'Inputs shape (batch, time, features): {example_inputs.shape}')\n",
        "  print(f'Labels shape (batch, time, features): {example_labels.shape}')"
      ],
      "metadata": {
        "colab": {
          "base_uri": "https://localhost:8080/"
        },
        "id": "uAGf_13y1z3X",
        "outputId": "bca3a799-d3a4-400f-daeb-7ec946e68eed"
      },
      "execution_count": 13,
      "outputs": [
        {
          "output_type": "stream",
          "name": "stdout",
          "text": [
            "Inputs shape (batch, time, features): (32, 24, 7)\n",
            "Labels shape (batch, time, features): (32, 24, 7)\n"
          ]
        }
      ]
    },
    {
      "cell_type": "code",
      "source": [
        "valid_set.element_spec"
      ],
      "metadata": {
        "colab": {
          "base_uri": "https://localhost:8080/"
        },
        "id": "nHmnX1qU1Zzm",
        "outputId": "2076dcb4-5c2f-4550-ddcd-5588ea21dc9e"
      },
      "execution_count": 14,
      "outputs": [
        {
          "output_type": "execute_result",
          "data": {
            "text/plain": [
              "(TensorSpec(shape=(None, None, 7), dtype=tf.float64, name=None),\n",
              " TensorSpec(shape=(None, None, 7), dtype=tf.float64, name=None))"
            ]
          },
          "metadata": {},
          "execution_count": 14
        }
      ]
    },
    {
      "cell_type": "code",
      "source": [
        "for element in train_set:\n",
        "  print(element)\n",
        "  import sys\n",
        "  sys.exit()"
      ],
      "metadata": {
        "colab": {
          "base_uri": "https://localhost:8080/",
          "height": 1000
        },
        "id": "YNcPSPuwVk0o",
        "outputId": "433dae27-4300-4526-9431-2181c965af6d"
      },
      "execution_count": 15,
      "outputs": [
        {
          "output_type": "stream",
          "name": "stdout",
          "text": [
            "(<tf.Tensor: shape=(32, 24, 7), dtype=float64, numpy=\n",
            "array([[[0.43377912, 0.47826087, 0.04036551, ..., 0.        ,\n",
            "         0.01282051, 0.85      ],\n",
            "        [0.55716135, 0.49885584, 0.0355582 , ..., 0.        ,\n",
            "         0.01282051, 0.8       ],\n",
            "        [0.55867127, 0.56979405, 0.03420739, ..., 0.        ,\n",
            "         0.02564103, 0.85      ],\n",
            "        ...,\n",
            "        [0.81018119, 0.        , 0.0250298 , ..., 0.        ,\n",
            "         0.        , 0.85      ],\n",
            "        [0.73684211, 0.        , 0.02991657, ..., 0.        ,\n",
            "         0.        , 0.8       ],\n",
            "        [0.53710095, 0.        , 0.03778308, ..., 0.        ,\n",
            "         0.        , 0.85      ]],\n",
            "\n",
            "       [[0.55716135, 0.49885584, 0.0355582 , ..., 0.        ,\n",
            "         0.01282051, 0.8       ],\n",
            "        [0.55867127, 0.56979405, 0.03420739, ..., 0.        ,\n",
            "         0.02564103, 0.85      ],\n",
            "        [0.56018119, 0.57437071, 0.03599523, ..., 0.        ,\n",
            "         0.01282051, 0.85      ],\n",
            "        ...,\n",
            "        [0.73684211, 0.        , 0.02991657, ..., 0.        ,\n",
            "         0.        , 0.8       ],\n",
            "        [0.53710095, 0.        , 0.03778308, ..., 0.        ,\n",
            "         0.        , 0.85      ],\n",
            "        [0.46160483, 0.        , 0.04084227, ..., 0.        ,\n",
            "         0.        , 0.85      ]],\n",
            "\n",
            "       [[0.55867127, 0.56979405, 0.03420739, ..., 0.        ,\n",
            "         0.02564103, 0.85      ],\n",
            "        [0.56018119, 0.57437071, 0.03599523, ..., 0.        ,\n",
            "         0.01282051, 0.85      ],\n",
            "        [0.37446074, 0.60411899, 0.04370282, ..., 0.        ,\n",
            "         0.01282051, 0.85      ],\n",
            "        ...,\n",
            "        [0.53710095, 0.        , 0.03778308, ..., 0.        ,\n",
            "         0.        , 0.85      ],\n",
            "        [0.46160483, 0.        , 0.04084227, ..., 0.        ,\n",
            "         0.        , 0.85      ],\n",
            "        [0.32937877, 0.        , 0.04759634, ..., 0.        ,\n",
            "         0.        , 0.85      ]],\n",
            "\n",
            "       ...,\n",
            "\n",
            "       [[0.32182916, 0.        , 0.04211363, ..., 0.        ,\n",
            "         0.        , 0.85      ],\n",
            "        [0.27243313, 0.        , 0.04123957, ..., 0.        ,\n",
            "         0.        , 0.85      ],\n",
            "        [0.38438309, 0.08695652, 0.03770362, ..., 0.        ,\n",
            "         0.        , 0.85      ],\n",
            "        ...,\n",
            "        [0.2366264 , 0.18077803, 0.04998014, ..., 0.        ,\n",
            "         0.01282051, 0.85      ],\n",
            "        [0.47497843, 0.11441648, 0.03802145, ..., 0.        ,\n",
            "         0.25641026, 0.85      ],\n",
            "        [0.46699741, 0.08695652, 0.0378228 , ..., 0.        ,\n",
            "         0.11538462, 0.85      ]],\n",
            "\n",
            "       [[0.27243313, 0.        , 0.04123957, ..., 0.        ,\n",
            "         0.        , 0.85      ],\n",
            "        [0.38438309, 0.08695652, 0.03770362, ..., 0.        ,\n",
            "         0.        , 0.85      ],\n",
            "        [0.44736842, 0.10297483, 0.03611442, ..., 0.        ,\n",
            "         0.        , 0.8       ],\n",
            "        ...,\n",
            "        [0.47497843, 0.11441648, 0.03802145, ..., 0.        ,\n",
            "         0.25641026, 0.85      ],\n",
            "        [0.46699741, 0.08695652, 0.0378228 , ..., 0.        ,\n",
            "         0.11538462, 0.85      ],\n",
            "        [0.4322692 , 0.09382151, 0.03825983, ..., 0.        ,\n",
            "         0.01282051, 0.85      ]],\n",
            "\n",
            "       [[0.38438309, 0.08695652, 0.03770362, ..., 0.        ,\n",
            "         0.        , 0.85      ],\n",
            "        [0.44736842, 0.10297483, 0.03611442, ..., 0.        ,\n",
            "         0.        , 0.8       ],\n",
            "        [0.46570319, 0.        , 0.03551847, ..., 0.        ,\n",
            "         0.        , 0.85      ],\n",
            "        ...,\n",
            "        [0.46699741, 0.08695652, 0.0378228 , ..., 0.        ,\n",
            "         0.11538462, 0.85      ],\n",
            "        [0.4322692 , 0.09382151, 0.03825983, ..., 0.        ,\n",
            "         0.01282051, 0.85      ],\n",
            "        [0.46138913, 0.        , 0.03420739, ..., 0.        ,\n",
            "         0.01282051, 0.8       ]]])>, <tf.Tensor: shape=(32, 24, 7), dtype=float64, numpy=\n",
            "array([[[0.46160483, 0.        , 0.04084227, ..., 0.        ,\n",
            "         0.        , 0.85      ],\n",
            "        [0.32937877, 0.        , 0.04759634, ..., 0.        ,\n",
            "         0.        , 0.85      ],\n",
            "        [0.32808456, 0.        , 0.0443385 , ..., 0.        ,\n",
            "         0.        , 0.85      ],\n",
            "        ...,\n",
            "        [0.46052632, 0.15560641, 0.03965038, ..., 0.        ,\n",
            "         0.47435897, 0.8       ],\n",
            "        [0.34534081, 0.16933638, 0.04576877, ..., 0.        ,\n",
            "         0.28205128, 0.9       ],\n",
            "        [0.31233822, 0.17391304, 0.04922527, ..., 0.        ,\n",
            "         0.15384615, 0.85      ]],\n",
            "\n",
            "       [[0.32937877, 0.        , 0.04759634, ..., 0.        ,\n",
            "         0.        , 0.85      ],\n",
            "        [0.32808456, 0.        , 0.0443385 , ..., 0.        ,\n",
            "         0.        , 0.85      ],\n",
            "        [0.32722174, 0.        , 0.04338498, ..., 0.        ,\n",
            "         0.        , 0.85      ],\n",
            "        ...,\n",
            "        [0.34534081, 0.16933638, 0.04576877, ..., 0.        ,\n",
            "         0.28205128, 0.9       ],\n",
            "        [0.31233822, 0.17391304, 0.04922527, ..., 0.        ,\n",
            "         0.15384615, 0.85      ],\n",
            "        [0.38136324, 0.16475973, 0.04410012, ..., 0.        ,\n",
            "         0.34615385, 0.85      ]],\n",
            "\n",
            "       [[0.32808456, 0.        , 0.0443385 , ..., 0.        ,\n",
            "         0.        , 0.85      ],\n",
            "        [0.32722174, 0.        , 0.04338498, ..., 0.        ,\n",
            "         0.        , 0.85      ],\n",
            "        [0.33045729, 0.        , 0.04294795, ..., 0.        ,\n",
            "         0.        , 0.85      ],\n",
            "        ...,\n",
            "        [0.31233822, 0.17391304, 0.04922527, ..., 0.        ,\n",
            "         0.15384615, 0.85      ],\n",
            "        [0.38136324, 0.16475973, 0.04410012, ..., 0.        ,\n",
            "         0.34615385, 0.85      ],\n",
            "        [0.22799827, 0.18306636, 0.05065554, ..., 0.        ,\n",
            "         0.01282051, 0.85      ]],\n",
            "\n",
            "       ...,\n",
            "\n",
            "       [[0.4322692 , 0.09382151, 0.03825983, ..., 0.        ,\n",
            "         0.01282051, 0.85      ],\n",
            "        [0.46138913, 0.        , 0.03420739, ..., 0.        ,\n",
            "         0.01282051, 0.8       ],\n",
            "        [0.28666954, 0.        , 0.04342471, ..., 0.        ,\n",
            "         0.01282051, 0.85      ],\n",
            "        ...,\n",
            "        [0.29314064, 0.05491991, 0.03710767, ..., 0.        ,\n",
            "         0.01282051, 0.85      ],\n",
            "        [0.2299396 , 0.0617849 , 0.04004768, ..., 0.        ,\n",
            "         0.01282051, 0.85      ],\n",
            "        [0.2232528 , 0.0617849 , 0.03969011, ..., 0.        ,\n",
            "         0.01282051, 0.85      ]],\n",
            "\n",
            "       [[0.46138913, 0.        , 0.03420739, ..., 0.        ,\n",
            "         0.01282051, 0.8       ],\n",
            "        [0.28666954, 0.        , 0.04342471, ..., 0.        ,\n",
            "         0.01282051, 0.85      ],\n",
            "        [0.29486626, 0.        , 0.04199444, ..., 0.        ,\n",
            "         0.01282051, 0.85      ],\n",
            "        ...,\n",
            "        [0.2299396 , 0.0617849 , 0.04004768, ..., 0.        ,\n",
            "         0.01282051, 0.85      ],\n",
            "        [0.2232528 , 0.0617849 , 0.03969011, ..., 0.        ,\n",
            "         0.01282051, 0.85      ],\n",
            "        [0.22389991, 0.0617849 , 0.0420739 , ..., 0.        ,\n",
            "         0.01282051, 0.85      ]],\n",
            "\n",
            "       [[0.28666954, 0.        , 0.04342471, ..., 0.        ,\n",
            "         0.01282051, 0.85      ],\n",
            "        [0.29486626, 0.        , 0.04199444, ..., 0.        ,\n",
            "         0.01282051, 0.85      ],\n",
            "        [0.29616048, 0.        , 0.04513309, ..., 0.        ,\n",
            "         0.02564103, 0.85      ],\n",
            "        ...,\n",
            "        [0.2232528 , 0.0617849 , 0.03969011, ..., 0.        ,\n",
            "         0.01282051, 0.85      ],\n",
            "        [0.22389991, 0.0617849 , 0.0420739 , ..., 0.        ,\n",
            "         0.01282051, 0.85      ],\n",
            "        [0.22260569, 0.0617849 , 0.04147795, ..., 0.        ,\n",
            "         0.01282051, 0.85      ]]])>)\n"
          ]
        },
        {
          "output_type": "error",
          "ename": "SystemExit",
          "evalue": "ignored",
          "traceback": [
            "An exception has occurred, use %tb to see the full traceback.\n",
            "\u001b[0;31mSystemExit\u001b[0m\n"
          ]
        },
        {
          "output_type": "stream",
          "name": "stderr",
          "text": [
            "/usr/local/lib/python3.7/dist-packages/IPython/core/interactiveshell.py:2890: UserWarning: To exit: use 'exit', 'quit', or Ctrl-D.\n",
            "  warn(\"To exit: use 'exit', 'quit', or Ctrl-D.\", stacklevel=1)\n"
          ]
        }
      ]
    },
    {
      "cell_type": "code",
      "source": [
        "model = tf.keras.models.Sequential([\n",
        "\n",
        "        # ADD YOUR LAYERS HERE.\n",
        "\n",
        "        tf.keras.layers.LSTM(32, return_sequences=False,input_shape=[24,7]),\n",
        "        tf.keras.layers.Dense(512, activation='relu'),\n",
        "        tf.keras.layers.Dense(N_FUTURE*N_FEATURES,\n",
        "                          kernel_initializer=tf.initializers.zeros()),\n",
        "        tf.keras.layers.Reshape([N_FUTURE, N_FEATURES]),\n",
        "\n",
        "        # If you don't follow the instructions in the following comments,\n",
        "        # tests will fail to grade your code:\n",
        "        # The input layer of your model must have an input shape of:\n",
        "        # (BATCH_SIZE, N_PAST = 24, N_FEATURES = 7)\n",
        "        # The model must have an output shape of:\n",
        "        # (BATCH_SIZE, N_FUTURE = 24, N_FEATURES = 7).\n",
        "        # Make sure that there are N_FEATURES = 7 neurons in the final dense\n",
        "        # layer since the model predicts 7 features.\n",
        "\n",
        "        # HINT: Bidirectional LSTMs may help boost your score. This is only a\n",
        "        # suggestion.\n",
        "\n",
        "        # WARNING: If you are using the GRU layer, it is advised not to use the\n",
        "        # recurrent_dropout argument (you can alternatively set it to 0),\n",
        "        # since it has not been implemented in the cuDNN kernel and may\n",
        "        # result in much longer training times.\n",
        "        tf.keras.layers.Dense(7)\n",
        "        \n",
        "    ])"
      ],
      "metadata": {
        "id": "YboKRVYMHmjc"
      },
      "execution_count": 16,
      "outputs": []
    },
    {
      "cell_type": "code",
      "source": [
        "model.summary()"
      ],
      "metadata": {
        "colab": {
          "base_uri": "https://localhost:8080/"
        },
        "id": "NN7mdFpAJ34Y",
        "outputId": "316fe27b-b6b7-4a5f-e567-99e987492a08"
      },
      "execution_count": 17,
      "outputs": [
        {
          "output_type": "stream",
          "name": "stdout",
          "text": [
            "Model: \"sequential\"\n",
            "_________________________________________________________________\n",
            " Layer (type)                Output Shape              Param #   \n",
            "=================================================================\n",
            " lstm (LSTM)                 (None, 32)                5120      \n",
            "                                                                 \n",
            " dense (Dense)               (None, 512)               16896     \n",
            "                                                                 \n",
            " dense_1 (Dense)             (None, 168)               86184     \n",
            "                                                                 \n",
            " reshape (Reshape)           (None, 24, 7)             0         \n",
            "                                                                 \n",
            " dense_2 (Dense)             (None, 24, 7)             56        \n",
            "                                                                 \n",
            "=================================================================\n",
            "Total params: 108,256\n",
            "Trainable params: 108,256\n",
            "Non-trainable params: 0\n",
            "_________________________________________________________________\n"
          ]
        }
      ]
    },
    {
      "cell_type": "code",
      "source": [
        "early_stopping = tf.keras.callbacks.EarlyStopping(monitor='val_loss', patience=3, restore_best_weights=True)\n",
        "cvlog=tf.keras.callbacks.CSVLogger('his.csv')\n",
        "model.compile(\n",
        "        # YOUR CODE HERE\n",
        "         loss=\"mse\", optimizer = tf.keras.optimizers.SGD(learning_rate=1e-5),metrics=[tf.metrics.MeanAbsoluteError()]\n",
        "    )"
      ],
      "metadata": {
        "id": "WkT992usHoV6"
      },
      "execution_count": 18,
      "outputs": []
    },
    {
      "cell_type": "code",
      "source": [
        "history=model.fit(\n",
        "        # YOUR CODE HERE\n",
        "        train_set, epochs=20,validation_data=valid_set, callbacks=[ early_stopping, cvlog], verbose=1\n",
        "    )"
      ],
      "metadata": {
        "colab": {
          "base_uri": "https://localhost:8080/"
        },
        "id": "Mcg7La_JHuJN",
        "outputId": "3c182e4b-07b8-4426-fd29-dd9d6c600023"
      },
      "execution_count": 19,
      "outputs": [
        {
          "output_type": "stream",
          "name": "stdout",
          "text": [
            "Epoch 1/20\n",
            "1349/1349 [==============================] - 48s 32ms/step - loss: 0.0678 - mean_absolute_error: 0.1351 - val_loss: 0.0685 - val_mean_absolute_error: 0.1322\n",
            "Epoch 2/20\n",
            "1349/1349 [==============================] - 38s 28ms/step - loss: 0.0676 - mean_absolute_error: 0.1349 - val_loss: 0.0683 - val_mean_absolute_error: 0.1320\n",
            "Epoch 3/20\n",
            "1349/1349 [==============================] - 37s 27ms/step - loss: 0.0673 - mean_absolute_error: 0.1347 - val_loss: 0.0681 - val_mean_absolute_error: 0.1318\n",
            "Epoch 4/20\n",
            "1349/1349 [==============================] - 39s 29ms/step - loss: 0.0671 - mean_absolute_error: 0.1345 - val_loss: 0.0678 - val_mean_absolute_error: 0.1316\n",
            "Epoch 5/20\n",
            "1349/1349 [==============================] - 37s 27ms/step - loss: 0.0669 - mean_absolute_error: 0.1343 - val_loss: 0.0676 - val_mean_absolute_error: 0.1314\n",
            "Epoch 6/20\n",
            "1349/1349 [==============================] - 46s 34ms/step - loss: 0.0666 - mean_absolute_error: 0.1341 - val_loss: 0.0674 - val_mean_absolute_error: 0.1312\n",
            "Epoch 7/20\n",
            "1349/1349 [==============================] - 35s 26ms/step - loss: 0.0664 - mean_absolute_error: 0.1339 - val_loss: 0.0672 - val_mean_absolute_error: 0.1310\n",
            "Epoch 8/20\n",
            "1349/1349 [==============================] - 45s 34ms/step - loss: 0.0662 - mean_absolute_error: 0.1338 - val_loss: 0.0669 - val_mean_absolute_error: 0.1308\n",
            "Epoch 9/20\n",
            "1349/1349 [==============================] - 35s 26ms/step - loss: 0.0660 - mean_absolute_error: 0.1336 - val_loss: 0.0667 - val_mean_absolute_error: 0.1306\n",
            "Epoch 10/20\n",
            "1349/1349 [==============================] - 38s 28ms/step - loss: 0.0657 - mean_absolute_error: 0.1334 - val_loss: 0.0665 - val_mean_absolute_error: 0.1305\n",
            "Epoch 11/20\n",
            "1349/1349 [==============================] - 37s 27ms/step - loss: 0.0655 - mean_absolute_error: 0.1332 - val_loss: 0.0663 - val_mean_absolute_error: 0.1303\n",
            "Epoch 12/20\n",
            "1349/1349 [==============================] - 37s 27ms/step - loss: 0.0653 - mean_absolute_error: 0.1331 - val_loss: 0.0660 - val_mean_absolute_error: 0.1301\n",
            "Epoch 13/20\n",
            "1349/1349 [==============================] - 36s 26ms/step - loss: 0.0651 - mean_absolute_error: 0.1329 - val_loss: 0.0658 - val_mean_absolute_error: 0.1300\n",
            "Epoch 14/20\n",
            "1349/1349 [==============================] - 45s 34ms/step - loss: 0.0649 - mean_absolute_error: 0.1327 - val_loss: 0.0656 - val_mean_absolute_error: 0.1298\n",
            "Epoch 15/20\n",
            "1349/1349 [==============================] - 36s 27ms/step - loss: 0.0647 - mean_absolute_error: 0.1325 - val_loss: 0.0654 - val_mean_absolute_error: 0.1296\n",
            "Epoch 16/20\n",
            "1349/1349 [==============================] - 39s 29ms/step - loss: 0.0644 - mean_absolute_error: 0.1324 - val_loss: 0.0652 - val_mean_absolute_error: 0.1295\n",
            "Epoch 17/20\n",
            "1349/1349 [==============================] - 37s 27ms/step - loss: 0.0642 - mean_absolute_error: 0.1322 - val_loss: 0.0650 - val_mean_absolute_error: 0.1293\n",
            "Epoch 18/20\n",
            "1349/1349 [==============================] - 36s 27ms/step - loss: 0.0640 - mean_absolute_error: 0.1321 - val_loss: 0.0648 - val_mean_absolute_error: 0.1292\n",
            "Epoch 19/20\n",
            "1349/1349 [==============================] - 37s 27ms/step - loss: 0.0638 - mean_absolute_error: 0.1319 - val_loss: 0.0645 - val_mean_absolute_error: 0.1290\n",
            "Epoch 20/20\n",
            "1349/1349 [==============================] - 45s 34ms/step - loss: 0.0636 - mean_absolute_error: 0.1317 - val_loss: 0.0643 - val_mean_absolute_error: 0.1289\n"
          ]
        }
      ]
    },
    {
      "cell_type": "code",
      "source": [
        "import pandas as pd\n",
        "his = pd.read_csv('his.csv') \n",
        "his.head()\n"
      ],
      "metadata": {
        "colab": {
          "base_uri": "https://localhost:8080/",
          "height": 206
        },
        "id": "K8ANXlPmStbX",
        "outputId": "9b121d9f-daa9-419c-d575-dfef340dffd8"
      },
      "execution_count": 20,
      "outputs": [
        {
          "output_type": "execute_result",
          "data": {
            "text/plain": [
              "   epoch      loss  mean_absolute_error  val_loss  val_mean_absolute_error\n",
              "0      0  0.067785             0.135106  0.068549                 0.132176\n",
              "1      1  0.067550             0.134905  0.068312                 0.131973\n",
              "2      2  0.067317             0.134706  0.068077                 0.131772\n",
              "3      3  0.067085             0.134510  0.067843                 0.131573\n",
              "4      4  0.066856             0.134318  0.067611                 0.131377"
            ],
            "text/html": [
              "\n",
              "  <div id=\"df-53733501-6bd6-477f-a447-26120a1ed4d6\">\n",
              "    <div class=\"colab-df-container\">\n",
              "      <div>\n",
              "<style scoped>\n",
              "    .dataframe tbody tr th:only-of-type {\n",
              "        vertical-align: middle;\n",
              "    }\n",
              "\n",
              "    .dataframe tbody tr th {\n",
              "        vertical-align: top;\n",
              "    }\n",
              "\n",
              "    .dataframe thead th {\n",
              "        text-align: right;\n",
              "    }\n",
              "</style>\n",
              "<table border=\"1\" class=\"dataframe\">\n",
              "  <thead>\n",
              "    <tr style=\"text-align: right;\">\n",
              "      <th></th>\n",
              "      <th>epoch</th>\n",
              "      <th>loss</th>\n",
              "      <th>mean_absolute_error</th>\n",
              "      <th>val_loss</th>\n",
              "      <th>val_mean_absolute_error</th>\n",
              "    </tr>\n",
              "  </thead>\n",
              "  <tbody>\n",
              "    <tr>\n",
              "      <th>0</th>\n",
              "      <td>0</td>\n",
              "      <td>0.067785</td>\n",
              "      <td>0.135106</td>\n",
              "      <td>0.068549</td>\n",
              "      <td>0.132176</td>\n",
              "    </tr>\n",
              "    <tr>\n",
              "      <th>1</th>\n",
              "      <td>1</td>\n",
              "      <td>0.067550</td>\n",
              "      <td>0.134905</td>\n",
              "      <td>0.068312</td>\n",
              "      <td>0.131973</td>\n",
              "    </tr>\n",
              "    <tr>\n",
              "      <th>2</th>\n",
              "      <td>2</td>\n",
              "      <td>0.067317</td>\n",
              "      <td>0.134706</td>\n",
              "      <td>0.068077</td>\n",
              "      <td>0.131772</td>\n",
              "    </tr>\n",
              "    <tr>\n",
              "      <th>3</th>\n",
              "      <td>3</td>\n",
              "      <td>0.067085</td>\n",
              "      <td>0.134510</td>\n",
              "      <td>0.067843</td>\n",
              "      <td>0.131573</td>\n",
              "    </tr>\n",
              "    <tr>\n",
              "      <th>4</th>\n",
              "      <td>4</td>\n",
              "      <td>0.066856</td>\n",
              "      <td>0.134318</td>\n",
              "      <td>0.067611</td>\n",
              "      <td>0.131377</td>\n",
              "    </tr>\n",
              "  </tbody>\n",
              "</table>\n",
              "</div>\n",
              "      <button class=\"colab-df-convert\" onclick=\"convertToInteractive('df-53733501-6bd6-477f-a447-26120a1ed4d6')\"\n",
              "              title=\"Convert this dataframe to an interactive table.\"\n",
              "              style=\"display:none;\">\n",
              "        \n",
              "  <svg xmlns=\"http://www.w3.org/2000/svg\" height=\"24px\"viewBox=\"0 0 24 24\"\n",
              "       width=\"24px\">\n",
              "    <path d=\"M0 0h24v24H0V0z\" fill=\"none\"/>\n",
              "    <path d=\"M18.56 5.44l.94 2.06.94-2.06 2.06-.94-2.06-.94-.94-2.06-.94 2.06-2.06.94zm-11 1L8.5 8.5l.94-2.06 2.06-.94-2.06-.94L8.5 2.5l-.94 2.06-2.06.94zm10 10l.94 2.06.94-2.06 2.06-.94-2.06-.94-.94-2.06-.94 2.06-2.06.94z\"/><path d=\"M17.41 7.96l-1.37-1.37c-.4-.4-.92-.59-1.43-.59-.52 0-1.04.2-1.43.59L10.3 9.45l-7.72 7.72c-.78.78-.78 2.05 0 2.83L4 21.41c.39.39.9.59 1.41.59.51 0 1.02-.2 1.41-.59l7.78-7.78 2.81-2.81c.8-.78.8-2.07 0-2.86zM5.41 20L4 18.59l7.72-7.72 1.47 1.35L5.41 20z\"/>\n",
              "  </svg>\n",
              "      </button>\n",
              "      \n",
              "  <style>\n",
              "    .colab-df-container {\n",
              "      display:flex;\n",
              "      flex-wrap:wrap;\n",
              "      gap: 12px;\n",
              "    }\n",
              "\n",
              "    .colab-df-convert {\n",
              "      background-color: #E8F0FE;\n",
              "      border: none;\n",
              "      border-radius: 50%;\n",
              "      cursor: pointer;\n",
              "      display: none;\n",
              "      fill: #1967D2;\n",
              "      height: 32px;\n",
              "      padding: 0 0 0 0;\n",
              "      width: 32px;\n",
              "    }\n",
              "\n",
              "    .colab-df-convert:hover {\n",
              "      background-color: #E2EBFA;\n",
              "      box-shadow: 0px 1px 2px rgba(60, 64, 67, 0.3), 0px 1px 3px 1px rgba(60, 64, 67, 0.15);\n",
              "      fill: #174EA6;\n",
              "    }\n",
              "\n",
              "    [theme=dark] .colab-df-convert {\n",
              "      background-color: #3B4455;\n",
              "      fill: #D2E3FC;\n",
              "    }\n",
              "\n",
              "    [theme=dark] .colab-df-convert:hover {\n",
              "      background-color: #434B5C;\n",
              "      box-shadow: 0px 1px 3px 1px rgba(0, 0, 0, 0.15);\n",
              "      filter: drop-shadow(0px 1px 2px rgba(0, 0, 0, 0.3));\n",
              "      fill: #FFFFFF;\n",
              "    }\n",
              "  </style>\n",
              "\n",
              "      <script>\n",
              "        const buttonEl =\n",
              "          document.querySelector('#df-53733501-6bd6-477f-a447-26120a1ed4d6 button.colab-df-convert');\n",
              "        buttonEl.style.display =\n",
              "          google.colab.kernel.accessAllowed ? 'block' : 'none';\n",
              "\n",
              "        async function convertToInteractive(key) {\n",
              "          const element = document.querySelector('#df-53733501-6bd6-477f-a447-26120a1ed4d6');\n",
              "          const dataTable =\n",
              "            await google.colab.kernel.invokeFunction('convertToInteractive',\n",
              "                                                     [key], {});\n",
              "          if (!dataTable) return;\n",
              "\n",
              "          const docLinkHtml = 'Like what you see? Visit the ' +\n",
              "            '<a target=\"_blank\" href=https://colab.research.google.com/notebooks/data_table.ipynb>data table notebook</a>'\n",
              "            + ' to learn more about interactive tables.';\n",
              "          element.innerHTML = '';\n",
              "          dataTable['output_type'] = 'display_data';\n",
              "          await google.colab.output.renderOutput(dataTable, element);\n",
              "          const docLink = document.createElement('div');\n",
              "          docLink.innerHTML = docLinkHtml;\n",
              "          element.appendChild(docLink);\n",
              "        }\n",
              "      </script>\n",
              "    </div>\n",
              "  </div>\n",
              "  "
            ]
          },
          "metadata": {},
          "execution_count": 20
        }
      ]
    },
    {
      "cell_type": "code",
      "source": [
        "# Plot training and validation metrics from history object\n",
        "\n",
        "train_loss=history.history['loss']\n",
        "val_loss=history.history['val_loss']\n",
        "train_accuracy=history.history['mean_absolute_error']\n",
        "val_accuracy=history.history['val_mean_absolute_error']\n",
        "epochs=range(len(train_accuracy))\n",
        "#plot loss\n",
        "plt.plot(epochs,train_loss,color='b',label='Train loss')\n",
        "plt.plot(epochs,val_loss,color='r',label='Validation loss')\n",
        "#plot accuracy\n",
        "plt.plot(epochs,train_accuracy,color='b',label='Train accuracy')\n",
        "plt.plot(epochs,val_accuracy,color='r',label='Validation accuracy')"
      ],
      "metadata": {
        "id": "dMRPZzWQs3EL",
        "colab": {
          "base_uri": "https://localhost:8080/",
          "height": 282
        },
        "outputId": "25982798-ef9f-4319-e4ec-3a06634c54bd"
      },
      "execution_count": 21,
      "outputs": [
        {
          "output_type": "execute_result",
          "data": {
            "text/plain": [
              "[<matplotlib.lines.Line2D at 0x7fba69a486d0>]"
            ]
          },
          "metadata": {},
          "execution_count": 21
        },
        {
          "output_type": "display_data",
          "data": {
            "text/plain": [
              "<Figure size 432x288 with 1 Axes>"
            ],
            "image/png": "[encoded data removed]"
          },
          "metadata": {
            "needs_background": "light"
          }
        }
      ]
    },
    {
      "cell_type": "code",
      "source": [
        "def make_preds(model, input_data):\n",
        "  \"\"\"\n",
        "  Uses model to make predictions on input_data.\n",
        "\n",
        "  Parameters\n",
        "  ----------\n",
        "  model: trained model \n",
        "  input_data: windowed input data (same kind of data model was trained on)\n",
        "\n",
        "  Returns model predictions on input_data.\n",
        "  \"\"\"\n",
        "  forecast = model.predict(input_data)\n",
        "  return tf.squeeze(forecast) # return 1D array of predictions"
      ],
      "metadata": {
        "id": "1gPxmBc3Ol1z"
      },
      "execution_count": 22,
      "outputs": []
    },
    {
      "cell_type": "code",
      "source": [
        "model_preds = make_preds(model,\n",
        "                           input_data=valid_set)\n",
        "model_preds[:1]"
      ],
      "metadata": {
        "colab": {
          "base_uri": "https://localhost:8080/"
        },
        "id": "99cc7uquNnGE",
        "outputId": "1a80a1b1-e54d-4c11-bc05-8615b3de5cec"
      },
      "execution_count": 23,
      "outputs": [
        {
          "output_type": "execute_result",
          "data": {
            "text/plain": [
              "<tf.Tensor: shape=(1, 24, 7), dtype=float32, numpy=\n",
              "array([[[0.01199643, 0.01171675, 0.00438857, 0.01138714, 0.00095151,\n",
              "         0.0019138 , 0.0276804 ],\n",
              "        [0.01199696, 0.01171612, 0.00438954, 0.01138794, 0.00095134,\n",
              "         0.00191394, 0.02767903],\n",
              "        [0.0119975 , 0.0117156 , 0.00439049, 0.01138872, 0.00095123,\n",
              "         0.00191405, 0.0276776 ],\n",
              "        [0.01199802, 0.01171515, 0.00439143, 0.01138947, 0.00095114,\n",
              "         0.00191414, 0.02767617],\n",
              "        [0.01199855, 0.01171476, 0.00439236, 0.01139021, 0.00095108,\n",
              "         0.00191422, 0.02767472],\n",
              "        [0.01199906, 0.01171444, 0.00439328, 0.01139092, 0.00095104,\n",
              "         0.00191429, 0.02767327],\n",
              "        [0.01199957, 0.01171419, 0.00439419, 0.01139161, 0.00095103,\n",
              "         0.00191434, 0.02767179],\n",
              "        [0.01200008, 0.01171404, 0.00439509, 0.01139229, 0.00095106,\n",
              "         0.00191438, 0.02767028],\n",
              "        [0.01200058, 0.01171399, 0.00439598, 0.01139293, 0.00095113,\n",
              "         0.0019144 , 0.02766874],\n",
              "        [0.01200107, 0.01171401, 0.00439687, 0.01139356, 0.00095124,\n",
              "         0.00191441, 0.02766719],\n",
              "        [0.01200154, 0.01171413, 0.00439773, 0.01139415, 0.00095139,\n",
              "         0.00191441, 0.02766563],\n",
              "        [0.01200202, 0.0117143 , 0.0043986 , 0.01139474, 0.00095157,\n",
              "         0.0019144 , 0.02766404],\n",
              "        [0.01200249, 0.01171457, 0.00439945, 0.0113953 , 0.00095178,\n",
              "         0.00191436, 0.02766242],\n",
              "        [0.01200296, 0.0117149 , 0.00440031, 0.01139584, 0.00095201,\n",
              "         0.00191433, 0.02766078],\n",
              "        [0.01200343, 0.01171529, 0.00440115, 0.01139635, 0.00095226,\n",
              "         0.00191428, 0.02765915],\n",
              "        [0.01200388, 0.01171575, 0.00440197, 0.01139684, 0.00095254,\n",
              "         0.00191422, 0.02765752],\n",
              "        [0.01200433, 0.01171629, 0.00440277, 0.01139729, 0.00095285,\n",
              "         0.00191414, 0.02765588],\n",
              "        [0.01200476, 0.01171689, 0.00440353, 0.01139772, 0.00095318,\n",
              "         0.00191404, 0.02765427],\n",
              "        [0.01200518, 0.01171754, 0.00440428, 0.01139812, 0.00095352,\n",
              "         0.00191394, 0.02765266],\n",
              "        [0.01200559, 0.01171825, 0.00440503, 0.0113985 , 0.00095388,\n",
              "         0.00191383, 0.02765106],\n",
              "        [0.012006  , 0.01171899, 0.00440577, 0.01139886, 0.00095426,\n",
              "         0.00191372, 0.02764945],\n",
              "        [0.01200641, 0.0117198 , 0.00440651, 0.01139919, 0.00095465,\n",
              "         0.00191361, 0.02764783],\n",
              "        [0.01200682, 0.0117207 , 0.00440724, 0.01139949, 0.00095508,\n",
              "         0.00191348, 0.02764619],\n",
              "        [0.01200724, 0.01172171, 0.00440798, 0.01139977, 0.00095553,\n",
              "         0.00191336, 0.0276445 ]]], dtype=float32)>"
            ]
          },
          "metadata": {},
          "execution_count": 23
        }
      ]
    },
    {
      "cell_type": "code",
      "source": [
        "model_preds = denormalize_series(model_preds, data.min(axis=0), data.max(axis=0))\n",
        "#model_preds=(model_preds*train_std)+train_mean\n",
        "model_preds[:1]"
      ],
      "metadata": {
        "colab": {
          "base_uri": "https://localhost:8080/"
        },
        "id": "uYajNmxiqJLm",
        "outputId": "39f2edf1-d217-487a-9e3d-c91816017ac6"
      },
      "execution_count": 27,
      "outputs": [
        {
          "output_type": "execute_result",
          "data": {
            "text/plain": [
              "<tf.Tensor: shape=(1, 24, 7), dtype=float32, numpy=\n",
              "array([[[0.01174543, 0.01171675, 0.00047111, 0.01116165, 0.00095151,\n",
              "         0.0019138 , 0.0276804 ],\n",
              "        [0.01174595, 0.01171612, 0.00047122, 0.01116244, 0.00095134,\n",
              "         0.00191394, 0.02767903],\n",
              "        [0.01174647, 0.0117156 , 0.00047132, 0.0111632 , 0.00095123,\n",
              "         0.00191405, 0.0276776 ],\n",
              "        [0.01174699, 0.01171515, 0.00047142, 0.01116394, 0.00095114,\n",
              "         0.00191414, 0.02767617],\n",
              "        [0.0117475 , 0.01171476, 0.00047152, 0.01116466, 0.00095108,\n",
              "         0.00191422, 0.02767472],\n",
              "        [0.011748  , 0.01171444, 0.00047162, 0.01116536, 0.00095104,\n",
              "         0.00191429, 0.02767327],\n",
              "        [0.0117485 , 0.01171419, 0.00047172, 0.01116604, 0.00095103,\n",
              "         0.00191434, 0.02767179],\n",
              "        [0.011749  , 0.01171404, 0.00047181, 0.0111667 , 0.00095106,\n",
              "         0.00191438, 0.02767028],\n",
              "        [0.01174949, 0.01171399, 0.00047191, 0.01116733, 0.00095113,\n",
              "         0.0019144 , 0.02766874],\n",
              "        [0.01174997, 0.01171401, 0.000472  , 0.01116794, 0.00095124,\n",
              "         0.00191441, 0.02766719],\n",
              "        [0.01175043, 0.01171413, 0.0004721 , 0.01116853, 0.00095139,\n",
              "         0.00191441, 0.02766563],\n",
              "        [0.0117509 , 0.0117143 , 0.00047219, 0.0111691 , 0.00095157,\n",
              "         0.0019144 , 0.02766404],\n",
              "        [0.01175136, 0.01171457, 0.00047228, 0.01116965, 0.00095178,\n",
              "         0.00191436, 0.02766242],\n",
              "        [0.01175182, 0.0117149 , 0.00047237, 0.01117018, 0.00095201,\n",
              "         0.00191433, 0.02766078],\n",
              "        [0.01175228, 0.01171529, 0.00047246, 0.01117068, 0.00095226,\n",
              "         0.00191428, 0.02765915],\n",
              "        [0.01175272, 0.01171575, 0.00047255, 0.01117116, 0.00095254,\n",
              "         0.00191422, 0.02765752],\n",
              "        [0.01175316, 0.01171629, 0.00047264, 0.01117161, 0.00095285,\n",
              "         0.00191414, 0.02765588],\n",
              "        [0.01175358, 0.01171689, 0.00047272, 0.01117202, 0.00095318,\n",
              "         0.00191404, 0.02765427],\n",
              "        [0.011754  , 0.01171754, 0.0004728 , 0.01117241, 0.00095352,\n",
              "         0.00191394, 0.02765266],\n",
              "        [0.0117544 , 0.01171825, 0.00047288, 0.01117278, 0.00095388,\n",
              "         0.00191383, 0.02765106],\n",
              "        [0.0117548 , 0.01171899, 0.00047296, 0.01117314, 0.00095426,\n",
              "         0.00191372, 0.02764945],\n",
              "        [0.0117552 , 0.0117198 , 0.00047304, 0.01117346, 0.00095465,\n",
              "         0.00191361, 0.02764783],\n",
              "        [0.0117556 , 0.0117207 , 0.00047312, 0.01117376, 0.00095508,\n",
              "         0.00191348, 0.02764619],\n",
              "        [0.01175602, 0.01172171, 0.0004732 , 0.01117403, 0.00095553,\n",
              "         0.00191336, 0.0276445 ]]], dtype=float32)>"
            ]
          },
          "metadata": {},
          "execution_count": 27
        }
      ]
    }
  ]
}