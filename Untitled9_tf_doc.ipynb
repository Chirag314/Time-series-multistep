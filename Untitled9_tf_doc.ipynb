{
  "nbformat": 4,
  "nbformat_minor": 0,
  "metadata": {
    "colab": {
      "name": " Untitled9 tf doc.ipynb",
      "provenance": [],
      "collapsed_sections": [],
      "authorship_tag": "ABX9TyNoOLfim2HmFdzaVvaaUUpk",
      "include_colab_link": true
    },
    "kernelspec": {
      "name": "python3",
      "display_name": "Python 3"
    },
    "language_info": {
      "name": "python"
    },
    "accelerator": "TPU"
  },
  "cells": [
    {
      "cell_type": "markdown",
      "metadata": {
        "id": "view-in-github",
        "colab_type": "text"
      },
      "source": [
        "<a href=\"https://colab.research.google.com/github/Chirag314/Time-series-multistep/blob/main/Untitled9_tf_doc.ipynb\" target=\"_parent\"><img src=\"https://colab.research.google.com/assets/colab-badge.svg\" alt=\"Open In Colab\"/></a>"
      ]
    },
    {
      "cell_type": "code",
      "execution_count": 1,
      "metadata": {
        "id": "rNizq_QIGedf"
      },
      "outputs": [],
      "source": [
        "import urllib\n",
        "import zipfile\n",
        "\n",
        "import pandas as pd\n",
        "import tensorflow as tf\n",
        "import tensorflow as tf\n",
        "from tensorflow import keras\n",
        "import numpy as np\n",
        "import matplotlib.pyplot as plt\n",
        "%matplotlib inline\n",
        "\n",
        "# This function downloads and extracts the dataset to the directory that\n",
        "# contains this file.\n",
        "# DO NOT CHANGE THIS CODE\n",
        "# (unless you need to change https to http)\n",
        "def download_and_extract_data():\n",
        "    url = 'https://storage.googleapis.com/download.tensorflow.org/data/certificate/household_power.zip'\n",
        "    urllib.request.urlretrieve(url, 'household_power.zip')\n",
        "    with zipfile.ZipFile('household_power.zip', 'r') as zip_ref:\n",
        "        zip_ref.extractall()\n",
        "\n",
        "\n",
        "# This function normalizes the dataset using min max scaling.\n",
        "# DO NOT CHANGE THIS CODE\n",
        "def normalize_series(data, min, max):\n",
        "    data = data - min\n",
        "    data = data / max\n",
        "    return data\n",
        "\n",
        "\n",
        "# This function is used to map the time series dataset into windows of\n",
        "# features and respective targets, to prepare it for training and\n",
        "# validation. First element of the first window will be the first element of\n",
        "# the dataset. Consecutive windows are constructed by shifting\n",
        "# the starting position of the first window forward, one at a time (indicated\n",
        "# by shift=1). For a window of n_past number of observations of all the time\n",
        "# indexed variables in the dataset, the target for the window\n",
        "# is the next n_future number of observations of these variables, after the\n",
        "# end of the window.\n",
        "\n",
        "# DO NOT CHANGE THIS CODE\n",
        "def windowed_dataset(series, batch_size, n_past=24, n_future=24, shift=1):\n",
        "    ds = tf.data.Dataset.from_tensor_slices(series)\n",
        "    ds = ds.window(size=n_past + n_future, shift=shift, drop_remainder=True)\n",
        "    ds = ds.flat_map(lambda w: w.batch(n_past + n_future))\n",
        "    ds = ds.map(lambda w: (w[:n_past], w[n_past:]))\n",
        "    return ds.batch(batch_size).prefetch(1)\n",
        "\n",
        "\n"
      ]
    },
    {
      "cell_type": "code",
      "source": [
        "download_and_extract_data()\n",
        "    # Reads the dataset from the CSV.\n",
        "df = pd.read_csv('household_power_consumption.csv', sep=',',\n",
        "                     infer_datetime_format=True, index_col='datetime', header=0)"
      ],
      "metadata": {
        "id": "D6pIK-qUGiDy"
      },
      "execution_count": 2,
      "outputs": []
    },
    {
      "cell_type": "code",
      "source": [
        "len(df)"
      ],
      "metadata": {
        "colab": {
          "base_uri": "https://localhost:8080/"
        },
        "id": "N2ghouUXoSk0",
        "outputId": "f139608a-fea0-4565-dc84-ac2ae8c95304"
      },
      "execution_count": 3,
      "outputs": [
        {
          "output_type": "execute_result",
          "data": {
            "text/plain": [
              "86400"
            ]
          },
          "metadata": {},
          "execution_count": 3
        }
      ]
    },
    {
      "cell_type": "code",
      "source": [
        "df.head()"
      ],
      "metadata": {
        "colab": {
          "base_uri": "https://localhost:8080/",
          "height": 238
        },
        "id": "ZcNfmRhctken",
        "outputId": "5db27066-be8e-42a7-ba6c-c60311b7d128"
      },
      "execution_count": 4,
      "outputs": [
        {
          "output_type": "execute_result",
          "data": {
            "text/plain": [
              "                     Global_active_power  Global_reactive_power  Voltage  \\\n",
              "datetime                                                                   \n",
              "2006-12-16 17:24:00                4.216                  0.418   234.84   \n",
              "2006-12-16 17:25:00                5.360                  0.436   233.63   \n",
              "2006-12-16 17:26:00                5.374                  0.498   233.29   \n",
              "2006-12-16 17:27:00                5.388                  0.502   233.74   \n",
              "2006-12-16 17:28:00                3.666                  0.528   235.68   \n",
              "\n",
              "                     Global_intensity  Sub_metering_1  Sub_metering_2  \\\n",
              "datetime                                                                \n",
              "2006-12-16 17:24:00              18.4             0.0             1.0   \n",
              "2006-12-16 17:25:00              23.0             0.0             1.0   \n",
              "2006-12-16 17:26:00              23.0             0.0             2.0   \n",
              "2006-12-16 17:27:00              23.0             0.0             1.0   \n",
              "2006-12-16 17:28:00              15.8             0.0             1.0   \n",
              "\n",
              "                     Sub_metering_3  \n",
              "datetime                             \n",
              "2006-12-16 17:24:00            17.0  \n",
              "2006-12-16 17:25:00            16.0  \n",
              "2006-12-16 17:26:00            17.0  \n",
              "2006-12-16 17:27:00            17.0  \n",
              "2006-12-16 17:28:00            17.0  "
            ],
            "text/html": [
              "\n",
              "  <div id=\"df-0520cd6c-ca59-404d-b916-34a22989aec1\">\n",
              "    <div class=\"colab-df-container\">\n",
              "      <div>\n",
              "<style scoped>\n",
              "    .dataframe tbody tr th:only-of-type {\n",
              "        vertical-align: middle;\n",
              "    }\n",
              "\n",
              "    .dataframe tbody tr th {\n",
              "        vertical-align: top;\n",
              "    }\n",
              "\n",
              "    .dataframe thead th {\n",
              "        text-align: right;\n",
              "    }\n",
              "</style>\n",
              "<table border=\"1\" class=\"dataframe\">\n",
              "  <thead>\n",
              "    <tr style=\"text-align: right;\">\n",
              "      <th></th>\n",
              "      <th>Global_active_power</th>\n",
              "      <th>Global_reactive_power</th>\n",
              "      <th>Voltage</th>\n",
              "      <th>Global_intensity</th>\n",
              "      <th>Sub_metering_1</th>\n",
              "      <th>Sub_metering_2</th>\n",
              "      <th>Sub_metering_3</th>\n",
              "    </tr>\n",
              "    <tr>\n",
              "      <th>datetime</th>\n",
              "      <th></th>\n",
              "      <th></th>\n",
              "      <th></th>\n",
              "      <th></th>\n",
              "      <th></th>\n",
              "      <th></th>\n",
              "      <th></th>\n",
              "    </tr>\n",
              "  </thead>\n",
              "  <tbody>\n",
              "    <tr>\n",
              "      <th>2006-12-16 17:24:00</th>\n",
              "      <td>4.216</td>\n",
              "      <td>0.418</td>\n",
              "      <td>234.84</td>\n",
              "      <td>18.4</td>\n",
              "      <td>0.0</td>\n",
              "      <td>1.0</td>\n",
              "      <td>17.0</td>\n",
              "    </tr>\n",
              "    <tr>\n",
              "      <th>2006-12-16 17:25:00</th>\n",
              "      <td>5.360</td>\n",
              "      <td>0.436</td>\n",
              "      <td>233.63</td>\n",
              "      <td>23.0</td>\n",
              "      <td>0.0</td>\n",
              "      <td>1.0</td>\n",
              "      <td>16.0</td>\n",
              "    </tr>\n",
              "    <tr>\n",
              "      <th>2006-12-16 17:26:00</th>\n",
              "      <td>5.374</td>\n",
              "      <td>0.498</td>\n",
              "      <td>233.29</td>\n",
              "      <td>23.0</td>\n",
              "      <td>0.0</td>\n",
              "      <td>2.0</td>\n",
              "      <td>17.0</td>\n",
              "    </tr>\n",
              "    <tr>\n",
              "      <th>2006-12-16 17:27:00</th>\n",
              "      <td>5.388</td>\n",
              "      <td>0.502</td>\n",
              "      <td>233.74</td>\n",
              "      <td>23.0</td>\n",
              "      <td>0.0</td>\n",
              "      <td>1.0</td>\n",
              "      <td>17.0</td>\n",
              "    </tr>\n",
              "    <tr>\n",
              "      <th>2006-12-16 17:28:00</th>\n",
              "      <td>3.666</td>\n",
              "      <td>0.528</td>\n",
              "      <td>235.68</td>\n",
              "      <td>15.8</td>\n",
              "      <td>0.0</td>\n",
              "      <td>1.0</td>\n",
              "      <td>17.0</td>\n",
              "    </tr>\n",
              "  </tbody>\n",
              "</table>\n",
              "</div>\n",
              "      <button class=\"colab-df-convert\" onclick=\"convertToInteractive('df-0520cd6c-ca59-404d-b916-34a22989aec1')\"\n",
              "              title=\"Convert this dataframe to an interactive table.\"\n",
              "              style=\"display:none;\">\n",
              "        \n",
              "  <svg xmlns=\"http://www.w3.org/2000/svg\" height=\"24px\"viewBox=\"0 0 24 24\"\n",
              "       width=\"24px\">\n",
              "    <path d=\"M0 0h24v24H0V0z\" fill=\"none\"/>\n",
              "    <path d=\"M18.56 5.44l.94 2.06.94-2.06 2.06-.94-2.06-.94-.94-2.06-.94 2.06-2.06.94zm-11 1L8.5 8.5l.94-2.06 2.06-.94-2.06-.94L8.5 2.5l-.94 2.06-2.06.94zm10 10l.94 2.06.94-2.06 2.06-.94-2.06-.94-.94-2.06-.94 2.06-2.06.94z\"/><path d=\"M17.41 7.96l-1.37-1.37c-.4-.4-.92-.59-1.43-.59-.52 0-1.04.2-1.43.59L10.3 9.45l-7.72 7.72c-.78.78-.78 2.05 0 2.83L4 21.41c.39.39.9.59 1.41.59.51 0 1.02-.2 1.41-.59l7.78-7.78 2.81-2.81c.8-.78.8-2.07 0-2.86zM5.41 20L4 18.59l7.72-7.72 1.47 1.35L5.41 20z\"/>\n",
              "  </svg>\n",
              "      </button>\n",
              "      \n",
              "  <style>\n",
              "    .colab-df-container {\n",
              "      display:flex;\n",
              "      flex-wrap:wrap;\n",
              "      gap: 12px;\n",
              "    }\n",
              "\n",
              "    .colab-df-convert {\n",
              "      background-color: #E8F0FE;\n",
              "      border: none;\n",
              "      border-radius: 50%;\n",
              "      cursor: pointer;\n",
              "      display: none;\n",
              "      fill: #1967D2;\n",
              "      height: 32px;\n",
              "      padding: 0 0 0 0;\n",
              "      width: 32px;\n",
              "    }\n",
              "\n",
              "    .colab-df-convert:hover {\n",
              "      background-color: #E2EBFA;\n",
              "      box-shadow: 0px 1px 2px rgba(60, 64, 67, 0.3), 0px 1px 3px 1px rgba(60, 64, 67, 0.15);\n",
              "      fill: #174EA6;\n",
              "    }\n",
              "\n",
              "    [theme=dark] .colab-df-convert {\n",
              "      background-color: #3B4455;\n",
              "      fill: #D2E3FC;\n",
              "    }\n",
              "\n",
              "    [theme=dark] .colab-df-convert:hover {\n",
              "      background-color: #434B5C;\n",
              "      box-shadow: 0px 1px 3px 1px rgba(0, 0, 0, 0.15);\n",
              "      filter: drop-shadow(0px 1px 2px rgba(0, 0, 0, 0.3));\n",
              "      fill: #FFFFFF;\n",
              "    }\n",
              "  </style>\n",
              "\n",
              "      <script>\n",
              "        const buttonEl =\n",
              "          document.querySelector('#df-0520cd6c-ca59-404d-b916-34a22989aec1 button.colab-df-convert');\n",
              "        buttonEl.style.display =\n",
              "          google.colab.kernel.accessAllowed ? 'block' : 'none';\n",
              "\n",
              "        async function convertToInteractive(key) {\n",
              "          const element = document.querySelector('#df-0520cd6c-ca59-404d-b916-34a22989aec1');\n",
              "          const dataTable =\n",
              "            await google.colab.kernel.invokeFunction('convertToInteractive',\n",
              "                                                     [key], {});\n",
              "          if (!dataTable) return;\n",
              "\n",
              "          const docLinkHtml = 'Like what you see? Visit the ' +\n",
              "            '<a target=\"_blank\" href=https://colab.research.google.com/notebooks/data_table.ipynb>data table notebook</a>'\n",
              "            + ' to learn more about interactive tables.';\n",
              "          element.innerHTML = '';\n",
              "          dataTable['output_type'] = 'display_data';\n",
              "          await google.colab.output.renderOutput(dataTable, element);\n",
              "          const docLink = document.createElement('div');\n",
              "          docLink.innerHTML = docLinkHtml;\n",
              "          element.appendChild(docLink);\n",
              "        }\n",
              "      </script>\n",
              "    </div>\n",
              "  </div>\n",
              "  "
            ]
          },
          "metadata": {},
          "execution_count": 4
        }
      ]
    },
    {
      "cell_type": "code",
      "source": [
        "# Check the distribution\n",
        "plt.figure(figsize=(14,6))\n",
        "df.hist(bins=50)\n",
        "plt.title('Global Active Power Distribution')\n",
        "\n",
        "# plt.subplot(1,2,2)\n",
        "# stats.probplot(df['Global_active_power'],plot=plt)\n",
        "# df1.describe().T"
      ],
      "metadata": {
        "colab": {
          "base_uri": "https://localhost:8080/",
          "height": 316
        },
        "id": "lUIoEyesWwrW",
        "outputId": "0bd179d0-1157-4c19-fd88-754f5bfa91b0"
      },
      "execution_count": 5,
      "outputs": [
        {
          "output_type": "execute_result",
          "data": {
            "text/plain": [
              "Text(0.5, 1.0, 'Global Active Power Distribution')"
            ]
          },
          "metadata": {},
          "execution_count": 5
        },
        {
          "output_type": "display_data",
          "data": {
            "text/plain": [
              "<Figure size 1008x432 with 0 Axes>"
            ]
          },
          "metadata": {}
        },
        {
          "output_type": "display_data",
          "data": {
            "text/plain": [
              "<Figure size 432x288 with 9 Axes>"
            ],
            "image/png": "[encoded data removed]"
          },
          "metadata": {
            "needs_background": "light"
          }
        }
      ]
    },
    {
      "cell_type": "code",
      "source": [
        "#Normalize target value\n",
        "df['Global_active_power']=normalize_series(df['Global_active_power'], df['Global_active_power'].min(), df['Global_active_power'].max())"
      ],
      "metadata": {
        "id": "RQCScQSjVJc-"
      },
      "execution_count": 6,
      "outputs": []
    },
    {
      "cell_type": "code",
      "source": [
        "df['Voltage'].unique()"
      ],
      "metadata": {
        "colab": {
          "base_uri": "https://localhost:8080/"
        },
        "id": "DEQFStLTXXN1",
        "outputId": "178a6f19-3b20-4bd3-b621-c5236358e303"
      },
      "execution_count": 7,
      "outputs": [
        {
          "output_type": "execute_result",
          "data": {
            "text/plain": [
              "array([234.84, 233.63, 233.29, ..., 231.63, 228.51, 231.79])"
            ]
          },
          "metadata": {},
          "execution_count": 7
        }
      ]
    },
    {
      "cell_type": "code",
      "source": [
        "#Normalize voltage value\n",
        "#df['Voltage']=normalize_series(df['Voltage'], df['Voltage'].min(), df['Voltage'].max())"
      ],
      "metadata": {
        "id": "joLFGABFYAXh"
      },
      "execution_count": 8,
      "outputs": []
    },
    {
      "cell_type": "code",
      "source": [
        "df.head()"
      ],
      "metadata": {
        "colab": {
          "base_uri": "https://localhost:8080/",
          "height": 238
        },
        "id": "C-lVP-0eWJzK",
        "outputId": "4839d1c7-6b3f-40b6-90bb-82b1bd7b92f7"
      },
      "execution_count": 9,
      "outputs": [
        {
          "output_type": "execute_result",
          "data": {
            "text/plain": [
              "                     Global_active_power  Global_reactive_power  Voltage  \\\n",
              "datetime                                                                   \n",
              "2006-12-16 17:24:00             0.433779                  0.418   234.84   \n",
              "2006-12-16 17:25:00             0.557161                  0.436   233.63   \n",
              "2006-12-16 17:26:00             0.558671                  0.498   233.29   \n",
              "2006-12-16 17:27:00             0.560181                  0.502   233.74   \n",
              "2006-12-16 17:28:00             0.374461                  0.528   235.68   \n",
              "\n",
              "                     Global_intensity  Sub_metering_1  Sub_metering_2  \\\n",
              "datetime                                                                \n",
              "2006-12-16 17:24:00              18.4             0.0             1.0   \n",
              "2006-12-16 17:25:00              23.0             0.0             1.0   \n",
              "2006-12-16 17:26:00              23.0             0.0             2.0   \n",
              "2006-12-16 17:27:00              23.0             0.0             1.0   \n",
              "2006-12-16 17:28:00              15.8             0.0             1.0   \n",
              "\n",
              "                     Sub_metering_3  \n",
              "datetime                             \n",
              "2006-12-16 17:24:00            17.0  \n",
              "2006-12-16 17:25:00            16.0  \n",
              "2006-12-16 17:26:00            17.0  \n",
              "2006-12-16 17:27:00            17.0  \n",
              "2006-12-16 17:28:00            17.0  "
            ],
            "text/html": [
              "\n",
              "  <div id=\"df-c0507f51-bfb4-4e4f-b49b-c52191de1ef5\">\n",
              "    <div class=\"colab-df-container\">\n",
              "      <div>\n",
              "<style scoped>\n",
              "    .dataframe tbody tr th:only-of-type {\n",
              "        vertical-align: middle;\n",
              "    }\n",
              "\n",
              "    .dataframe tbody tr th {\n",
              "        vertical-align: top;\n",
              "    }\n",
              "\n",
              "    .dataframe thead th {\n",
              "        text-align: right;\n",
              "    }\n",
              "</style>\n",
              "<table border=\"1\" class=\"dataframe\">\n",
              "  <thead>\n",
              "    <tr style=\"text-align: right;\">\n",
              "      <th></th>\n",
              "      <th>Global_active_power</th>\n",
              "      <th>Global_reactive_power</th>\n",
              "      <th>Voltage</th>\n",
              "      <th>Global_intensity</th>\n",
              "      <th>Sub_metering_1</th>\n",
              "      <th>Sub_metering_2</th>\n",
              "      <th>Sub_metering_3</th>\n",
              "    </tr>\n",
              "    <tr>\n",
              "      <th>datetime</th>\n",
              "      <th></th>\n",
              "      <th></th>\n",
              "      <th></th>\n",
              "      <th></th>\n",
              "      <th></th>\n",
              "      <th></th>\n",
              "      <th></th>\n",
              "    </tr>\n",
              "  </thead>\n",
              "  <tbody>\n",
              "    <tr>\n",
              "      <th>2006-12-16 17:24:00</th>\n",
              "      <td>0.433779</td>\n",
              "      <td>0.418</td>\n",
              "      <td>234.84</td>\n",
              "      <td>18.4</td>\n",
              "      <td>0.0</td>\n",
              "      <td>1.0</td>\n",
              "      <td>17.0</td>\n",
              "    </tr>\n",
              "    <tr>\n",
              "      <th>2006-12-16 17:25:00</th>\n",
              "      <td>0.557161</td>\n",
              "      <td>0.436</td>\n",
              "      <td>233.63</td>\n",
              "      <td>23.0</td>\n",
              "      <td>0.0</td>\n",
              "      <td>1.0</td>\n",
              "      <td>16.0</td>\n",
              "    </tr>\n",
              "    <tr>\n",
              "      <th>2006-12-16 17:26:00</th>\n",
              "      <td>0.558671</td>\n",
              "      <td>0.498</td>\n",
              "      <td>233.29</td>\n",
              "      <td>23.0</td>\n",
              "      <td>0.0</td>\n",
              "      <td>2.0</td>\n",
              "      <td>17.0</td>\n",
              "    </tr>\n",
              "    <tr>\n",
              "      <th>2006-12-16 17:27:00</th>\n",
              "      <td>0.560181</td>\n",
              "      <td>0.502</td>\n",
              "      <td>233.74</td>\n",
              "      <td>23.0</td>\n",
              "      <td>0.0</td>\n",
              "      <td>1.0</td>\n",
              "      <td>17.0</td>\n",
              "    </tr>\n",
              "    <tr>\n",
              "      <th>2006-12-16 17:28:00</th>\n",
              "      <td>0.374461</td>\n",
              "      <td>0.528</td>\n",
              "      <td>235.68</td>\n",
              "      <td>15.8</td>\n",
              "      <td>0.0</td>\n",
              "      <td>1.0</td>\n",
              "      <td>17.0</td>\n",
              "    </tr>\n",
              "  </tbody>\n",
              "</table>\n",
              "</div>\n",
              "      <button class=\"colab-df-convert\" onclick=\"convertToInteractive('df-c0507f51-bfb4-4e4f-b49b-c52191de1ef5')\"\n",
              "              title=\"Convert this dataframe to an interactive table.\"\n",
              "              style=\"display:none;\">\n",
              "        \n",
              "  <svg xmlns=\"http://www.w3.org/2000/svg\" height=\"24px\"viewBox=\"0 0 24 24\"\n",
              "       width=\"24px\">\n",
              "    <path d=\"M0 0h24v24H0V0z\" fill=\"none\"/>\n",
              "    <path d=\"M18.56 5.44l.94 2.06.94-2.06 2.06-.94-2.06-.94-.94-2.06-.94 2.06-2.06.94zm-11 1L8.5 8.5l.94-2.06 2.06-.94-2.06-.94L8.5 2.5l-.94 2.06-2.06.94zm10 10l.94 2.06.94-2.06 2.06-.94-2.06-.94-.94-2.06-.94 2.06-2.06.94z\"/><path d=\"M17.41 7.96l-1.37-1.37c-.4-.4-.92-.59-1.43-.59-.52 0-1.04.2-1.43.59L10.3 9.45l-7.72 7.72c-.78.78-.78 2.05 0 2.83L4 21.41c.39.39.9.59 1.41.59.51 0 1.02-.2 1.41-.59l7.78-7.78 2.81-2.81c.8-.78.8-2.07 0-2.86zM5.41 20L4 18.59l7.72-7.72 1.47 1.35L5.41 20z\"/>\n",
              "  </svg>\n",
              "      </button>\n",
              "      \n",
              "  <style>\n",
              "    .colab-df-container {\n",
              "      display:flex;\n",
              "      flex-wrap:wrap;\n",
              "      gap: 12px;\n",
              "    }\n",
              "\n",
              "    .colab-df-convert {\n",
              "      background-color: #E8F0FE;\n",
              "      border: none;\n",
              "      border-radius: 50%;\n",
              "      cursor: pointer;\n",
              "      display: none;\n",
              "      fill: #1967D2;\n",
              "      height: 32px;\n",
              "      padding: 0 0 0 0;\n",
              "      width: 32px;\n",
              "    }\n",
              "\n",
              "    .colab-df-convert:hover {\n",
              "      background-color: #E2EBFA;\n",
              "      box-shadow: 0px 1px 2px rgba(60, 64, 67, 0.3), 0px 1px 3px 1px rgba(60, 64, 67, 0.15);\n",
              "      fill: #174EA6;\n",
              "    }\n",
              "\n",
              "    [theme=dark] .colab-df-convert {\n",
              "      background-color: #3B4455;\n",
              "      fill: #D2E3FC;\n",
              "    }\n",
              "\n",
              "    [theme=dark] .colab-df-convert:hover {\n",
              "      background-color: #434B5C;\n",
              "      box-shadow: 0px 1px 3px 1px rgba(0, 0, 0, 0.15);\n",
              "      filter: drop-shadow(0px 1px 2px rgba(0, 0, 0, 0.3));\n",
              "      fill: #FFFFFF;\n",
              "    }\n",
              "  </style>\n",
              "\n",
              "      <script>\n",
              "        const buttonEl =\n",
              "          document.querySelector('#df-c0507f51-bfb4-4e4f-b49b-c52191de1ef5 button.colab-df-convert');\n",
              "        buttonEl.style.display =\n",
              "          google.colab.kernel.accessAllowed ? 'block' : 'none';\n",
              "\n",
              "        async function convertToInteractive(key) {\n",
              "          const element = document.querySelector('#df-c0507f51-bfb4-4e4f-b49b-c52191de1ef5');\n",
              "          const dataTable =\n",
              "            await google.colab.kernel.invokeFunction('convertToInteractive',\n",
              "                                                     [key], {});\n",
              "          if (!dataTable) return;\n",
              "\n",
              "          const docLinkHtml = 'Like what you see? Visit the ' +\n",
              "            '<a target=\"_blank\" href=https://colab.research.google.com/notebooks/data_table.ipynb>data table notebook</a>'\n",
              "            + ' to learn more about interactive tables.';\n",
              "          element.innerHTML = '';\n",
              "          dataTable['output_type'] = 'display_data';\n",
              "          await google.colab.output.renderOutput(dataTable, element);\n",
              "          const docLink = document.createElement('div');\n",
              "          docLink.innerHTML = docLinkHtml;\n",
              "          element.appendChild(docLink);\n",
              "        }\n",
              "      </script>\n",
              "    </div>\n",
              "  </div>\n",
              "  "
            ]
          },
          "metadata": {},
          "execution_count": 9
        }
      ]
    },
    {
      "cell_type": "code",
      "source": [
        "N_FEATURES = len(df.columns) # DO NOT CHANGE THIS\n",
        "\n",
        "    # Normalizes the data\n",
        "data = df.values\n",
        "data = normalize_series(data, data.min(axis=0), data.max(axis=0))\n",
        "\n",
        "    # Splits the data into training and validation sets.\n",
        "SPLIT_TIME = int(len(data) * 0.5) # DO NOT CHANGE THIS\n",
        "x_train = data[:SPLIT_TIME]\n",
        "x_valid = data[SPLIT_TIME:]\n",
        "\n",
        "    # DO NOT CHANGE THIS CODE\n",
        "tf.keras.backend.clear_session()\n",
        "tf.random.set_seed(42)\n",
        "\n",
        "    # DO NOT CHANGE BATCH_SIZE IF YOU ARE USING STATEFUL LSTM/RNN/GRU.\n",
        "    # THE TEST WILL FAIL TO GRADE YOUR SCORE IN SUCH CASES.\n",
        "    # In other cases, it is advised not to change the batch size since it\n",
        "    # might affect your final scores. While setting it to a lower size\n",
        "    # might not do any harm, higher sizes might affect your scores.\n",
        "BATCH_SIZE = 32  # ADVISED NOT TO CHANGE THIS\n",
        "\n",
        "    # DO NOT CHANGE N_PAST, N_FUTURE, SHIFT. The tests will fail to run\n",
        "    # on the server.\n",
        "    # Number of past time steps based on which future observations should be\n",
        "    # predicted\n",
        "N_PAST = 24  # DO NOT CHANGE THIS\n",
        "\n",
        "    # Number of future time steps which are to be predicted.\n",
        "N_FUTURE = 24  # DO NOT CHANGE THIS\n",
        "\n",
        "    # By how many positions the window slides to create a new window\n",
        "    # of observations.\n",
        "SHIFT = 1  # DO NOT CHANGE THIS\n",
        "\n",
        "    # Code to create windowed train and validation datasets.\n",
        "train_set = windowed_dataset(series=x_train, batch_size=BATCH_SIZE,\n",
        "                                 n_past=N_PAST, n_future=N_FUTURE,\n",
        "                                 shift=SHIFT)\n",
        "valid_set = windowed_dataset(series=x_valid, batch_size=BATCH_SIZE,\n",
        "                                 n_past=N_PAST, n_future=N_FUTURE,\n",
        "                                 shift=SHIFT)\n",
        "\n"
      ],
      "metadata": {
        "id": "k1x3RJJtGq-J"
      },
      "execution_count": 10,
      "outputs": []
    },
    {
      "cell_type": "code",
      "source": [
        "x_train.shape"
      ],
      "metadata": {
        "colab": {
          "base_uri": "https://localhost:8080/"
        },
        "id": "uynhu0De1RnB",
        "outputId": "5c21bd82-2942-4991-a281-48da28b338f4"
      },
      "execution_count": 17,
      "outputs": [
        {
          "output_type": "execute_result",
          "data": {
            "text/plain": [
              "(43200, 7)"
            ]
          },
          "metadata": {},
          "execution_count": 17
        }
      ]
    },
    {
      "cell_type": "code",
      "source": [
        "# Check shape of windowed data.\n",
        "train_set.element_spec"
      ],
      "metadata": {
        "colab": {
          "base_uri": "https://localhost:8080/"
        },
        "id": "KBfavwdK0oTg",
        "outputId": "f656d30a-c73e-42ce-b4fc-ddfda43d1d3e"
      },
      "execution_count": 16,
      "outputs": [
        {
          "output_type": "execute_result",
          "data": {
            "text/plain": [
              "(TensorSpec(shape=(None, None, 7), dtype=tf.float64, name=None),\n",
              " TensorSpec(shape=(None, None, 7), dtype=tf.float64, name=None))"
            ]
          },
          "metadata": {},
          "execution_count": 16
        }
      ]
    },
    {
      "cell_type": "code",
      "source": [
        "for example_inputs, example_labels in train_set.take(1):\n",
        "  print(f'Inputs shape (batch, time, features): {example_inputs.shape}')\n",
        "  print(f'Labels shape (batch, time, features): {example_labels.shape}')"
      ],
      "metadata": {
        "colab": {
          "base_uri": "https://localhost:8080/"
        },
        "id": "uAGf_13y1z3X",
        "outputId": "44c52e7c-811e-428f-9eaf-c85396388893"
      },
      "execution_count": 20,
      "outputs": [
        {
          "output_type": "stream",
          "name": "stdout",
          "text": [
            "Inputs shape (batch, time, features): (32, 24, 7)\n",
            "Labels shape (batch, time, features): (32, 24, 7)\n"
          ]
        }
      ]
    },
    {
      "cell_type": "code",
      "source": [
        "valid_set.element_spec"
      ],
      "metadata": {
        "colab": {
          "base_uri": "https://localhost:8080/"
        },
        "id": "nHmnX1qU1Zzm",
        "outputId": "1f803d97-c172-41dd-df64-1efb0ea9e95e"
      },
      "execution_count": 18,
      "outputs": [
        {
          "output_type": "execute_result",
          "data": {
            "text/plain": [
              "(TensorSpec(shape=(None, None, 7), dtype=tf.float64, name=None),\n",
              " TensorSpec(shape=(None, None, 7), dtype=tf.float64, name=None))"
            ]
          },
          "metadata": {},
          "execution_count": 18
        }
      ]
    },
    {
      "cell_type": "code",
      "source": [
        "for element in train_set:\n",
        "  print(element)\n",
        "  import sys\n",
        "  sys.exit()"
      ],
      "metadata": {
        "colab": {
          "base_uri": "https://localhost:8080/",
          "height": 1000
        },
        "id": "YNcPSPuwVk0o",
        "outputId": "694844a7-a15e-4e28-bdd4-44e6ce3dcae6"
      },
      "execution_count": 19,
      "outputs": [
        {
          "output_type": "stream",
          "name": "stdout",
          "text": [
            "(<tf.Tensor: shape=(32, 24, 7), dtype=float64, numpy=\n",
            "array([[[0.44304913, 0.47826087, 0.04036551, ..., 0.        ,\n",
            "         0.01282051, 0.85      ],\n",
            "        [0.56906808, 0.49885584, 0.0355582 , ..., 0.        ,\n",
            "         0.01282051, 0.8       ],\n",
            "        [0.57061027, 0.56979405, 0.03420739, ..., 0.        ,\n",
            "         0.02564103, 0.85      ],\n",
            "        ...,\n",
            "        [0.82749504, 0.        , 0.0250298 , ..., 0.        ,\n",
            "         0.        , 0.85      ],\n",
            "        [0.75258868, 0.        , 0.02991657, ..., 0.        ,\n",
            "         0.        , 0.8       ],\n",
            "        [0.54857898, 0.        , 0.03778308, ..., 0.        ,\n",
            "         0.        , 0.85      ]],\n",
            "\n",
            "       [[0.56906808, 0.49885584, 0.0355582 , ..., 0.        ,\n",
            "         0.01282051, 0.8       ],\n",
            "        [0.57061027, 0.56979405, 0.03420739, ..., 0.        ,\n",
            "         0.02564103, 0.85      ],\n",
            "        [0.57215246, 0.57437071, 0.03599523, ..., 0.        ,\n",
            "         0.01282051, 0.85      ],\n",
            "        ...,\n",
            "        [0.75258868, 0.        , 0.02991657, ..., 0.        ,\n",
            "         0.        , 0.8       ],\n",
            "        [0.54857898, 0.        , 0.03778308, ..., 0.        ,\n",
            "         0.        , 0.85      ],\n",
            "        [0.47146949, 0.        , 0.04084227, ..., 0.        ,\n",
            "         0.        , 0.85      ]],\n",
            "\n",
            "       [[0.57061027, 0.56979405, 0.03420739, ..., 0.        ,\n",
            "         0.02564103, 0.85      ],\n",
            "        [0.57215246, 0.57437071, 0.03599523, ..., 0.        ,\n",
            "         0.01282051, 0.85      ],\n",
            "        [0.3824631 , 0.60411899, 0.04370282, ..., 0.        ,\n",
            "         0.01282051, 0.85      ],\n",
            "        ...,\n",
            "        [0.54857898, 0.        , 0.03778308, ..., 0.        ,\n",
            "         0.        , 0.85      ],\n",
            "        [0.47146949, 0.        , 0.04084227, ..., 0.        ,\n",
            "         0.        , 0.85      ],\n",
            "        [0.33641771, 0.        , 0.04759634, ..., 0.        ,\n",
            "         0.        , 0.85      ]],\n",
            "\n",
            "       ...,\n",
            "\n",
            "       [[0.32870676, 0.        , 0.04211363, ..., 0.        ,\n",
            "         0.        , 0.85      ],\n",
            "        [0.27825512, 0.        , 0.04123957, ..., 0.        ,\n",
            "         0.        , 0.85      ],\n",
            "        [0.39259749, 0.08695652, 0.03770362, ..., 0.        ,\n",
            "         0.        , 0.85      ],\n",
            "        ...,\n",
            "        [0.24168319, 0.18077803, 0.04998014, ..., 0.        ,\n",
            "         0.01282051, 0.85      ],\n",
            "        [0.48512888, 0.11441648, 0.03802145, ..., 0.        ,\n",
            "         0.25641026, 0.85      ],\n",
            "        [0.47697731, 0.08695652, 0.0378228 , ..., 0.        ,\n",
            "         0.11538462, 0.85      ]],\n",
            "\n",
            "       [[0.27825512, 0.        , 0.04123957, ..., 0.        ,\n",
            "         0.        , 0.85      ],\n",
            "        [0.39259749, 0.08695652, 0.03770362, ..., 0.        ,\n",
            "         0.        , 0.85      ],\n",
            "        [0.45692884, 0.10297483, 0.03611442, ..., 0.        ,\n",
            "         0.        , 0.8       ],\n",
            "        ...,\n",
            "        [0.48512888, 0.11441648, 0.03802145, ..., 0.        ,\n",
            "         0.25641026, 0.85      ],\n",
            "        [0.47697731, 0.08695652, 0.0378228 , ..., 0.        ,\n",
            "         0.11538462, 0.85      ],\n",
            "        [0.44150694, 0.09382151, 0.03825983, ..., 0.        ,\n",
            "         0.01282051, 0.85      ]],\n",
            "\n",
            "       [[0.39259749, 0.08695652, 0.03770362, ..., 0.        ,\n",
            "         0.        , 0.85      ],\n",
            "        [0.45692884, 0.10297483, 0.03611442, ..., 0.        ,\n",
            "         0.        , 0.8       ],\n",
            "        [0.47565543, 0.        , 0.03551847, ..., 0.        ,\n",
            "         0.        , 0.85      ],\n",
            "        ...,\n",
            "        [0.47697731, 0.08695652, 0.0378228 , ..., 0.        ,\n",
            "         0.11538462, 0.85      ],\n",
            "        [0.44150694, 0.09382151, 0.03825983, ..., 0.        ,\n",
            "         0.01282051, 0.85      ],\n",
            "        [0.47124917, 0.        , 0.03420739, ..., 0.        ,\n",
            "         0.01282051, 0.8       ]]])>, <tf.Tensor: shape=(32, 24, 7), dtype=float64, numpy=\n",
            "array([[[0.47146949, 0.        , 0.04084227, ..., 0.        ,\n",
            "         0.        , 0.85      ],\n",
            "        [0.33641771, 0.        , 0.04759634, ..., 0.        ,\n",
            "         0.        , 0.85      ],\n",
            "        [0.33509584, 0.        , 0.0443385 , ..., 0.        ,\n",
            "         0.        , 0.85      ],\n",
            "        ...,\n",
            "        [0.47036792, 0.15560641, 0.03965038, ..., 0.        ,\n",
            "         0.47435897, 0.8       ],\n",
            "        [0.35272086, 0.16933638, 0.04576877, ..., 0.        ,\n",
            "         0.28205128, 0.9       ],\n",
            "        [0.319013  , 0.17391304, 0.04922527, ..., 0.        ,\n",
            "         0.15384615, 0.85      ]],\n",
            "\n",
            "       [[0.33641771, 0.        , 0.04759634, ..., 0.        ,\n",
            "         0.        , 0.85      ],\n",
            "        [0.33509584, 0.        , 0.0443385 , ..., 0.        ,\n",
            "         0.        , 0.85      ],\n",
            "        [0.33421458, 0.        , 0.04338498, ..., 0.        ,\n",
            "         0.        , 0.85      ],\n",
            "        ...,\n",
            "        [0.35272086, 0.16933638, 0.04576877, ..., 0.        ,\n",
            "         0.28205128, 0.9       ],\n",
            "        [0.319013  , 0.17391304, 0.04922527, ..., 0.        ,\n",
            "         0.15384615, 0.85      ],\n",
            "        [0.38951311, 0.16475973, 0.04410012, ..., 0.        ,\n",
            "         0.34615385, 0.85      ]],\n",
            "\n",
            "       [[0.33509584, 0.        , 0.0443385 , ..., 0.        ,\n",
            "         0.        , 0.85      ],\n",
            "        [0.33421458, 0.        , 0.04338498, ..., 0.        ,\n",
            "         0.        , 0.85      ],\n",
            "        [0.33751928, 0.        , 0.04294795, ..., 0.        ,\n",
            "         0.        , 0.85      ],\n",
            "        ...,\n",
            "        [0.319013  , 0.17391304, 0.04922527, ..., 0.        ,\n",
            "         0.15384615, 0.85      ],\n",
            "        [0.38951311, 0.16475973, 0.04410012, ..., 0.        ,\n",
            "         0.34615385, 0.85      ],\n",
            "        [0.23287068, 0.18306636, 0.05065554, ..., 0.        ,\n",
            "         0.01282051, 0.85      ]],\n",
            "\n",
            "       ...,\n",
            "\n",
            "       [[0.44150694, 0.09382151, 0.03825983, ..., 0.        ,\n",
            "         0.01282051, 0.85      ],\n",
            "        [0.47124917, 0.        , 0.03420739, ..., 0.        ,\n",
            "         0.01282051, 0.8       ],\n",
            "        [0.29279577, 0.        , 0.04342471, ..., 0.        ,\n",
            "         0.01282051, 0.85      ],\n",
            "        ...,\n",
            "        [0.29940516, 0.05491991, 0.03710767, ..., 0.        ,\n",
            "         0.01282051, 0.85      ],\n",
            "        [0.23485349, 0.0617849 , 0.04004768, ..., 0.        ,\n",
            "         0.01282051, 0.85      ],\n",
            "        [0.22802379, 0.0617849 , 0.03969011, ..., 0.        ,\n",
            "         0.01282051, 0.85      ]],\n",
            "\n",
            "       [[0.47124917, 0.        , 0.03420739, ..., 0.        ,\n",
            "         0.01282051, 0.8       ],\n",
            "        [0.29279577, 0.        , 0.04342471, ..., 0.        ,\n",
            "         0.01282051, 0.85      ],\n",
            "        [0.30116766, 0.        , 0.04199444, ..., 0.        ,\n",
            "         0.01282051, 0.85      ],\n",
            "        ...,\n",
            "        [0.23485349, 0.0617849 , 0.04004768, ..., 0.        ,\n",
            "         0.01282051, 0.85      ],\n",
            "        [0.22802379, 0.0617849 , 0.03969011, ..., 0.        ,\n",
            "         0.01282051, 0.85      ],\n",
            "        [0.22868473, 0.0617849 , 0.0420739 , ..., 0.        ,\n",
            "         0.01282051, 0.85      ]],\n",
            "\n",
            "       [[0.29279577, 0.        , 0.04342471, ..., 0.        ,\n",
            "         0.01282051, 0.85      ],\n",
            "        [0.30116766, 0.        , 0.04199444, ..., 0.        ,\n",
            "         0.01282051, 0.85      ],\n",
            "        [0.30248954, 0.        , 0.04513309, ..., 0.        ,\n",
            "         0.02564103, 0.85      ],\n",
            "        ...,\n",
            "        [0.22802379, 0.0617849 , 0.03969011, ..., 0.        ,\n",
            "         0.01282051, 0.85      ],\n",
            "        [0.22868473, 0.0617849 , 0.0420739 , ..., 0.        ,\n",
            "         0.01282051, 0.85      ],\n",
            "        [0.22736286, 0.0617849 , 0.04147795, ..., 0.        ,\n",
            "         0.01282051, 0.85      ]]])>)\n"
          ]
        },
        {
          "output_type": "error",
          "ename": "SystemExit",
          "evalue": "ignored",
          "traceback": [
            "An exception has occurred, use %tb to see the full traceback.\n",
            "\u001b[0;31mSystemExit\u001b[0m\n"
          ]
        },
        {
          "output_type": "stream",
          "name": "stderr",
          "text": [
            "/usr/local/lib/python3.7/dist-packages/IPython/core/interactiveshell.py:2890: UserWarning: To exit: use 'exit', 'quit', or Ctrl-D.\n",
            "  warn(\"To exit: use 'exit', 'quit', or Ctrl-D.\", stacklevel=1)\n"
          ]
        }
      ]
    },
    {
      "cell_type": "code",
      "source": [
        "model = tf.keras.models.Sequential([\n",
        "\n",
        "        # ADD YOUR LAYERS HERE.\n",
        "\n",
        "        tf.keras.layers.LSTM(32, return_sequences=False,input_shape=[24,7]),\n",
        "        tf.keras.layers.Dense(N_FUTURE*N_FEATURES,\n",
        "                          kernel_initializer=tf.initializers.zeros()),\n",
        "        tf.keras.layers.Reshape([N_FUTURE, N_FEATURES]),\n",
        "\n",
        "        # If you don't follow the instructions in the following comments,\n",
        "        # tests will fail to grade your code:\n",
        "        # The input layer of your model must have an input shape of:\n",
        "        # (BATCH_SIZE, N_PAST = 24, N_FEATURES = 7)\n",
        "        # The model must have an output shape of:\n",
        "        # (BATCH_SIZE, N_FUTURE = 24, N_FEATURES = 7).\n",
        "        # Make sure that there are N_FEATURES = 7 neurons in the final dense\n",
        "        # layer since the model predicts 7 features.\n",
        "\n",
        "        # HINT: Bidirectional LSTMs may help boost your score. This is only a\n",
        "        # suggestion.\n",
        "\n",
        "        # WARNING: If you are using the GRU layer, it is advised not to use the\n",
        "        # recurrent_dropout argument (you can alternatively set it to 0),\n",
        "        # since it has not been implemented in the cuDNN kernel and may\n",
        "        # result in much longer training times.\n",
        "        tf.keras.layers.Dense(N_FEATURES)\n",
        "        \n",
        "    ])"
      ],
      "metadata": {
        "id": "YboKRVYMHmjc"
      },
      "execution_count": 22,
      "outputs": []
    },
    {
      "cell_type": "code",
      "source": [
        "model.summary()"
      ],
      "metadata": {
        "colab": {
          "base_uri": "https://localhost:8080/"
        },
        "id": "NN7mdFpAJ34Y",
        "outputId": "c42f7102-82df-4794-f386-21a6803d7e40"
      },
      "execution_count": 25,
      "outputs": [
        {
          "output_type": "stream",
          "name": "stdout",
          "text": [
            "Model: \"sequential_2\"\n",
            "_________________________________________________________________\n",
            " Layer (type)                Output Shape              Param #   \n",
            "=================================================================\n",
            " lstm_2 (LSTM)               (None, 32)                5120      \n",
            "                                                                 \n",
            " dense_4 (Dense)             (None, 168)               5544      \n",
            "                                                                 \n",
            " reshape_2 (Reshape)         (None, 24, 7)             0         \n",
            "                                                                 \n",
            " dense_5 (Dense)             (None, 24, 7)             56        \n",
            "                                                                 \n",
            "=================================================================\n",
            "Total params: 10,720\n",
            "Trainable params: 10,720\n",
            "Non-trainable params: 0\n",
            "_________________________________________________________________\n"
          ]
        }
      ]
    },
    {
      "cell_type": "code",
      "source": [
        "early_stopping = tf.keras.callbacks.EarlyStopping(monitor='val_loss', patience=3, restore_best_weights=True)\n",
        "cvlog=tf.keras.callbacks.CSVLogger('his.csv')\n",
        "model.compile(\n",
        "        # YOUR CODE HERE\n",
        "         loss=\"mse\", optimizer = tf.keras.optimizers.SGD(learning_rate=1e-5),metrics=[tf.metrics.MeanAbsoluteError()]\n",
        "    )"
      ],
      "metadata": {
        "id": "WkT992usHoV6"
      },
      "execution_count": 31,
      "outputs": []
    },
    {
      "cell_type": "code",
      "source": [
        "history=model.fit(\n",
        "        # YOUR CODE HERE\n",
        "        train_set, epochs=20,validation_data=valid_set, callbacks=[ early_stopping, cvlog], verbose=1\n",
        "    )"
      ],
      "metadata": {
        "colab": {
          "base_uri": "https://localhost:8080/"
        },
        "id": "Mcg7La_JHuJN",
        "outputId": "a7440b2d-d3f5-48ff-8fb4-954d9dc2b55b"
      },
      "execution_count": 32,
      "outputs": [
        {
          "output_type": "stream",
          "name": "stdout",
          "text": [
            "Epoch 1/20\n",
            "1349/1349 [==============================] - 32s 22ms/step - loss: 0.0669 - mean_absolute_error: 0.1345 - val_loss: 0.0676 - val_mean_absolute_error: 0.1315\n",
            "Epoch 2/20\n",
            "1349/1349 [==============================] - 28s 21ms/step - loss: 0.0666 - mean_absolute_error: 0.1343 - val_loss: 0.0674 - val_mean_absolute_error: 0.1313\n",
            "Epoch 3/20\n",
            "1349/1349 [==============================] - 28s 21ms/step - loss: 0.0664 - mean_absolute_error: 0.1341 - val_loss: 0.0671 - val_mean_absolute_error: 0.1311\n",
            "Epoch 4/20\n",
            "1349/1349 [==============================] - 28s 21ms/step - loss: 0.0662 - mean_absolute_error: 0.1339 - val_loss: 0.0669 - val_mean_absolute_error: 0.1309\n",
            "Epoch 5/20\n",
            "1349/1349 [==============================] - 30s 22ms/step - loss: 0.0660 - mean_absolute_error: 0.1337 - val_loss: 0.0667 - val_mean_absolute_error: 0.1307\n",
            "Epoch 6/20\n",
            "1349/1349 [==============================] - 28s 21ms/step - loss: 0.0657 - mean_absolute_error: 0.1335 - val_loss: 0.0664 - val_mean_absolute_error: 0.1305\n",
            "Epoch 7/20\n",
            "1349/1349 [==============================] - 28s 21ms/step - loss: 0.0655 - mean_absolute_error: 0.1333 - val_loss: 0.0662 - val_mean_absolute_error: 0.1303\n",
            "Epoch 8/20\n",
            "1349/1349 [==============================] - 28s 21ms/step - loss: 0.0653 - mean_absolute_error: 0.1331 - val_loss: 0.0660 - val_mean_absolute_error: 0.1301\n",
            "Epoch 9/20\n",
            "1349/1349 [==============================] - 29s 22ms/step - loss: 0.0651 - mean_absolute_error: 0.1329 - val_loss: 0.0657 - val_mean_absolute_error: 0.1299\n",
            "Epoch 10/20\n",
            "1349/1349 [==============================] - 29s 22ms/step - loss: 0.0648 - mean_absolute_error: 0.1327 - val_loss: 0.0655 - val_mean_absolute_error: 0.1297\n",
            "Epoch 11/20\n",
            "1349/1349 [==============================] - 29s 21ms/step - loss: 0.0646 - mean_absolute_error: 0.1325 - val_loss: 0.0653 - val_mean_absolute_error: 0.1296\n",
            "Epoch 12/20\n",
            "1349/1349 [==============================] - 29s 22ms/step - loss: 0.0644 - mean_absolute_error: 0.1323 - val_loss: 0.0651 - val_mean_absolute_error: 0.1294\n",
            "Epoch 13/20\n",
            "1349/1349 [==============================] - 30s 22ms/step - loss: 0.0642 - mean_absolute_error: 0.1321 - val_loss: 0.0649 - val_mean_absolute_error: 0.1292\n",
            "Epoch 14/20\n",
            "1349/1349 [==============================] - 30s 23ms/step - loss: 0.0640 - mean_absolute_error: 0.1320 - val_loss: 0.0647 - val_mean_absolute_error: 0.1290\n",
            "Epoch 15/20\n",
            "1349/1349 [==============================] - 31s 23ms/step - loss: 0.0638 - mean_absolute_error: 0.1318 - val_loss: 0.0644 - val_mean_absolute_error: 0.1289\n",
            "Epoch 16/20\n",
            "1349/1349 [==============================] - 30s 23ms/step - loss: 0.0635 - mean_absolute_error: 0.1316 - val_loss: 0.0642 - val_mean_absolute_error: 0.1287\n",
            "Epoch 17/20\n",
            "1349/1349 [==============================] - 30s 22ms/step - loss: 0.0633 - mean_absolute_error: 0.1315 - val_loss: 0.0640 - val_mean_absolute_error: 0.1286\n",
            "Epoch 18/20\n",
            "1349/1349 [==============================] - 30s 22ms/step - loss: 0.0631 - mean_absolute_error: 0.1313 - val_loss: 0.0638 - val_mean_absolute_error: 0.1284\n",
            "Epoch 19/20\n",
            "1349/1349 [==============================] - 30s 22ms/step - loss: 0.0629 - mean_absolute_error: 0.1311 - val_loss: 0.0636 - val_mean_absolute_error: 0.1283\n",
            "Epoch 20/20\n",
            "1349/1349 [==============================] - 30s 22ms/step - loss: 0.0627 - mean_absolute_error: 0.1310 - val_loss: 0.0634 - val_mean_absolute_error: 0.1281\n"
          ]
        }
      ]
    },
    {
      "cell_type": "code",
      "source": [
        "import pandas as pd\n",
        "his = pd.read_csv('his.csv') \n",
        "his.head()\n"
      ],
      "metadata": {
        "colab": {
          "base_uri": "https://localhost:8080/",
          "height": 206
        },
        "id": "K8ANXlPmStbX",
        "outputId": "f85d3792-a0fd-43de-d23d-c81072b5c22a"
      },
      "execution_count": 33,
      "outputs": [
        {
          "output_type": "execute_result",
          "data": {
            "text/plain": [
              "   epoch      loss  mean_absolute_error  val_loss  val_mean_absolute_error\n",
              "0      0  0.066879             0.134481  0.067587                 0.131478\n",
              "1      1  0.066644             0.134267  0.067351                 0.131265\n",
              "2      2  0.066411             0.134056  0.067117                 0.131056\n",
              "3      3  0.066181             0.133853  0.066884                 0.130863\n",
              "4      4  0.065952             0.133655  0.066653                 0.130672"
            ],
            "text/html": [
              "\n",
              "  <div id=\"df-9f228bfb-5110-4dbf-8a0e-a0e188223f58\">\n",
              "    <div class=\"colab-df-container\">\n",
              "      <div>\n",
              "<style scoped>\n",
              "    .dataframe tbody tr th:only-of-type {\n",
              "        vertical-align: middle;\n",
              "    }\n",
              "\n",
              "    .dataframe tbody tr th {\n",
              "        vertical-align: top;\n",
              "    }\n",
              "\n",
              "    .dataframe thead th {\n",
              "        text-align: right;\n",
              "    }\n",
              "</style>\n",
              "<table border=\"1\" class=\"dataframe\">\n",
              "  <thead>\n",
              "    <tr style=\"text-align: right;\">\n",
              "      <th></th>\n",
              "      <th>epoch</th>\n",
              "      <th>loss</th>\n",
              "      <th>mean_absolute_error</th>\n",
              "      <th>val_loss</th>\n",
              "      <th>val_mean_absolute_error</th>\n",
              "    </tr>\n",
              "  </thead>\n",
              "  <tbody>\n",
              "    <tr>\n",
              "      <th>0</th>\n",
              "      <td>0</td>\n",
              "      <td>0.066879</td>\n",
              "      <td>0.134481</td>\n",
              "      <td>0.067587</td>\n",
              "      <td>0.131478</td>\n",
              "    </tr>\n",
              "    <tr>\n",
              "      <th>1</th>\n",
              "      <td>1</td>\n",
              "      <td>0.066644</td>\n",
              "      <td>0.134267</td>\n",
              "      <td>0.067351</td>\n",
              "      <td>0.131265</td>\n",
              "    </tr>\n",
              "    <tr>\n",
              "      <th>2</th>\n",
              "      <td>2</td>\n",
              "      <td>0.066411</td>\n",
              "      <td>0.134056</td>\n",
              "      <td>0.067117</td>\n",
              "      <td>0.131056</td>\n",
              "    </tr>\n",
              "    <tr>\n",
              "      <th>3</th>\n",
              "      <td>3</td>\n",
              "      <td>0.066181</td>\n",
              "      <td>0.133853</td>\n",
              "      <td>0.066884</td>\n",
              "      <td>0.130863</td>\n",
              "    </tr>\n",
              "    <tr>\n",
              "      <th>4</th>\n",
              "      <td>4</td>\n",
              "      <td>0.065952</td>\n",
              "      <td>0.133655</td>\n",
              "      <td>0.066653</td>\n",
              "      <td>0.130672</td>\n",
              "    </tr>\n",
              "  </tbody>\n",
              "</table>\n",
              "</div>\n",
              "      <button class=\"colab-df-convert\" onclick=\"convertToInteractive('df-9f228bfb-5110-4dbf-8a0e-a0e188223f58')\"\n",
              "              title=\"Convert this dataframe to an interactive table.\"\n",
              "              style=\"display:none;\">\n",
              "        \n",
              "  <svg xmlns=\"http://www.w3.org/2000/svg\" height=\"24px\"viewBox=\"0 0 24 24\"\n",
              "       width=\"24px\">\n",
              "    <path d=\"M0 0h24v24H0V0z\" fill=\"none\"/>\n",
              "    <path d=\"M18.56 5.44l.94 2.06.94-2.06 2.06-.94-2.06-.94-.94-2.06-.94 2.06-2.06.94zm-11 1L8.5 8.5l.94-2.06 2.06-.94-2.06-.94L8.5 2.5l-.94 2.06-2.06.94zm10 10l.94 2.06.94-2.06 2.06-.94-2.06-.94-.94-2.06-.94 2.06-2.06.94z\"/><path d=\"M17.41 7.96l-1.37-1.37c-.4-.4-.92-.59-1.43-.59-.52 0-1.04.2-1.43.59L10.3 9.45l-7.72 7.72c-.78.78-.78 2.05 0 2.83L4 21.41c.39.39.9.59 1.41.59.51 0 1.02-.2 1.41-.59l7.78-7.78 2.81-2.81c.8-.78.8-2.07 0-2.86zM5.41 20L4 18.59l7.72-7.72 1.47 1.35L5.41 20z\"/>\n",
              "  </svg>\n",
              "      </button>\n",
              "      \n",
              "  <style>\n",
              "    .colab-df-container {\n",
              "      display:flex;\n",
              "      flex-wrap:wrap;\n",
              "      gap: 12px;\n",
              "    }\n",
              "\n",
              "    .colab-df-convert {\n",
              "      background-color: #E8F0FE;\n",
              "      border: none;\n",
              "      border-radius: 50%;\n",
              "      cursor: pointer;\n",
              "      display: none;\n",
              "      fill: #1967D2;\n",
              "      height: 32px;\n",
              "      padding: 0 0 0 0;\n",
              "      width: 32px;\n",
              "    }\n",
              "\n",
              "    .colab-df-convert:hover {\n",
              "      background-color: #E2EBFA;\n",
              "      box-shadow: 0px 1px 2px rgba(60, 64, 67, 0.3), 0px 1px 3px 1px rgba(60, 64, 67, 0.15);\n",
              "      fill: #174EA6;\n",
              "    }\n",
              "\n",
              "    [theme=dark] .colab-df-convert {\n",
              "      background-color: #3B4455;\n",
              "      fill: #D2E3FC;\n",
              "    }\n",
              "\n",
              "    [theme=dark] .colab-df-convert:hover {\n",
              "      background-color: #434B5C;\n",
              "      box-shadow: 0px 1px 3px 1px rgba(0, 0, 0, 0.15);\n",
              "      filter: drop-shadow(0px 1px 2px rgba(0, 0, 0, 0.3));\n",
              "      fill: #FFFFFF;\n",
              "    }\n",
              "  </style>\n",
              "\n",
              "      <script>\n",
              "        const buttonEl =\n",
              "          document.querySelector('#df-9f228bfb-5110-4dbf-8a0e-a0e188223f58 button.colab-df-convert');\n",
              "        buttonEl.style.display =\n",
              "          google.colab.kernel.accessAllowed ? 'block' : 'none';\n",
              "\n",
              "        async function convertToInteractive(key) {\n",
              "          const element = document.querySelector('#df-9f228bfb-5110-4dbf-8a0e-a0e188223f58');\n",
              "          const dataTable =\n",
              "            await google.colab.kernel.invokeFunction('convertToInteractive',\n",
              "                                                     [key], {});\n",
              "          if (!dataTable) return;\n",
              "\n",
              "          const docLinkHtml = 'Like what you see? Visit the ' +\n",
              "            '<a target=\"_blank\" href=https://colab.research.google.com/notebooks/data_table.ipynb>data table notebook</a>'\n",
              "            + ' to learn more about interactive tables.';\n",
              "          element.innerHTML = '';\n",
              "          dataTable['output_type'] = 'display_data';\n",
              "          await google.colab.output.renderOutput(dataTable, element);\n",
              "          const docLink = document.createElement('div');\n",
              "          docLink.innerHTML = docLinkHtml;\n",
              "          element.appendChild(docLink);\n",
              "        }\n",
              "      </script>\n",
              "    </div>\n",
              "  </div>\n",
              "  "
            ]
          },
          "metadata": {},
          "execution_count": 33
        }
      ]
    },
    {
      "cell_type": "code",
      "source": [
        "# Plot training and validation metrics from history object\n",
        "\n",
        "train_loss=history.history['loss']\n",
        "val_loss=history.history['val_loss']\n",
        "train_accuracy=history.history['mean_absolute_error']\n",
        "val_accuracy=history.history['val_mean_absolute_error']\n",
        "epochs=range(len(train_accuracy))\n",
        "#plot loss\n",
        "plt.plot(epochs,train_loss,color='b',label='Train loss')\n",
        "plt.plot(epochs,val_loss,color='r',label='Validation loss')\n",
        "#plot accuracy\n",
        "plt.plot(epochs,train_accuracy,color='b',label='Train accuracy')\n",
        "plt.plot(epochs,val_accuracy,color='r',label='Validation accuracy')"
      ],
      "metadata": {
        "id": "dMRPZzWQs3EL",
        "colab": {
          "base_uri": "https://localhost:8080/",
          "height": 282
        },
        "outputId": "6b0ca9cb-759b-4e3c-e4d8-65f4fc3f3877"
      },
      "execution_count": 35,
      "outputs": [
        {
          "output_type": "execute_result",
          "data": {
            "text/plain": [
              "[<matplotlib.lines.Line2D at 0x7feb72b79910>]"
            ]
          },
          "metadata": {},
          "execution_count": 35
        },
        {
          "output_type": "display_data",
          "data": {
            "text/plain": [
              "<Figure size 432x288 with 1 Axes>"
            ],
            "image/png": "[encoded data removed]"
          },
          "metadata": {
            "needs_background": "light"
          }
        }
      ]
    },
    {
      "cell_type": "code",
      "source": [
        "def plot(self, model=None, plot_col='Global_active_power', max_subplots=3):\n",
        "  inputs, labels = self.example\n",
        "  plt.figure(figsize=(12, 8))\n",
        "  plot_col_index = self.column_indices[plot_col]\n",
        "  max_n = min(max_subplots, len(inputs))\n",
        "  for n in range(max_n):\n",
        "    plt.subplot(max_n, 1, n+1)\n",
        "    plt.ylabel(f'{plot_col} [normed]')\n",
        "    plt.plot(self.input_indices, inputs[n, :, plot_col_index],\n",
        "             label='Inputs', marker='.', zorder=-10)\n",
        "\n",
        "    if self.label_columns:\n",
        "      label_col_index = self.label_columns_indices.get(plot_col, None)\n",
        "    else:\n",
        "      label_col_index = plot_col_index\n",
        "\n",
        "    if label_col_index is None:\n",
        "      continue\n",
        "\n",
        "    plt.scatter(self.label_indices, labels[n, :, label_col_index],\n",
        "                edgecolors='k', label='Labels', c='#2ca02c', s=64)\n",
        "    if model is not None:\n",
        "      predictions = model(inputs)\n",
        "      plt.scatter(self.label_indices, predictions[n, :, label_col_index],\n",
        "                  marker='X', edgecolors='k', label='Predictions',\n",
        "                  c='#ff7f0e', s=64)\n",
        "\n",
        "    if n == 0:\n",
        "      plt.legend()\n",
        "\n",
        "  plt.xlabel('Time [h]')"
      ],
      "metadata": {
        "id": "Qnxvl5XHCtdm"
      },
      "execution_count": 39,
      "outputs": []
    }
  ]
}