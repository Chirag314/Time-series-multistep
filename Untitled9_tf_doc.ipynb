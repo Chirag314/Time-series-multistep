{
  "nbformat": 4,
  "nbformat_minor": 0,
  "metadata": {
    "colab": {
      "name": " Untitled9 tf doc.ipynb",
      "provenance": [],
      "collapsed_sections": [],
      "authorship_tag": "ABX9TyPQNH28oZR97o/wSUj5r86c",
      "include_colab_link": true
    },
    "kernelspec": {
      "name": "python3",
      "display_name": "Python 3"
    },
    "language_info": {
      "name": "python"
    },
    "accelerator": "TPU",
    "gpuClass": "standard"
  },
  "cells": [
    {
      "cell_type": "markdown",
      "metadata": {
        "id": "view-in-github",
        "colab_type": "text"
      },
      "source": [
        "<a href=\"https://colab.research.google.com/github/Chirag314/Time-series-multistep/blob/main/Untitled9_tf_doc.ipynb\" target=\"_parent\"><img src=\"https://colab.research.google.com/assets/colab-badge.svg\" alt=\"Open In Colab\"/></a>"
      ]
    },
    {
      "cell_type": "code",
      "execution_count": 1,
      "metadata": {
        "id": "rNizq_QIGedf"
      },
      "outputs": [],
      "source": [
        "import urllib\n",
        "import zipfile\n",
        "\n",
        "import pandas as pd\n",
        "import tensorflow as tf\n",
        "import tensorflow as tf\n",
        "from tensorflow import keras\n",
        "import numpy as np\n",
        "import matplotlib.pyplot as plt\n",
        "%matplotlib inline\n",
        "\n",
        "# This function downloads and extracts the dataset to the directory that\n",
        "# contains this file.\n",
        "# DO NOT CHANGE THIS CODE\n",
        "# (unless you need to change https to http)\n",
        "def download_and_extract_data():\n",
        "    url = 'https://storage.googleapis.com/download.tensorflow.org/data/certificate/household_power.zip'\n",
        "    urllib.request.urlretrieve(url, 'household_power.zip')\n",
        "    with zipfile.ZipFile('household_power.zip', 'r') as zip_ref:\n",
        "        zip_ref.extractall()\n",
        "\n",
        "\n",
        "# This function normalizes the dataset using min max scaling.\n",
        "# DO NOT CHANGE THIS CODE\n",
        "def normalize_series(data, min, max):\n",
        "    data = data - min\n",
        "    data = data / max\n",
        "    return data\n",
        "#Denormalize\n",
        "def denormalize_series(data, min, max):\n",
        "    data = (data*max)\n",
        "    data =data + min\n",
        "    return data\n",
        "\n",
        "# This function is used to map the time series dataset into windows of\n",
        "# features and respective targets, to prepare it for training and\n",
        "# validation. First element of the first window will be the first element of\n",
        "# the dataset. Consecutive windows are constructed by shifting\n",
        "# the starting position of the first window forward, one at a time (indicated\n",
        "# by shift=1). For a window of n_past number of observations of all the time\n",
        "# indexed variables in the dataset, the target for the window\n",
        "# is the next n_future number of observations of these variables, after the\n",
        "# end of the window.\n",
        "\n",
        "# DO NOT CHANGE THIS CODE\n",
        "def windowed_dataset(series, batch_size, n_past=24, n_future=24, shift=1):\n",
        "    ds = tf.data.Dataset.from_tensor_slices(series)\n",
        "    ds = ds.window(size=n_past + n_future, shift=shift, drop_remainder=True)\n",
        "    ds = ds.flat_map(lambda w: w.batch(n_past + n_future))\n",
        "    ds = ds.map(lambda w: (w[:n_past], w[n_past:]))\n",
        "    return ds.batch(batch_size).prefetch(1)\n",
        "\n",
        "\n"
      ]
    },
    {
      "cell_type": "code",
      "source": [
        "download_and_extract_data()\n",
        "    # Reads the dataset from the CSV.\n",
        "df = pd.read_csv('household_power_consumption.csv', sep=',',\n",
        "                     infer_datetime_format=True, index_col='datetime', header=0)"
      ],
      "metadata": {
        "id": "D6pIK-qUGiDy"
      },
      "execution_count": 2,
      "outputs": []
    },
    {
      "cell_type": "code",
      "source": [
        "len(df)"
      ],
      "metadata": {
        "colab": {
          "base_uri": "https://localhost:8080/"
        },
        "id": "N2ghouUXoSk0",
        "outputId": "bd74939b-2107-4505-9e80-4e74de9349ef"
      },
      "execution_count": 3,
      "outputs": [
        {
          "output_type": "execute_result",
          "data": {
            "text/plain": [
              "86400"
            ]
          },
          "metadata": {},
          "execution_count": 3
        }
      ]
    },
    {
      "cell_type": "code",
      "source": [
        "df.head()"
      ],
      "metadata": {
        "colab": {
          "base_uri": "https://localhost:8080/",
          "height": 238
        },
        "id": "ZcNfmRhctken",
        "outputId": "866a33fc-22c5-4bd2-dcba-53f1ab6d2a81"
      },
      "execution_count": 4,
      "outputs": [
        {
          "output_type": "execute_result",
          "data": {
            "text/plain": [
              "                     Global_active_power  Global_reactive_power  Voltage  \\\n",
              "datetime                                                                   \n",
              "2006-12-16 17:24:00                4.216                  0.418   234.84   \n",
              "2006-12-16 17:25:00                5.360                  0.436   233.63   \n",
              "2006-12-16 17:26:00                5.374                  0.498   233.29   \n",
              "2006-12-16 17:27:00                5.388                  0.502   233.74   \n",
              "2006-12-16 17:28:00                3.666                  0.528   235.68   \n",
              "\n",
              "                     Global_intensity  Sub_metering_1  Sub_metering_2  \\\n",
              "datetime                                                                \n",
              "2006-12-16 17:24:00              18.4             0.0             1.0   \n",
              "2006-12-16 17:25:00              23.0             0.0             1.0   \n",
              "2006-12-16 17:26:00              23.0             0.0             2.0   \n",
              "2006-12-16 17:27:00              23.0             0.0             1.0   \n",
              "2006-12-16 17:28:00              15.8             0.0             1.0   \n",
              "\n",
              "                     Sub_metering_3  \n",
              "datetime                             \n",
              "2006-12-16 17:24:00            17.0  \n",
              "2006-12-16 17:25:00            16.0  \n",
              "2006-12-16 17:26:00            17.0  \n",
              "2006-12-16 17:27:00            17.0  \n",
              "2006-12-16 17:28:00            17.0  "
            ],
            "text/html": [
              "\n",
              "  <div id=\"df-2f3537d2-cb38-442f-a8ca-fa44fe8e8138\">\n",
              "    <div class=\"colab-df-container\">\n",
              "      <div>\n",
              "<style scoped>\n",
              "    .dataframe tbody tr th:only-of-type {\n",
              "        vertical-align: middle;\n",
              "    }\n",
              "\n",
              "    .dataframe tbody tr th {\n",
              "        vertical-align: top;\n",
              "    }\n",
              "\n",
              "    .dataframe thead th {\n",
              "        text-align: right;\n",
              "    }\n",
              "</style>\n",
              "<table border=\"1\" class=\"dataframe\">\n",
              "  <thead>\n",
              "    <tr style=\"text-align: right;\">\n",
              "      <th></th>\n",
              "      <th>Global_active_power</th>\n",
              "      <th>Global_reactive_power</th>\n",
              "      <th>Voltage</th>\n",
              "      <th>Global_intensity</th>\n",
              "      <th>Sub_metering_1</th>\n",
              "      <th>Sub_metering_2</th>\n",
              "      <th>Sub_metering_3</th>\n",
              "    </tr>\n",
              "    <tr>\n",
              "      <th>datetime</th>\n",
              "      <th></th>\n",
              "      <th></th>\n",
              "      <th></th>\n",
              "      <th></th>\n",
              "      <th></th>\n",
              "      <th></th>\n",
              "      <th></th>\n",
              "    </tr>\n",
              "  </thead>\n",
              "  <tbody>\n",
              "    <tr>\n",
              "      <th>2006-12-16 17:24:00</th>\n",
              "      <td>4.216</td>\n",
              "      <td>0.418</td>\n",
              "      <td>234.84</td>\n",
              "      <td>18.4</td>\n",
              "      <td>0.0</td>\n",
              "      <td>1.0</td>\n",
              "      <td>17.0</td>\n",
              "    </tr>\n",
              "    <tr>\n",
              "      <th>2006-12-16 17:25:00</th>\n",
              "      <td>5.360</td>\n",
              "      <td>0.436</td>\n",
              "      <td>233.63</td>\n",
              "      <td>23.0</td>\n",
              "      <td>0.0</td>\n",
              "      <td>1.0</td>\n",
              "      <td>16.0</td>\n",
              "    </tr>\n",
              "    <tr>\n",
              "      <th>2006-12-16 17:26:00</th>\n",
              "      <td>5.374</td>\n",
              "      <td>0.498</td>\n",
              "      <td>233.29</td>\n",
              "      <td>23.0</td>\n",
              "      <td>0.0</td>\n",
              "      <td>2.0</td>\n",
              "      <td>17.0</td>\n",
              "    </tr>\n",
              "    <tr>\n",
              "      <th>2006-12-16 17:27:00</th>\n",
              "      <td>5.388</td>\n",
              "      <td>0.502</td>\n",
              "      <td>233.74</td>\n",
              "      <td>23.0</td>\n",
              "      <td>0.0</td>\n",
              "      <td>1.0</td>\n",
              "      <td>17.0</td>\n",
              "    </tr>\n",
              "    <tr>\n",
              "      <th>2006-12-16 17:28:00</th>\n",
              "      <td>3.666</td>\n",
              "      <td>0.528</td>\n",
              "      <td>235.68</td>\n",
              "      <td>15.8</td>\n",
              "      <td>0.0</td>\n",
              "      <td>1.0</td>\n",
              "      <td>17.0</td>\n",
              "    </tr>\n",
              "  </tbody>\n",
              "</table>\n",
              "</div>\n",
              "      <button class=\"colab-df-convert\" onclick=\"convertToInteractive('df-2f3537d2-cb38-442f-a8ca-fa44fe8e8138')\"\n",
              "              title=\"Convert this dataframe to an interactive table.\"\n",
              "              style=\"display:none;\">\n",
              "        \n",
              "  <svg xmlns=\"http://www.w3.org/2000/svg\" height=\"24px\"viewBox=\"0 0 24 24\"\n",
              "       width=\"24px\">\n",
              "    <path d=\"M0 0h24v24H0V0z\" fill=\"none\"/>\n",
              "    <path d=\"M18.56 5.44l.94 2.06.94-2.06 2.06-.94-2.06-.94-.94-2.06-.94 2.06-2.06.94zm-11 1L8.5 8.5l.94-2.06 2.06-.94-2.06-.94L8.5 2.5l-.94 2.06-2.06.94zm10 10l.94 2.06.94-2.06 2.06-.94-2.06-.94-.94-2.06-.94 2.06-2.06.94z\"/><path d=\"M17.41 7.96l-1.37-1.37c-.4-.4-.92-.59-1.43-.59-.52 0-1.04.2-1.43.59L10.3 9.45l-7.72 7.72c-.78.78-.78 2.05 0 2.83L4 21.41c.39.39.9.59 1.41.59.51 0 1.02-.2 1.41-.59l7.78-7.78 2.81-2.81c.8-.78.8-2.07 0-2.86zM5.41 20L4 18.59l7.72-7.72 1.47 1.35L5.41 20z\"/>\n",
              "  </svg>\n",
              "      </button>\n",
              "      \n",
              "  <style>\n",
              "    .colab-df-container {\n",
              "      display:flex;\n",
              "      flex-wrap:wrap;\n",
              "      gap: 12px;\n",
              "    }\n",
              "\n",
              "    .colab-df-convert {\n",
              "      background-color: #E8F0FE;\n",
              "      border: none;\n",
              "      border-radius: 50%;\n",
              "      cursor: pointer;\n",
              "      display: none;\n",
              "      fill: #1967D2;\n",
              "      height: 32px;\n",
              "      padding: 0 0 0 0;\n",
              "      width: 32px;\n",
              "    }\n",
              "\n",
              "    .colab-df-convert:hover {\n",
              "      background-color: #E2EBFA;\n",
              "      box-shadow: 0px 1px 2px rgba(60, 64, 67, 0.3), 0px 1px 3px 1px rgba(60, 64, 67, 0.15);\n",
              "      fill: #174EA6;\n",
              "    }\n",
              "\n",
              "    [theme=dark] .colab-df-convert {\n",
              "      background-color: #3B4455;\n",
              "      fill: #D2E3FC;\n",
              "    }\n",
              "\n",
              "    [theme=dark] .colab-df-convert:hover {\n",
              "      background-color: #434B5C;\n",
              "      box-shadow: 0px 1px 3px 1px rgba(0, 0, 0, 0.15);\n",
              "      filter: drop-shadow(0px 1px 2px rgba(0, 0, 0, 0.3));\n",
              "      fill: #FFFFFF;\n",
              "    }\n",
              "  </style>\n",
              "\n",
              "      <script>\n",
              "        const buttonEl =\n",
              "          document.querySelector('#df-2f3537d2-cb38-442f-a8ca-fa44fe8e8138 button.colab-df-convert');\n",
              "        buttonEl.style.display =\n",
              "          google.colab.kernel.accessAllowed ? 'block' : 'none';\n",
              "\n",
              "        async function convertToInteractive(key) {\n",
              "          const element = document.querySelector('#df-2f3537d2-cb38-442f-a8ca-fa44fe8e8138');\n",
              "          const dataTable =\n",
              "            await google.colab.kernel.invokeFunction('convertToInteractive',\n",
              "                                                     [key], {});\n",
              "          if (!dataTable) return;\n",
              "\n",
              "          const docLinkHtml = 'Like what you see? Visit the ' +\n",
              "            '<a target=\"_blank\" href=https://colab.research.google.com/notebooks/data_table.ipynb>data table notebook</a>'\n",
              "            + ' to learn more about interactive tables.';\n",
              "          element.innerHTML = '';\n",
              "          dataTable['output_type'] = 'display_data';\n",
              "          await google.colab.output.renderOutput(dataTable, element);\n",
              "          const docLink = document.createElement('div');\n",
              "          docLink.innerHTML = docLinkHtml;\n",
              "          element.appendChild(docLink);\n",
              "        }\n",
              "      </script>\n",
              "    </div>\n",
              "  </div>\n",
              "  "
            ]
          },
          "metadata": {},
          "execution_count": 4
        }
      ]
    },
    {
      "cell_type": "code",
      "source": [
        "# Check the distribution\n",
        "plt.figure(figsize=(14,6))\n",
        "df.hist(bins=50)\n",
        "plt.title('Global Active Power Distribution')\n",
        "\n",
        "# plt.subplot(1,2,2)\n",
        "# stats.probplot(df['Global_active_power'],plot=plt)\n",
        "# df1.describe().T"
      ],
      "metadata": {
        "colab": {
          "base_uri": "https://localhost:8080/",
          "height": 316
        },
        "id": "lUIoEyesWwrW",
        "outputId": "d69397e6-88e6-4281-c943-eca5e9a8b01a"
      },
      "execution_count": 5,
      "outputs": [
        {
          "output_type": "execute_result",
          "data": {
            "text/plain": [
              "Text(0.5, 1.0, 'Global Active Power Distribution')"
            ]
          },
          "metadata": {},
          "execution_count": 5
        },
        {
          "output_type": "display_data",
          "data": {
            "text/plain": [
              "<Figure size 1008x432 with 0 Axes>"
            ]
          },
          "metadata": {}
        },
        {
          "output_type": "display_data",
          "data": {
            "text/plain": [
              "<Figure size 432x288 with 9 Axes>"
            ],
            "image/png": "[encoded data removed]"
          },
          "metadata": {
            "needs_background": "light"
          }
        }
      ]
    },
    {
      "cell_type": "code",
      "source": [
        "#Normalize target value\n",
        "#df['Global_active_power']=normalize_series(df['Global_active_power'], df['Global_active_power'].min(), df['Global_active_power'].max())"
      ],
      "metadata": {
        "id": "RQCScQSjVJc-"
      },
      "execution_count": 6,
      "outputs": []
    },
    {
      "cell_type": "code",
      "source": [
        "df['Voltage'].unique()"
      ],
      "metadata": {
        "colab": {
          "base_uri": "https://localhost:8080/"
        },
        "id": "DEQFStLTXXN1",
        "outputId": "20850871-a28a-465e-9808-ccb5e5cb1a4e"
      },
      "execution_count": 7,
      "outputs": [
        {
          "output_type": "execute_result",
          "data": {
            "text/plain": [
              "array([234.84, 233.63, 233.29, ..., 231.63, 228.51, 231.79])"
            ]
          },
          "metadata": {},
          "execution_count": 7
        }
      ]
    },
    {
      "cell_type": "code",
      "source": [
        "#Normalize voltage value\n",
        "#df['Voltage']=normalize_series(df['Voltage'], df['Voltage'].min(), df['Voltage'].max())"
      ],
      "metadata": {
        "id": "joLFGABFYAXh"
      },
      "execution_count": 8,
      "outputs": []
    },
    {
      "cell_type": "code",
      "source": [
        "df.head(10)"
      ],
      "metadata": {
        "colab": {
          "base_uri": "https://localhost:8080/",
          "height": 394
        },
        "id": "C-lVP-0eWJzK",
        "outputId": "3c18137d-a721-45e5-cc06-7b640c6e306b"
      },
      "execution_count": 9,
      "outputs": [
        {
          "output_type": "execute_result",
          "data": {
            "text/plain": [
              "                     Global_active_power  Global_reactive_power  Voltage  \\\n",
              "datetime                                                                   \n",
              "2006-12-16 17:24:00                4.216                  0.418   234.84   \n",
              "2006-12-16 17:25:00                5.360                  0.436   233.63   \n",
              "2006-12-16 17:26:00                5.374                  0.498   233.29   \n",
              "2006-12-16 17:27:00                5.388                  0.502   233.74   \n",
              "2006-12-16 17:28:00                3.666                  0.528   235.68   \n",
              "2006-12-16 17:29:00                3.520                  0.522   235.02   \n",
              "2006-12-16 17:30:00                3.702                  0.520   235.09   \n",
              "2006-12-16 17:31:00                3.700                  0.520   235.22   \n",
              "2006-12-16 17:32:00                3.668                  0.510   233.99   \n",
              "2006-12-16 17:33:00                3.662                  0.510   233.86   \n",
              "\n",
              "                     Global_intensity  Sub_metering_1  Sub_metering_2  \\\n",
              "datetime                                                                \n",
              "2006-12-16 17:24:00              18.4             0.0             1.0   \n",
              "2006-12-16 17:25:00              23.0             0.0             1.0   \n",
              "2006-12-16 17:26:00              23.0             0.0             2.0   \n",
              "2006-12-16 17:27:00              23.0             0.0             1.0   \n",
              "2006-12-16 17:28:00              15.8             0.0             1.0   \n",
              "2006-12-16 17:29:00              15.0             0.0             2.0   \n",
              "2006-12-16 17:30:00              15.8             0.0             1.0   \n",
              "2006-12-16 17:31:00              15.8             0.0             1.0   \n",
              "2006-12-16 17:32:00              15.8             0.0             1.0   \n",
              "2006-12-16 17:33:00              15.8             0.0             2.0   \n",
              "\n",
              "                     Sub_metering_3  \n",
              "datetime                             \n",
              "2006-12-16 17:24:00            17.0  \n",
              "2006-12-16 17:25:00            16.0  \n",
              "2006-12-16 17:26:00            17.0  \n",
              "2006-12-16 17:27:00            17.0  \n",
              "2006-12-16 17:28:00            17.0  \n",
              "2006-12-16 17:29:00            17.0  \n",
              "2006-12-16 17:30:00            17.0  \n",
              "2006-12-16 17:31:00            17.0  \n",
              "2006-12-16 17:32:00            17.0  \n",
              "2006-12-16 17:33:00            16.0  "
            ],
            "text/html": [
              "\n",
              "  <div id=\"df-0cfbc958-2cf5-47c3-a663-897a90dfa5c0\">\n",
              "    <div class=\"colab-df-container\">\n",
              "      <div>\n",
              "<style scoped>\n",
              "    .dataframe tbody tr th:only-of-type {\n",
              "        vertical-align: middle;\n",
              "    }\n",
              "\n",
              "    .dataframe tbody tr th {\n",
              "        vertical-align: top;\n",
              "    }\n",
              "\n",
              "    .dataframe thead th {\n",
              "        text-align: right;\n",
              "    }\n",
              "</style>\n",
              "<table border=\"1\" class=\"dataframe\">\n",
              "  <thead>\n",
              "    <tr style=\"text-align: right;\">\n",
              "      <th></th>\n",
              "      <th>Global_active_power</th>\n",
              "      <th>Global_reactive_power</th>\n",
              "      <th>Voltage</th>\n",
              "      <th>Global_intensity</th>\n",
              "      <th>Sub_metering_1</th>\n",
              "      <th>Sub_metering_2</th>\n",
              "      <th>Sub_metering_3</th>\n",
              "    </tr>\n",
              "    <tr>\n",
              "      <th>datetime</th>\n",
              "      <th></th>\n",
              "      <th></th>\n",
              "      <th></th>\n",
              "      <th></th>\n",
              "      <th></th>\n",
              "      <th></th>\n",
              "      <th></th>\n",
              "    </tr>\n",
              "  </thead>\n",
              "  <tbody>\n",
              "    <tr>\n",
              "      <th>2006-12-16 17:24:00</th>\n",
              "      <td>4.216</td>\n",
              "      <td>0.418</td>\n",
              "      <td>234.84</td>\n",
              "      <td>18.4</td>\n",
              "      <td>0.0</td>\n",
              "      <td>1.0</td>\n",
              "      <td>17.0</td>\n",
              "    </tr>\n",
              "    <tr>\n",
              "      <th>2006-12-16 17:25:00</th>\n",
              "      <td>5.360</td>\n",
              "      <td>0.436</td>\n",
              "      <td>233.63</td>\n",
              "      <td>23.0</td>\n",
              "      <td>0.0</td>\n",
              "      <td>1.0</td>\n",
              "      <td>16.0</td>\n",
              "    </tr>\n",
              "    <tr>\n",
              "      <th>2006-12-16 17:26:00</th>\n",
              "      <td>5.374</td>\n",
              "      <td>0.498</td>\n",
              "      <td>233.29</td>\n",
              "      <td>23.0</td>\n",
              "      <td>0.0</td>\n",
              "      <td>2.0</td>\n",
              "      <td>17.0</td>\n",
              "    </tr>\n",
              "    <tr>\n",
              "      <th>2006-12-16 17:27:00</th>\n",
              "      <td>5.388</td>\n",
              "      <td>0.502</td>\n",
              "      <td>233.74</td>\n",
              "      <td>23.0</td>\n",
              "      <td>0.0</td>\n",
              "      <td>1.0</td>\n",
              "      <td>17.0</td>\n",
              "    </tr>\n",
              "    <tr>\n",
              "      <th>2006-12-16 17:28:00</th>\n",
              "      <td>3.666</td>\n",
              "      <td>0.528</td>\n",
              "      <td>235.68</td>\n",
              "      <td>15.8</td>\n",
              "      <td>0.0</td>\n",
              "      <td>1.0</td>\n",
              "      <td>17.0</td>\n",
              "    </tr>\n",
              "    <tr>\n",
              "      <th>2006-12-16 17:29:00</th>\n",
              "      <td>3.520</td>\n",
              "      <td>0.522</td>\n",
              "      <td>235.02</td>\n",
              "      <td>15.0</td>\n",
              "      <td>0.0</td>\n",
              "      <td>2.0</td>\n",
              "      <td>17.0</td>\n",
              "    </tr>\n",
              "    <tr>\n",
              "      <th>2006-12-16 17:30:00</th>\n",
              "      <td>3.702</td>\n",
              "      <td>0.520</td>\n",
              "      <td>235.09</td>\n",
              "      <td>15.8</td>\n",
              "      <td>0.0</td>\n",
              "      <td>1.0</td>\n",
              "      <td>17.0</td>\n",
              "    </tr>\n",
              "    <tr>\n",
              "      <th>2006-12-16 17:31:00</th>\n",
              "      <td>3.700</td>\n",
              "      <td>0.520</td>\n",
              "      <td>235.22</td>\n",
              "      <td>15.8</td>\n",
              "      <td>0.0</td>\n",
              "      <td>1.0</td>\n",
              "      <td>17.0</td>\n",
              "    </tr>\n",
              "    <tr>\n",
              "      <th>2006-12-16 17:32:00</th>\n",
              "      <td>3.668</td>\n",
              "      <td>0.510</td>\n",
              "      <td>233.99</td>\n",
              "      <td>15.8</td>\n",
              "      <td>0.0</td>\n",
              "      <td>1.0</td>\n",
              "      <td>17.0</td>\n",
              "    </tr>\n",
              "    <tr>\n",
              "      <th>2006-12-16 17:33:00</th>\n",
              "      <td>3.662</td>\n",
              "      <td>0.510</td>\n",
              "      <td>233.86</td>\n",
              "      <td>15.8</td>\n",
              "      <td>0.0</td>\n",
              "      <td>2.0</td>\n",
              "      <td>16.0</td>\n",
              "    </tr>\n",
              "  </tbody>\n",
              "</table>\n",
              "</div>\n",
              "      <button class=\"colab-df-convert\" onclick=\"convertToInteractive('df-0cfbc958-2cf5-47c3-a663-897a90dfa5c0')\"\n",
              "              title=\"Convert this dataframe to an interactive table.\"\n",
              "              style=\"display:none;\">\n",
              "        \n",
              "  <svg xmlns=\"http://www.w3.org/2000/svg\" height=\"24px\"viewBox=\"0 0 24 24\"\n",
              "       width=\"24px\">\n",
              "    <path d=\"M0 0h24v24H0V0z\" fill=\"none\"/>\n",
              "    <path d=\"M18.56 5.44l.94 2.06.94-2.06 2.06-.94-2.06-.94-.94-2.06-.94 2.06-2.06.94zm-11 1L8.5 8.5l.94-2.06 2.06-.94-2.06-.94L8.5 2.5l-.94 2.06-2.06.94zm10 10l.94 2.06.94-2.06 2.06-.94-2.06-.94-.94-2.06-.94 2.06-2.06.94z\"/><path d=\"M17.41 7.96l-1.37-1.37c-.4-.4-.92-.59-1.43-.59-.52 0-1.04.2-1.43.59L10.3 9.45l-7.72 7.72c-.78.78-.78 2.05 0 2.83L4 21.41c.39.39.9.59 1.41.59.51 0 1.02-.2 1.41-.59l7.78-7.78 2.81-2.81c.8-.78.8-2.07 0-2.86zM5.41 20L4 18.59l7.72-7.72 1.47 1.35L5.41 20z\"/>\n",
              "  </svg>\n",
              "      </button>\n",
              "      \n",
              "  <style>\n",
              "    .colab-df-container {\n",
              "      display:flex;\n",
              "      flex-wrap:wrap;\n",
              "      gap: 12px;\n",
              "    }\n",
              "\n",
              "    .colab-df-convert {\n",
              "      background-color: #E8F0FE;\n",
              "      border: none;\n",
              "      border-radius: 50%;\n",
              "      cursor: pointer;\n",
              "      display: none;\n",
              "      fill: #1967D2;\n",
              "      height: 32px;\n",
              "      padding: 0 0 0 0;\n",
              "      width: 32px;\n",
              "    }\n",
              "\n",
              "    .colab-df-convert:hover {\n",
              "      background-color: #E2EBFA;\n",
              "      box-shadow: 0px 1px 2px rgba(60, 64, 67, 0.3), 0px 1px 3px 1px rgba(60, 64, 67, 0.15);\n",
              "      fill: #174EA6;\n",
              "    }\n",
              "\n",
              "    [theme=dark] .colab-df-convert {\n",
              "      background-color: #3B4455;\n",
              "      fill: #D2E3FC;\n",
              "    }\n",
              "\n",
              "    [theme=dark] .colab-df-convert:hover {\n",
              "      background-color: #434B5C;\n",
              "      box-shadow: 0px 1px 3px 1px rgba(0, 0, 0, 0.15);\n",
              "      filter: drop-shadow(0px 1px 2px rgba(0, 0, 0, 0.3));\n",
              "      fill: #FFFFFF;\n",
              "    }\n",
              "  </style>\n",
              "\n",
              "      <script>\n",
              "        const buttonEl =\n",
              "          document.querySelector('#df-0cfbc958-2cf5-47c3-a663-897a90dfa5c0 button.colab-df-convert');\n",
              "        buttonEl.style.display =\n",
              "          google.colab.kernel.accessAllowed ? 'block' : 'none';\n",
              "\n",
              "        async function convertToInteractive(key) {\n",
              "          const element = document.querySelector('#df-0cfbc958-2cf5-47c3-a663-897a90dfa5c0');\n",
              "          const dataTable =\n",
              "            await google.colab.kernel.invokeFunction('convertToInteractive',\n",
              "                                                     [key], {});\n",
              "          if (!dataTable) return;\n",
              "\n",
              "          const docLinkHtml = 'Like what you see? Visit the ' +\n",
              "            '<a target=\"_blank\" href=https://colab.research.google.com/notebooks/data_table.ipynb>data table notebook</a>'\n",
              "            + ' to learn more about interactive tables.';\n",
              "          element.innerHTML = '';\n",
              "          dataTable['output_type'] = 'display_data';\n",
              "          await google.colab.output.renderOutput(dataTable, element);\n",
              "          const docLink = document.createElement('div');\n",
              "          docLink.innerHTML = docLinkHtml;\n",
              "          element.appendChild(docLink);\n",
              "        }\n",
              "      </script>\n",
              "    </div>\n",
              "  </div>\n",
              "  "
            ]
          },
          "metadata": {},
          "execution_count": 9
        }
      ]
    },
    {
      "cell_type": "code",
      "source": [
        "N_FEATURES = len(df.columns) # DO NOT CHANGE THIS\n",
        "\n",
        "    # Normalizes the data\n",
        "data = df.values\n",
        "data1=data.copy()\n",
        "data = normalize_series(data, data.min(axis=0), data.max(axis=0))\n",
        "\n",
        "    # Splits the data into training and validation sets.\n",
        "SPLIT_TIME = int(len(data) * 0.5) # DO NOT CHANGE THIS\n",
        "x_train = data[:SPLIT_TIME]\n",
        "x_valid = data[SPLIT_TIME:]\n",
        "\n",
        "    # DO NOT CHANGE THIS CODE\n",
        "tf.keras.backend.clear_session()\n",
        "tf.random.set_seed(42)\n",
        "\n",
        "    # DO NOT CHANGE BATCH_SIZE IF YOU ARE USING STATEFUL LSTM/RNN/GRU.\n",
        "    # THE TEST WILL FAIL TO GRADE YOUR SCORE IN SUCH CASES.\n",
        "    # In other cases, it is advised not to change the batch size since it\n",
        "    # might affect your final scores. While setting it to a lower size\n",
        "    # might not do any harm, higher sizes might affect your scores.\n",
        "BATCH_SIZE = 32  # ADVISED NOT TO CHANGE THIS\n",
        "\n",
        "    # DO NOT CHANGE N_PAST, N_FUTURE, SHIFT. The tests will fail to run\n",
        "    # on the server.\n",
        "    # Number of past time steps based on which future observations should be\n",
        "    # predicted\n",
        "N_PAST = 24  # DO NOT CHANGE THIS\n",
        "\n",
        "    # Number of future time steps which are to be predicted.\n",
        "N_FUTURE = 24  # DO NOT CHANGE THIS\n",
        "\n",
        "    # By how many positions the window slides to create a new window\n",
        "    # of observations.\n",
        "SHIFT = 1  # DO NOT CHANGE THIS\n",
        "\n",
        "    # Code to create windowed train and validation datasets.\n",
        "train_set = windowed_dataset(series=x_train, batch_size=BATCH_SIZE,\n",
        "                                 n_past=N_PAST, n_future=N_FUTURE,\n",
        "                                 shift=SHIFT)\n",
        "valid_set = windowed_dataset(series=x_valid, batch_size=BATCH_SIZE,\n",
        "                                 n_past=N_PAST, n_future=N_FUTURE,\n",
        "                                 shift=SHIFT)\n",
        "\n"
      ],
      "metadata": {
        "id": "k1x3RJJtGq-J"
      },
      "execution_count": 28,
      "outputs": []
    },
    {
      "cell_type": "code",
      "source": [
        "x_train.shape"
      ],
      "metadata": {
        "colab": {
          "base_uri": "https://localhost:8080/"
        },
        "id": "uynhu0De1RnB",
        "outputId": "fa9b325a-ec32-4c63-cafc-65df6ccb4c11"
      },
      "execution_count": 11,
      "outputs": [
        {
          "output_type": "execute_result",
          "data": {
            "text/plain": [
              "(43200, 7)"
            ]
          },
          "metadata": {},
          "execution_count": 11
        }
      ]
    },
    {
      "cell_type": "code",
      "source": [
        "# Check shape of windowed data.\n",
        "train_set.element_spec"
      ],
      "metadata": {
        "colab": {
          "base_uri": "https://localhost:8080/"
        },
        "id": "KBfavwdK0oTg",
        "outputId": "2200f3f5-b337-4bf7-c96d-44da8c6de6f5"
      },
      "execution_count": 12,
      "outputs": [
        {
          "output_type": "execute_result",
          "data": {
            "text/plain": [
              "(TensorSpec(shape=(None, None, 7), dtype=tf.float64, name=None),\n",
              " TensorSpec(shape=(None, None, 7), dtype=tf.float64, name=None))"
            ]
          },
          "metadata": {},
          "execution_count": 12
        }
      ]
    },
    {
      "cell_type": "code",
      "source": [
        "for example_inputs, example_labels in train_set.take(1):\n",
        "  print(f'Inputs shape (batch, time, features): {example_inputs.shape}')\n",
        "  print(f'Labels shape (batch, time, features): {example_labels.shape}')"
      ],
      "metadata": {
        "colab": {
          "base_uri": "https://localhost:8080/"
        },
        "id": "uAGf_13y1z3X",
        "outputId": "1fa3126a-8aa2-4af0-c900-222100a0a50f"
      },
      "execution_count": 13,
      "outputs": [
        {
          "output_type": "stream",
          "name": "stdout",
          "text": [
            "Inputs shape (batch, time, features): (32, 24, 7)\n",
            "Labels shape (batch, time, features): (32, 24, 7)\n"
          ]
        }
      ]
    },
    {
      "cell_type": "code",
      "source": [
        "valid_set.element_spec"
      ],
      "metadata": {
        "colab": {
          "base_uri": "https://localhost:8080/"
        },
        "id": "nHmnX1qU1Zzm",
        "outputId": "e618aa04-be37-46c3-f013-a2006cf7130d"
      },
      "execution_count": 14,
      "outputs": [
        {
          "output_type": "execute_result",
          "data": {
            "text/plain": [
              "(TensorSpec(shape=(None, None, 7), dtype=tf.float64, name=None),\n",
              " TensorSpec(shape=(None, None, 7), dtype=tf.float64, name=None))"
            ]
          },
          "metadata": {},
          "execution_count": 14
        }
      ]
    },
    {
      "cell_type": "code",
      "source": [
        "for element in train_set:\n",
        "  print(element)\n",
        "  import sys\n",
        "  sys.exit()"
      ],
      "metadata": {
        "colab": {
          "base_uri": "https://localhost:8080/",
          "height": 1000
        },
        "id": "YNcPSPuwVk0o",
        "outputId": "e34d29e8-0fdc-4920-cbbe-1f6c07cff27c"
      },
      "execution_count": 15,
      "outputs": [
        {
          "output_type": "stream",
          "name": "stdout",
          "text": [
            "(<tf.Tensor: shape=(32, 24, 7), dtype=float64, numpy=\n",
            "array([[[0.43377912, 0.47826087, 0.04036551, ..., 0.        ,\n",
            "         0.01282051, 0.85      ],\n",
            "        [0.55716135, 0.49885584, 0.0355582 , ..., 0.        ,\n",
            "         0.01282051, 0.8       ],\n",
            "        [0.55867127, 0.56979405, 0.03420739, ..., 0.        ,\n",
            "         0.02564103, 0.85      ],\n",
            "        ...,\n",
            "        [0.81018119, 0.        , 0.0250298 , ..., 0.        ,\n",
            "         0.        , 0.85      ],\n",
            "        [0.73684211, 0.        , 0.02991657, ..., 0.        ,\n",
            "         0.        , 0.8       ],\n",
            "        [0.53710095, 0.        , 0.03778308, ..., 0.        ,\n",
            "         0.        , 0.85      ]],\n",
            "\n",
            "       [[0.55716135, 0.49885584, 0.0355582 , ..., 0.        ,\n",
            "         0.01282051, 0.8       ],\n",
            "        [0.55867127, 0.56979405, 0.03420739, ..., 0.        ,\n",
            "         0.02564103, 0.85      ],\n",
            "        [0.56018119, 0.57437071, 0.03599523, ..., 0.        ,\n",
            "         0.01282051, 0.85      ],\n",
            "        ...,\n",
            "        [0.73684211, 0.        , 0.02991657, ..., 0.        ,\n",
            "         0.        , 0.8       ],\n",
            "        [0.53710095, 0.        , 0.03778308, ..., 0.        ,\n",
            "         0.        , 0.85      ],\n",
            "        [0.46160483, 0.        , 0.04084227, ..., 0.        ,\n",
            "         0.        , 0.85      ]],\n",
            "\n",
            "       [[0.55867127, 0.56979405, 0.03420739, ..., 0.        ,\n",
            "         0.02564103, 0.85      ],\n",
            "        [0.56018119, 0.57437071, 0.03599523, ..., 0.        ,\n",
            "         0.01282051, 0.85      ],\n",
            "        [0.37446074, 0.60411899, 0.04370282, ..., 0.        ,\n",
            "         0.01282051, 0.85      ],\n",
            "        ...,\n",
            "        [0.53710095, 0.        , 0.03778308, ..., 0.        ,\n",
            "         0.        , 0.85      ],\n",
            "        [0.46160483, 0.        , 0.04084227, ..., 0.        ,\n",
            "         0.        , 0.85      ],\n",
            "        [0.32937877, 0.        , 0.04759634, ..., 0.        ,\n",
            "         0.        , 0.85      ]],\n",
            "\n",
            "       ...,\n",
            "\n",
            "       [[0.32182916, 0.        , 0.04211363, ..., 0.        ,\n",
            "         0.        , 0.85      ],\n",
            "        [0.27243313, 0.        , 0.04123957, ..., 0.        ,\n",
            "         0.        , 0.85      ],\n",
            "        [0.38438309, 0.08695652, 0.03770362, ..., 0.        ,\n",
            "         0.        , 0.85      ],\n",
            "        ...,\n",
            "        [0.2366264 , 0.18077803, 0.04998014, ..., 0.        ,\n",
            "         0.01282051, 0.85      ],\n",
            "        [0.47497843, 0.11441648, 0.03802145, ..., 0.        ,\n",
            "         0.25641026, 0.85      ],\n",
            "        [0.46699741, 0.08695652, 0.0378228 , ..., 0.        ,\n",
            "         0.11538462, 0.85      ]],\n",
            "\n",
            "       [[0.27243313, 0.        , 0.04123957, ..., 0.        ,\n",
            "         0.        , 0.85      ],\n",
            "        [0.38438309, 0.08695652, 0.03770362, ..., 0.        ,\n",
            "         0.        , 0.85      ],\n",
            "        [0.44736842, 0.10297483, 0.03611442, ..., 0.        ,\n",
            "         0.        , 0.8       ],\n",
            "        ...,\n",
            "        [0.47497843, 0.11441648, 0.03802145, ..., 0.        ,\n",
            "         0.25641026, 0.85      ],\n",
            "        [0.46699741, 0.08695652, 0.0378228 , ..., 0.        ,\n",
            "         0.11538462, 0.85      ],\n",
            "        [0.4322692 , 0.09382151, 0.03825983, ..., 0.        ,\n",
            "         0.01282051, 0.85      ]],\n",
            "\n",
            "       [[0.38438309, 0.08695652, 0.03770362, ..., 0.        ,\n",
            "         0.        , 0.85      ],\n",
            "        [0.44736842, 0.10297483, 0.03611442, ..., 0.        ,\n",
            "         0.        , 0.8       ],\n",
            "        [0.46570319, 0.        , 0.03551847, ..., 0.        ,\n",
            "         0.        , 0.85      ],\n",
            "        ...,\n",
            "        [0.46699741, 0.08695652, 0.0378228 , ..., 0.        ,\n",
            "         0.11538462, 0.85      ],\n",
            "        [0.4322692 , 0.09382151, 0.03825983, ..., 0.        ,\n",
            "         0.01282051, 0.85      ],\n",
            "        [0.46138913, 0.        , 0.03420739, ..., 0.        ,\n",
            "         0.01282051, 0.8       ]]])>, <tf.Tensor: shape=(32, 24, 7), dtype=float64, numpy=\n",
            "array([[[0.46160483, 0.        , 0.04084227, ..., 0.        ,\n",
            "         0.        , 0.85      ],\n",
            "        [0.32937877, 0.        , 0.04759634, ..., 0.        ,\n",
            "         0.        , 0.85      ],\n",
            "        [0.32808456, 0.        , 0.0443385 , ..., 0.        ,\n",
            "         0.        , 0.85      ],\n",
            "        ...,\n",
            "        [0.46052632, 0.15560641, 0.03965038, ..., 0.        ,\n",
            "         0.47435897, 0.8       ],\n",
            "        [0.34534081, 0.16933638, 0.04576877, ..., 0.        ,\n",
            "         0.28205128, 0.9       ],\n",
            "        [0.31233822, 0.17391304, 0.04922527, ..., 0.        ,\n",
            "         0.15384615, 0.85      ]],\n",
            "\n",
            "       [[0.32937877, 0.        , 0.04759634, ..., 0.        ,\n",
            "         0.        , 0.85      ],\n",
            "        [0.32808456, 0.        , 0.0443385 , ..., 0.        ,\n",
            "         0.        , 0.85      ],\n",
            "        [0.32722174, 0.        , 0.04338498, ..., 0.        ,\n",
            "         0.        , 0.85      ],\n",
            "        ...,\n",
            "        [0.34534081, 0.16933638, 0.04576877, ..., 0.        ,\n",
            "         0.28205128, 0.9       ],\n",
            "        [0.31233822, 0.17391304, 0.04922527, ..., 0.        ,\n",
            "         0.15384615, 0.85      ],\n",
            "        [0.38136324, 0.16475973, 0.04410012, ..., 0.        ,\n",
            "         0.34615385, 0.85      ]],\n",
            "\n",
            "       [[0.32808456, 0.        , 0.0443385 , ..., 0.        ,\n",
            "         0.        , 0.85      ],\n",
            "        [0.32722174, 0.        , 0.04338498, ..., 0.        ,\n",
            "         0.        , 0.85      ],\n",
            "        [0.33045729, 0.        , 0.04294795, ..., 0.        ,\n",
            "         0.        , 0.85      ],\n",
            "        ...,\n",
            "        [0.31233822, 0.17391304, 0.04922527, ..., 0.        ,\n",
            "         0.15384615, 0.85      ],\n",
            "        [0.38136324, 0.16475973, 0.04410012, ..., 0.        ,\n",
            "         0.34615385, 0.85      ],\n",
            "        [0.22799827, 0.18306636, 0.05065554, ..., 0.        ,\n",
            "         0.01282051, 0.85      ]],\n",
            "\n",
            "       ...,\n",
            "\n",
            "       [[0.4322692 , 0.09382151, 0.03825983, ..., 0.        ,\n",
            "         0.01282051, 0.85      ],\n",
            "        [0.46138913, 0.        , 0.03420739, ..., 0.        ,\n",
            "         0.01282051, 0.8       ],\n",
            "        [0.28666954, 0.        , 0.04342471, ..., 0.        ,\n",
            "         0.01282051, 0.85      ],\n",
            "        ...,\n",
            "        [0.29314064, 0.05491991, 0.03710767, ..., 0.        ,\n",
            "         0.01282051, 0.85      ],\n",
            "        [0.2299396 , 0.0617849 , 0.04004768, ..., 0.        ,\n",
            "         0.01282051, 0.85      ],\n",
            "        [0.2232528 , 0.0617849 , 0.03969011, ..., 0.        ,\n",
            "         0.01282051, 0.85      ]],\n",
            "\n",
            "       [[0.46138913, 0.        , 0.03420739, ..., 0.        ,\n",
            "         0.01282051, 0.8       ],\n",
            "        [0.28666954, 0.        , 0.04342471, ..., 0.        ,\n",
            "         0.01282051, 0.85      ],\n",
            "        [0.29486626, 0.        , 0.04199444, ..., 0.        ,\n",
            "         0.01282051, 0.85      ],\n",
            "        ...,\n",
            "        [0.2299396 , 0.0617849 , 0.04004768, ..., 0.        ,\n",
            "         0.01282051, 0.85      ],\n",
            "        [0.2232528 , 0.0617849 , 0.03969011, ..., 0.        ,\n",
            "         0.01282051, 0.85      ],\n",
            "        [0.22389991, 0.0617849 , 0.0420739 , ..., 0.        ,\n",
            "         0.01282051, 0.85      ]],\n",
            "\n",
            "       [[0.28666954, 0.        , 0.04342471, ..., 0.        ,\n",
            "         0.01282051, 0.85      ],\n",
            "        [0.29486626, 0.        , 0.04199444, ..., 0.        ,\n",
            "         0.01282051, 0.85      ],\n",
            "        [0.29616048, 0.        , 0.04513309, ..., 0.        ,\n",
            "         0.02564103, 0.85      ],\n",
            "        ...,\n",
            "        [0.2232528 , 0.0617849 , 0.03969011, ..., 0.        ,\n",
            "         0.01282051, 0.85      ],\n",
            "        [0.22389991, 0.0617849 , 0.0420739 , ..., 0.        ,\n",
            "         0.01282051, 0.85      ],\n",
            "        [0.22260569, 0.0617849 , 0.04147795, ..., 0.        ,\n",
            "         0.01282051, 0.85      ]]])>)\n"
          ]
        },
        {
          "output_type": "error",
          "ename": "SystemExit",
          "evalue": "ignored",
          "traceback": [
            "An exception has occurred, use %tb to see the full traceback.\n",
            "\u001b[0;31mSystemExit\u001b[0m\n"
          ]
        },
        {
          "output_type": "stream",
          "name": "stderr",
          "text": [
            "/usr/local/lib/python3.7/dist-packages/IPython/core/interactiveshell.py:2890: UserWarning: To exit: use 'exit', 'quit', or Ctrl-D.\n",
            "  warn(\"To exit: use 'exit', 'quit', or Ctrl-D.\", stacklevel=1)\n"
          ]
        }
      ]
    },
    {
      "cell_type": "code",
      "source": [
        "model = tf.keras.models.Sequential([\n",
        "\n",
        "        # ADD YOUR LAYERS HERE.\n",
        "        tf.keras.layers.Input(shape = (N_PAST, N_FEATURES)),\n",
        "        #tf.keras.layers.LSTM(32, return_sequences=False,input_shape=[24,7]),\n",
        "        tf.keras.layers.Bidirectional(tf.keras.layers.LSTM(N_FEATURES, activation='relu', return_sequences=True,)),\n",
        "        #tf.keras.layers.Dense(N_FUTURE*N_FEATURES,\n",
        "                          #kernel_initializer=tf.initializers.zeros()),\n",
        "        #tf.keras.layers.Reshape([N_FUTURE, N_FEATURES]),\n",
        "\n",
        "        # If you don't follow the instructions in the following comments,\n",
        "        # tests will fail to grade your code:\n",
        "        # The input layer of your model must have an input shape of:\n",
        "        # (BATCH_SIZE, N_PAST = 24, N_FEATURES = 7)\n",
        "        # The model must have an output shape of:\n",
        "        # (BATCH_SIZE, N_FUTURE = 24, N_FEATURES = 7).\n",
        "        # Make sure that there are N_FEATURES = 7 neurons in the final dense\n",
        "        # layer since the model predicts 7 features.\n",
        "\n",
        "        # HINT: Bidirectional LSTMs may help boost your score. This is only a\n",
        "        # suggestion.\n",
        "\n",
        "        # WARNING: If you are using the GRU layer, it is advised not to use the\n",
        "        # recurrent_dropout argument (you can alternatively set it to 0),\n",
        "        # since it has not been implemented in the cuDNN kernel and may\n",
        "        # result in much longer training times.\n",
        "        tf.keras.layers.Dense(N_FEATURES)\n",
        "        \n",
        "    ])"
      ],
      "metadata": {
        "id": "YboKRVYMHmjc"
      },
      "execution_count": 16,
      "outputs": []
    },
    {
      "cell_type": "code",
      "source": [
        "model.summary()"
      ],
      "metadata": {
        "colab": {
          "base_uri": "https://localhost:8080/"
        },
        "id": "NN7mdFpAJ34Y",
        "outputId": "d09af791-cf0d-4d76-f020-e010daee94d6"
      },
      "execution_count": 17,
      "outputs": [
        {
          "output_type": "stream",
          "name": "stdout",
          "text": [
            "Model: \"sequential\"\n",
            "_________________________________________________________________\n",
            " Layer (type)                Output Shape              Param #   \n",
            "=================================================================\n",
            " bidirectional (Bidirectiona  (None, 24, 14)           840       \n",
            " l)                                                              \n",
            "                                                                 \n",
            " dense (Dense)               (None, 24, 7)             105       \n",
            "                                                                 \n",
            "=================================================================\n",
            "Total params: 945\n",
            "Trainable params: 945\n",
            "Non-trainable params: 0\n",
            "_________________________________________________________________\n"
          ]
        }
      ]
    },
    {
      "cell_type": "code",
      "source": [
        "early_stopping = tf.keras.callbacks.EarlyStopping(monitor='val_loss', patience=3, restore_best_weights=True)\n",
        "cvlog=tf.keras.callbacks.CSVLogger('his.csv')\n",
        "model.compile(\n",
        "        # YOUR CODE HERE\n",
        "         loss=\"mae\", optimizer = tf.keras.optimizers.Adam(learning_rate=1e-5),metrics=[tf.metrics.MeanAbsoluteError()]\n",
        "    )"
      ],
      "metadata": {
        "id": "WkT992usHoV6"
      },
      "execution_count": 21,
      "outputs": []
    },
    {
      "cell_type": "code",
      "source": [
        "history=model.fit(\n",
        "        # YOUR CODE HERE\n",
        "        train_set, epochs=20,validation_data=valid_set, callbacks=[ early_stopping, cvlog], verbose=1\n",
        "    )"
      ],
      "metadata": {
        "colab": {
          "base_uri": "https://localhost:8080/"
        },
        "id": "Mcg7La_JHuJN",
        "outputId": "529a62f2-866d-4870-931a-7277a4fd2f41"
      },
      "execution_count": 22,
      "outputs": [
        {
          "output_type": "stream",
          "name": "stdout",
          "text": [
            "Epoch 1/20\n",
            "1349/1349 [==============================] - 33s 23ms/step - loss: 0.1432 - mean_absolute_error: 0.1432 - val_loss: 0.1362 - val_mean_absolute_error: 0.1362\n",
            "Epoch 2/20\n",
            "1349/1349 [==============================] - 30s 23ms/step - loss: 0.1328 - mean_absolute_error: 0.1328 - val_loss: 0.1287 - val_mean_absolute_error: 0.1287\n",
            "Epoch 3/20\n",
            "1349/1349 [==============================] - 31s 23ms/step - loss: 0.1263 - mean_absolute_error: 0.1263 - val_loss: 0.1239 - val_mean_absolute_error: 0.1239\n",
            "Epoch 4/20\n",
            "1349/1349 [==============================] - 32s 24ms/step - loss: 0.1220 - mean_absolute_error: 0.1220 - val_loss: 0.1207 - val_mean_absolute_error: 0.1207\n",
            "Epoch 5/20\n",
            "1349/1349 [==============================] - 31s 23ms/step - loss: 0.1190 - mean_absolute_error: 0.1190 - val_loss: 0.1185 - val_mean_absolute_error: 0.1185\n",
            "Epoch 6/20\n",
            "1349/1349 [==============================] - 30s 22ms/step - loss: 0.1169 - mean_absolute_error: 0.1169 - val_loss: 0.1169 - val_mean_absolute_error: 0.1169\n",
            "Epoch 7/20\n",
            "1349/1349 [==============================] - 31s 23ms/step - loss: 0.1153 - mean_absolute_error: 0.1153 - val_loss: 0.1156 - val_mean_absolute_error: 0.1156\n",
            "Epoch 8/20\n",
            "1349/1349 [==============================] - 31s 23ms/step - loss: 0.1138 - mean_absolute_error: 0.1138 - val_loss: 0.1144 - val_mean_absolute_error: 0.1144\n",
            "Epoch 9/20\n",
            "1349/1349 [==============================] - 31s 23ms/step - loss: 0.1125 - mean_absolute_error: 0.1125 - val_loss: 0.1133 - val_mean_absolute_error: 0.1133\n",
            "Epoch 10/20\n",
            "1349/1349 [==============================] - 31s 23ms/step - loss: 0.1113 - mean_absolute_error: 0.1113 - val_loss: 0.1124 - val_mean_absolute_error: 0.1124\n",
            "Epoch 11/20\n",
            "1349/1349 [==============================] - 31s 23ms/step - loss: 0.1103 - mean_absolute_error: 0.1103 - val_loss: 0.1115 - val_mean_absolute_error: 0.1115\n",
            "Epoch 12/20\n",
            "1349/1349 [==============================] - 32s 23ms/step - loss: 0.1093 - mean_absolute_error: 0.1093 - val_loss: 0.1107 - val_mean_absolute_error: 0.1107\n",
            "Epoch 13/20\n",
            "1349/1349 [==============================] - 31s 23ms/step - loss: 0.1084 - mean_absolute_error: 0.1084 - val_loss: 0.1100 - val_mean_absolute_error: 0.1100\n",
            "Epoch 14/20\n",
            "1349/1349 [==============================] - 31s 23ms/step - loss: 0.1075 - mean_absolute_error: 0.1075 - val_loss: 0.1093 - val_mean_absolute_error: 0.1093\n",
            "Epoch 15/20\n",
            "1349/1349 [==============================] - 31s 23ms/step - loss: 0.1067 - mean_absolute_error: 0.1067 - val_loss: 0.1087 - val_mean_absolute_error: 0.1087\n",
            "Epoch 16/20\n",
            "1349/1349 [==============================] - 31s 23ms/step - loss: 0.1059 - mean_absolute_error: 0.1059 - val_loss: 0.1080 - val_mean_absolute_error: 0.1080\n",
            "Epoch 17/20\n",
            "1349/1349 [==============================] - 30s 22ms/step - loss: 0.1051 - mean_absolute_error: 0.1051 - val_loss: 0.1074 - val_mean_absolute_error: 0.1074\n",
            "Epoch 18/20\n",
            "1349/1349 [==============================] - 31s 23ms/step - loss: 0.1044 - mean_absolute_error: 0.1044 - val_loss: 0.1068 - val_mean_absolute_error: 0.1068\n",
            "Epoch 19/20\n",
            "1349/1349 [==============================] - 30s 23ms/step - loss: 0.1036 - mean_absolute_error: 0.1036 - val_loss: 0.1062 - val_mean_absolute_error: 0.1062\n",
            "Epoch 20/20\n",
            "1349/1349 [==============================] - 31s 23ms/step - loss: 0.1029 - mean_absolute_error: 0.1029 - val_loss: 0.1055 - val_mean_absolute_error: 0.1055\n"
          ]
        }
      ]
    },
    {
      "cell_type": "code",
      "source": [
        "import pandas as pd\n",
        "his = pd.read_csv('his.csv') \n",
        "his.head()\n"
      ],
      "metadata": {
        "colab": {
          "base_uri": "https://localhost:8080/",
          "height": 206
        },
        "id": "K8ANXlPmStbX",
        "outputId": "c9ba1b01-0f00-4723-f5dd-3a2d4f9994ce"
      },
      "execution_count": 23,
      "outputs": [
        {
          "output_type": "execute_result",
          "data": {
            "text/plain": [
              "   epoch      loss  mean_absolute_error  val_loss  val_mean_absolute_error\n",
              "0      0  0.143201             0.143201  0.136176                 0.136176\n",
              "1      1  0.132808             0.132808  0.128698                 0.128698\n",
              "2      2  0.126252             0.126252  0.123877                 0.123877\n",
              "3      3  0.121967             0.121967  0.120685                 0.120685\n",
              "4      4  0.119043             0.119043  0.118548                 0.118548"
            ],
            "text/html": [
              "\n",
              "  <div id=\"df-aa0397dd-cb67-4948-863f-c7da3b124364\">\n",
              "    <div class=\"colab-df-container\">\n",
              "      <div>\n",
              "<style scoped>\n",
              "    .dataframe tbody tr th:only-of-type {\n",
              "        vertical-align: middle;\n",
              "    }\n",
              "\n",
              "    .dataframe tbody tr th {\n",
              "        vertical-align: top;\n",
              "    }\n",
              "\n",
              "    .dataframe thead th {\n",
              "        text-align: right;\n",
              "    }\n",
              "</style>\n",
              "<table border=\"1\" class=\"dataframe\">\n",
              "  <thead>\n",
              "    <tr style=\"text-align: right;\">\n",
              "      <th></th>\n",
              "      <th>epoch</th>\n",
              "      <th>loss</th>\n",
              "      <th>mean_absolute_error</th>\n",
              "      <th>val_loss</th>\n",
              "      <th>val_mean_absolute_error</th>\n",
              "    </tr>\n",
              "  </thead>\n",
              "  <tbody>\n",
              "    <tr>\n",
              "      <th>0</th>\n",
              "      <td>0</td>\n",
              "      <td>0.143201</td>\n",
              "      <td>0.143201</td>\n",
              "      <td>0.136176</td>\n",
              "      <td>0.136176</td>\n",
              "    </tr>\n",
              "    <tr>\n",
              "      <th>1</th>\n",
              "      <td>1</td>\n",
              "      <td>0.132808</td>\n",
              "      <td>0.132808</td>\n",
              "      <td>0.128698</td>\n",
              "      <td>0.128698</td>\n",
              "    </tr>\n",
              "    <tr>\n",
              "      <th>2</th>\n",
              "      <td>2</td>\n",
              "      <td>0.126252</td>\n",
              "      <td>0.126252</td>\n",
              "      <td>0.123877</td>\n",
              "      <td>0.123877</td>\n",
              "    </tr>\n",
              "    <tr>\n",
              "      <th>3</th>\n",
              "      <td>3</td>\n",
              "      <td>0.121967</td>\n",
              "      <td>0.121967</td>\n",
              "      <td>0.120685</td>\n",
              "      <td>0.120685</td>\n",
              "    </tr>\n",
              "    <tr>\n",
              "      <th>4</th>\n",
              "      <td>4</td>\n",
              "      <td>0.119043</td>\n",
              "      <td>0.119043</td>\n",
              "      <td>0.118548</td>\n",
              "      <td>0.118548</td>\n",
              "    </tr>\n",
              "  </tbody>\n",
              "</table>\n",
              "</div>\n",
              "      <button class=\"colab-df-convert\" onclick=\"convertToInteractive('df-aa0397dd-cb67-4948-863f-c7da3b124364')\"\n",
              "              title=\"Convert this dataframe to an interactive table.\"\n",
              "              style=\"display:none;\">\n",
              "        \n",
              "  <svg xmlns=\"http://www.w3.org/2000/svg\" height=\"24px\"viewBox=\"0 0 24 24\"\n",
              "       width=\"24px\">\n",
              "    <path d=\"M0 0h24v24H0V0z\" fill=\"none\"/>\n",
              "    <path d=\"M18.56 5.44l.94 2.06.94-2.06 2.06-.94-2.06-.94-.94-2.06-.94 2.06-2.06.94zm-11 1L8.5 8.5l.94-2.06 2.06-.94-2.06-.94L8.5 2.5l-.94 2.06-2.06.94zm10 10l.94 2.06.94-2.06 2.06-.94-2.06-.94-.94-2.06-.94 2.06-2.06.94z\"/><path d=\"M17.41 7.96l-1.37-1.37c-.4-.4-.92-.59-1.43-.59-.52 0-1.04.2-1.43.59L10.3 9.45l-7.72 7.72c-.78.78-.78 2.05 0 2.83L4 21.41c.39.39.9.59 1.41.59.51 0 1.02-.2 1.41-.59l7.78-7.78 2.81-2.81c.8-.78.8-2.07 0-2.86zM5.41 20L4 18.59l7.72-7.72 1.47 1.35L5.41 20z\"/>\n",
              "  </svg>\n",
              "      </button>\n",
              "      \n",
              "  <style>\n",
              "    .colab-df-container {\n",
              "      display:flex;\n",
              "      flex-wrap:wrap;\n",
              "      gap: 12px;\n",
              "    }\n",
              "\n",
              "    .colab-df-convert {\n",
              "      background-color: #E8F0FE;\n",
              "      border: none;\n",
              "      border-radius: 50%;\n",
              "      cursor: pointer;\n",
              "      display: none;\n",
              "      fill: #1967D2;\n",
              "      height: 32px;\n",
              "      padding: 0 0 0 0;\n",
              "      width: 32px;\n",
              "    }\n",
              "\n",
              "    .colab-df-convert:hover {\n",
              "      background-color: #E2EBFA;\n",
              "      box-shadow: 0px 1px 2px rgba(60, 64, 67, 0.3), 0px 1px 3px 1px rgba(60, 64, 67, 0.15);\n",
              "      fill: #174EA6;\n",
              "    }\n",
              "\n",
              "    [theme=dark] .colab-df-convert {\n",
              "      background-color: #3B4455;\n",
              "      fill: #D2E3FC;\n",
              "    }\n",
              "\n",
              "    [theme=dark] .colab-df-convert:hover {\n",
              "      background-color: #434B5C;\n",
              "      box-shadow: 0px 1px 3px 1px rgba(0, 0, 0, 0.15);\n",
              "      filter: drop-shadow(0px 1px 2px rgba(0, 0, 0, 0.3));\n",
              "      fill: #FFFFFF;\n",
              "    }\n",
              "  </style>\n",
              "\n",
              "      <script>\n",
              "        const buttonEl =\n",
              "          document.querySelector('#df-aa0397dd-cb67-4948-863f-c7da3b124364 button.colab-df-convert');\n",
              "        buttonEl.style.display =\n",
              "          google.colab.kernel.accessAllowed ? 'block' : 'none';\n",
              "\n",
              "        async function convertToInteractive(key) {\n",
              "          const element = document.querySelector('#df-aa0397dd-cb67-4948-863f-c7da3b124364');\n",
              "          const dataTable =\n",
              "            await google.colab.kernel.invokeFunction('convertToInteractive',\n",
              "                                                     [key], {});\n",
              "          if (!dataTable) return;\n",
              "\n",
              "          const docLinkHtml = 'Like what you see? Visit the ' +\n",
              "            '<a target=\"_blank\" href=https://colab.research.google.com/notebooks/data_table.ipynb>data table notebook</a>'\n",
              "            + ' to learn more about interactive tables.';\n",
              "          element.innerHTML = '';\n",
              "          dataTable['output_type'] = 'display_data';\n",
              "          await google.colab.output.renderOutput(dataTable, element);\n",
              "          const docLink = document.createElement('div');\n",
              "          docLink.innerHTML = docLinkHtml;\n",
              "          element.appendChild(docLink);\n",
              "        }\n",
              "      </script>\n",
              "    </div>\n",
              "  </div>\n",
              "  "
            ]
          },
          "metadata": {},
          "execution_count": 23
        }
      ]
    },
    {
      "cell_type": "code",
      "source": [
        "# Plot training and validation metrics from history object\n",
        "\n",
        "train_loss=history.history['loss']\n",
        "val_loss=history.history['val_loss']\n",
        "train_accuracy=history.history['mean_absolute_error']\n",
        "val_accuracy=history.history['val_mean_absolute_error']\n",
        "epochs=range(len(train_accuracy))\n",
        "#plot loss\n",
        "plt.plot(epochs,train_loss,color='b',label='Train loss')\n",
        "plt.plot(epochs,val_loss,color='r',label='Validation loss')\n",
        "#plot accuracy\n",
        "plt.plot(epochs,train_accuracy,color='b',label='Train accuracy')\n",
        "plt.plot(epochs,val_accuracy,color='r',label='Validation accuracy')"
      ],
      "metadata": {
        "id": "dMRPZzWQs3EL",
        "colab": {
          "base_uri": "https://localhost:8080/",
          "height": 285
        },
        "outputId": "07c3373c-38c2-4d11-e28f-15acf451a031"
      },
      "execution_count": 24,
      "outputs": [
        {
          "output_type": "execute_result",
          "data": {
            "text/plain": [
              "[<matplotlib.lines.Line2D at 0x7f04c7e0aad0>]"
            ]
          },
          "metadata": {},
          "execution_count": 24
        },
        {
          "output_type": "display_data",
          "data": {
            "text/plain": [
              "<Figure size 432x288 with 1 Axes>"
            ],
            "image/png": "[encoded data removed]"
          },
          "metadata": {
            "needs_background": "light"
          }
        }
      ]
    },
    {
      "cell_type": "code",
      "source": [
        "def make_preds(model, input_data):\n",
        "  \"\"\"\n",
        "  Uses model to make predictions on input_data.\n",
        "\n",
        "  Parameters\n",
        "  ----------\n",
        "  model: trained model \n",
        "  input_data: windowed input data (same kind of data model was trained on)\n",
        "\n",
        "  Returns model predictions on input_data.\n",
        "  \"\"\"\n",
        "  forecast = model.predict(input_data)\n",
        "  return tf.squeeze(forecast) # return 1D array of predictions"
      ],
      "metadata": {
        "id": "1gPxmBc3Ol1z"
      },
      "execution_count": 25,
      "outputs": []
    },
    {
      "cell_type": "code",
      "source": [
        "model_preds = make_preds(model,\n",
        "                           input_data=valid_set)\n",
        "model_preds[:1]"
      ],
      "metadata": {
        "colab": {
          "base_uri": "https://localhost:8080/"
        },
        "id": "99cc7uquNnGE",
        "outputId": "7ba5600c-8e79-4480-d347-38b8c3f41238"
      },
      "execution_count": 26,
      "outputs": [
        {
          "output_type": "execute_result",
          "data": {
            "text/plain": [
              "<tf.Tensor: shape=(1, 24, 7), dtype=float32, numpy=\n",
              "array([[[ 0.09282567,  0.132249  ,  0.05938754,  0.09940097,\n",
              "          0.00696653, -0.00081243,  0.03581962],\n",
              "        [ 0.10028386,  0.14955388,  0.05907111,  0.08609635,\n",
              "         -0.00063448,  0.00902325,  0.04330933],\n",
              "        [ 0.10731873,  0.17382109,  0.05877391,  0.0795297 ,\n",
              "         -0.00579799,  0.01437385,  0.04394963],\n",
              "        [ 0.11032344,  0.18815301,  0.05957032,  0.07834116,\n",
              "         -0.00734738,  0.01494434,  0.0414481 ],\n",
              "        [ 0.10981236,  0.19124044,  0.05997858,  0.08189745,\n",
              "         -0.00589205,  0.01226103,  0.03766036],\n",
              "        [ 0.1045325 ,  0.18018901,  0.0608451 ,  0.09126474,\n",
              "         -0.00044889,  0.00487652,  0.03168974],\n",
              "        [ 0.10304022,  0.16968624,  0.06029561,  0.08953395,\n",
              "         -0.00047663,  0.00622537,  0.03559731],\n",
              "        [ 0.10348092,  0.16392463,  0.06002498,  0.08401162,\n",
              "         -0.00254485,  0.01009295,  0.04140815],\n",
              "        [ 0.10926497,  0.1769412 ,  0.05927872,  0.07413353,\n",
              "         -0.00835404,  0.01778698,  0.04730835],\n",
              "        [ 0.11163732,  0.1867354 ,  0.05975099,  0.07228161,\n",
              "         -0.00990299,  0.01894777,  0.04649029],\n",
              "        [ 0.11259488,  0.19287285,  0.06059447,  0.07220928,\n",
              "         -0.01022111,  0.01851062,  0.04469994],\n",
              "        [ 0.11434484,  0.20464438,  0.06267608,  0.07169271,\n",
              "         -0.01086458,  0.01758122,  0.04123239],\n",
              "        [ 0.11082035,  0.19771582,  0.06376566,  0.07752399,\n",
              "         -0.00730928,  0.01256631,  0.0371238 ],\n",
              "        [ 0.10662764,  0.18800956,  0.06413349,  0.0847376 ,\n",
              "         -0.0031019 ,  0.00707685,  0.03298473],\n",
              "        [ 0.10527736,  0.18058991,  0.06324201,  0.08532712,\n",
              "         -0.00245301,  0.00716223,  0.03465038],\n",
              "        [ 0.10475121,  0.17593527,  0.06301728,  0.08404609,\n",
              "         -0.00269152,  0.00809994,  0.03678314],\n",
              "        [ 0.1043475 ,  0.1726799 ,  0.06267501,  0.08355369,\n",
              "         -0.00273107,  0.00861791,  0.03808428],\n",
              "        [ 0.10447109,  0.1704768 ,  0.06232381,  0.08197171,\n",
              "         -0.00335628,  0.00991947,  0.0400597 ],\n",
              "        [ 0.10531589,  0.17036937,  0.06208371,  0.07921068,\n",
              "         -0.00466295,  0.01200118,  0.04248434],\n",
              "        [ 0.10716781,  0.17449683,  0.06248775,  0.07506222,\n",
              "         -0.00677391,  0.01465583,  0.0447075 ],\n",
              "        [ 0.10756431,  0.17743191,  0.06318888,  0.07480599,\n",
              "         -0.006938  ,  0.01437397,  0.0438128 ],\n",
              "        [ 0.10763207,  0.17849864,  0.06340761,  0.07504091,\n",
              "         -0.00686037,  0.01407282,  0.04324928],\n",
              "        [ 0.10767967,  0.17848405,  0.06382082,  0.07424475,\n",
              "         -0.007096  ,  0.01430806,  0.04359296],\n",
              "        [ 0.10781863,  0.17907712,  0.06411583,  0.0737536 ,\n",
              "         -0.00728199,  0.01443772,  0.04365477]]], dtype=float32)>"
            ]
          },
          "metadata": {},
          "execution_count": 26
        }
      ]
    },
    {
      "cell_type": "code",
      "source": [
        "model_preds = denormalize_series(model_preds, data1.min(axis=0), data1.max(axis=0))\n",
        "#model_preds=(model_preds*train_std)+train_mean\n",
        "model_preds[:1]"
      ],
      "metadata": {
        "colab": {
          "base_uri": "https://localhost:8080/"
        },
        "id": "uYajNmxiqJLm",
        "outputId": "396dd8cb-4321-4425-9258-a1f2b14a1d44"
      },
      "execution_count": 29,
      "outputs": [
        {
          "output_type": "execute_result",
          "data": {
            "text/plain": [
              "<tf.Tensor: shape=(1, 24, 7), dtype=float32, numpy=\n",
              "array([[[ 1.03667152e+00,  1.15585625e-01,  2.26284637e+02,\n",
              "          4.73627853e+00,  5.36422670e-01, -6.33692369e-02,\n",
              "          7.16392338e-01],\n",
              "        [ 1.10437691e+00,  1.30710095e-01,  2.26276093e+02,\n",
              "          4.20941544e+00, -4.88546230e-02,  7.03813672e-01,\n",
              "          8.66186619e-01],\n",
              "        [ 1.16823947e+00,  1.51919633e-01,  2.26268066e+02,\n",
              "          3.94937634e+00, -4.46444988e-01,  1.12116027e+00,\n",
              "          8.78992677e-01],\n",
              "        [ 1.19551623e+00,  1.64445743e-01,  2.26289581e+02,\n",
              "          3.90230989e+00, -5.65748632e-01,  1.16565847e+00,\n",
              "          8.28962028e-01],\n",
              "        [ 1.19087672e+00,  1.67144150e-01,  2.26300613e+02,\n",
              "          4.04313946e+00, -4.53688085e-01,  9.56360340e-01,\n",
              "          7.53207147e-01],\n",
              "        [ 1.14294600e+00,  1.57485202e-01,  2.26324020e+02,\n",
              "          4.41408396e+00, -3.45645323e-02,  3.80368680e-01,\n",
              "          6.33794785e-01],\n",
              "        [ 1.12939918e+00,  1.48305774e-01,  2.26309174e+02,\n",
              "          4.34554482e+00, -3.67003269e-02,  4.85578984e-01,\n",
              "          7.11946249e-01],\n",
              "        [ 1.13339984e+00,  1.43270135e-01,  2.26301865e+02,\n",
              "          4.12686062e+00, -1.95953384e-01,  7.87250161e-01,\n",
              "          8.28163028e-01],\n",
              "        [ 1.18590736e+00,  1.54646605e-01,  2.26281708e+02,\n",
              "          3.73568797e+00, -6.43261373e-01,  1.38738430e+00,\n",
              "          9.46166992e-01],\n",
              "        [ 1.20744371e+00,  1.63206741e-01,  2.26294464e+02,\n",
              "          3.66235209e+00, -7.62530506e-01,  1.47792602e+00,\n",
              "          9.29805696e-01],\n",
              "        [ 1.21613634e+00,  1.68570876e-01,  2.26317261e+02,\n",
              "          3.65948772e+00, -7.87025511e-01,  1.44382811e+00,\n",
              "          8.93998802e-01],\n",
              "        [ 1.23202252e+00,  1.78859189e-01,  2.26373505e+02,\n",
              "          3.63903117e+00, -8.36572528e-01,  1.37133479e+00,\n",
              "          8.24647784e-01],\n",
              "        [ 1.20002723e+00,  1.72803625e-01,  2.26402939e+02,\n",
              "          3.86995029e+00, -5.62814415e-01,  9.80172038e-01,\n",
              "          7.42475927e-01],\n",
              "        [ 1.16196585e+00,  1.64320365e-01,  2.26412872e+02,\n",
              "          4.15560913e+00, -2.38845959e-01,  5.51994145e-01,\n",
              "          6.59694552e-01],\n",
              "        [ 1.14970791e+00,  1.57835588e-01,  2.26388794e+02,\n",
              "          4.17895412e+00, -1.88881740e-01,  5.58654189e-01,\n",
              "          6.93007588e-01],\n",
              "        [ 1.14493155e+00,  1.53767422e-01,  2.26382721e+02,\n",
              "          4.12822533e+00, -2.07247362e-01,  6.31795585e-01,\n",
              "          7.35662818e-01],\n",
              "        [ 1.14126670e+00,  1.50922239e-01,  2.26373474e+02,\n",
              "          4.10872602e+00, -2.10292384e-01,  6.72197163e-01,\n",
              "          7.61685610e-01],\n",
              "        [ 1.14238858e+00,  1.48996726e-01,  2.26363983e+02,\n",
              "          4.04608011e+00, -2.58433551e-01,  7.73718953e-01,\n",
              "          8.01193953e-01],\n",
              "        [ 1.15005779e+00,  1.48902833e-01,  2.26357498e+02,\n",
              "          3.93674326e+00, -3.59047055e-01,  9.36092257e-01,\n",
              "          8.49686801e-01],\n",
              "        [ 1.16686940e+00,  1.52510226e-01,  2.26368408e+02,\n",
              "          3.77246404e+00, -5.21591306e-01,  1.14315486e+00,\n",
              "          8.94150019e-01],\n",
              "        [ 1.17046881e+00,  1.55075490e-01,  2.26387360e+02,\n",
              "          3.76231718e+00, -5.34226060e-01,  1.12116933e+00,\n",
              "          8.76255929e-01],\n",
              "        [ 1.17108393e+00,  1.56007811e-01,  2.26393265e+02,\n",
              "          3.77162004e+00, -5.28248787e-01,  1.09767997e+00,\n",
              "          8.64985585e-01],\n",
              "        [ 1.17151606e+00,  1.55995071e-01,  2.26404434e+02,\n",
              "          3.74009228e+00, -5.46392262e-01,  1.11602843e+00,\n",
              "          8.71859133e-01],\n",
              "        [ 1.17277753e+00,  1.56513408e-01,  2.26412399e+02,\n",
              "          3.72064233e+00, -5.60712874e-01,  1.12614214e+00,\n",
              "          8.73095393e-01]]], dtype=float32)>"
            ]
          },
          "metadata": {},
          "execution_count": 29
        }
      ]
    }
  ]
}